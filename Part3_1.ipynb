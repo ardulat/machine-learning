{
 "cells": [
  {
   "cell_type": "markdown",
   "metadata": {
    "colab_type": "text",
    "id": "q-TIcMFqT-Y7"
   },
   "source": [
    "# Task3: GridSearch"
   ]
  },
  {
   "cell_type": "code",
   "execution_count": 1,
   "metadata": {
    "colab": {},
    "colab_type": "code",
    "collapsed": true,
    "id": "TPXoPFXCT-Y_"
   },
   "outputs": [],
   "source": [
    "from sklearn import datasets\n",
    "from sklearn.linear_model import LinearRegression, LogisticRegression, Ridge\n",
    "from sklearn.svm import SVC, LinearSVC\n",
    "from sklearn.model_selection import train_test_split, cross_val_score, GridSearchCV, validation_curve\n",
    "from sklearn.metrics import accuracy_score\n",
    "import numpy as np\n",
    "import matplotlib.pyplot as plt"
   ]
  },
  {
   "cell_type": "markdown",
   "metadata": {
    "colab_type": "text",
    "id": "Fr5n9_zvT-ZF"
   },
   "source": [
    "## Data import"
   ]
  },
  {
   "cell_type": "code",
   "execution_count": 2,
   "metadata": {
    "colab": {},
    "colab_type": "code",
    "collapsed": true,
    "id": "11sqzjk_T-ZH"
   },
   "outputs": [],
   "source": [
    "digits = datasets.load_digits()\n"
   ]
  },
  {
   "cell_type": "code",
   "execution_count": 3,
   "metadata": {
    "colab": {},
    "colab_type": "code",
    "collapsed": true,
    "id": "720lVl5-T-ZO"
   },
   "outputs": [],
   "source": [
    "X = digits.data\n",
    "y = digits.target"
   ]
  },
  {
   "cell_type": "markdown",
   "metadata": {
    "colab_type": "text",
    "id": "obIey29FT-ZS"
   },
   "source": [
    "## Part 3"
   ]
  },
  {
   "cell_type": "markdown",
   "metadata": {
    "colab_type": "text",
    "id": "iPLEPIGxT-ZU"
   },
   "source": [
    "##  GridSearchCV  and Validation curve for Linear regression with L2 regularization (Ridge)"
   ]
  },
  {
   "cell_type": "code",
   "execution_count": 4,
   "metadata": {
    "colab": {},
    "colab_type": "code",
    "collapsed": true,
    "id": "Z5MBuq0ET-ZW"
   },
   "outputs": [],
   "source": [
    "C = [0.0001, 0.001, 0.01, 0.1, 1, 10, 100]\n",
    "alpha = [1/x for x in C]"
   ]
  },
  {
   "cell_type": "markdown",
   "metadata": {
    "colab_type": "text",
    "id": "0InPN-PoaHWH"
   },
   "source": [
    "GridSearchCV implementation to find best alpha \n",
    "\n"
   ]
  },
  {
   "cell_type": "code",
   "execution_count": 5,
   "metadata": {
    "colab": {
     "base_uri": "https://localhost:8080/",
     "height": 51
    },
    "colab_type": "code",
    "id": "xd02XvAZT-Zb",
    "outputId": "c393ead6-06d6-4091-e20a-ab1a5d514107"
   },
   "outputs": [
    {
     "name": "stdout",
     "output_type": "stream",
     "text": [
      "CPU times: user 1.02 s, sys: 57.1 ms, total: 1.08 s\n",
      "Wall time: 411 ms\n"
     ]
    }
   ],
   "source": [
    "%%time\n",
    "param_grid = { 'alpha' : alpha}\n",
    "grid_search = GridSearchCV(Ridge(), param_grid, cv=10)\n",
    "grid_search.fit(X, y)"
   ]
  },
  {
   "cell_type": "code",
   "execution_count": 6,
   "metadata": {
    "colab": {
     "base_uri": "https://localhost:8080/",
     "height": 51
    },
    "colab_type": "code",
    "id": "WR_5-9BHT-Zi",
    "outputId": "354f96ef-2796-449a-8d6c-d92f92269bd9"
   },
   "outputs": [
    {
     "name": "stdout",
     "output_type": "stream",
     "text": [
      "{'alpha': 0.1}\n",
      "0.534724723181\n"
     ]
    }
   ],
   "source": [
    "model = grid_search.best_params_\n",
    "print(model)\n",
    "print(grid_search.best_score_)\n",
    "\n"
   ]
  },
  {
   "cell_type": "markdown",
   "metadata": {
    "colab_type": "text",
    "id": "h6pPOzJUanra"
   },
   "source": [
    "Validation Curve"
   ]
  },
  {
   "cell_type": "code",
   "execution_count": 7,
   "metadata": {
    "colab": {},
    "colab_type": "code",
    "collapsed": true,
    "id": "U7h_o99GT-Zm"
   },
   "outputs": [],
   "source": [
    "train_scores, test_scores = validation_curve(\n",
    "    Ridge(), X, y, \"alpha\", alpha, cv=10)"
   ]
  },
  {
   "cell_type": "code",
   "execution_count": 10,
   "metadata": {
    "colab": {
     "base_uri": "https://localhost:8080/",
     "height": 397
    },
    "colab_type": "code",
    "id": "lGG03y1IXY53",
    "outputId": "8810dce8-dc64-49af-b1e3-3a8a374de0cb"
   },
   "outputs": [
    {
     "data": {
      "image/png": "[encoded data removed]",
      "text/plain": [
       "<matplotlib.figure.Figure at 0x10e891278>"
      ]
     },
     "metadata": {},
     "output_type": "display_data"
    }
   ],
   "source": [
    "plt.plot(alpha, np.median(train_scores, 1), color='blue', label='training score')\n",
    "plt.plot(alpha, np.median(test_scores, 1), color='red', label='validation score')\n",
    "plt.title(\"Validation Curve for Linear regression with L2 regularization (Ridge)\")\n",
    "plt.xscale('log')\n",
    "plt.xlabel(\"Log scaled Alpha\")\n",
    "plt.ylabel(\"Score\")\n",
    "plt.show()"
   ]
  },
  {
   "cell_type": "markdown",
   "metadata": {
    "colab_type": "text",
    "id": "MRl8yMEpawGA"
   },
   "source": [
    "##  GridSearchCV  and Validation curve for Logistic regression with L2 regularization"
   ]
  },
  {
   "cell_type": "code",
   "execution_count": 0,
   "metadata": {
    "colab": {},
    "colab_type": "code",
    "collapsed": true,
    "id": "x4gmt9IOawGE"
   },
   "outputs": [],
   "source": [
    "C = [0.0001, 0.001, 0.01, 0.1, 1, 10, 100]"
   ]
  },
  {
   "cell_type": "markdown",
   "metadata": {
    "colab_type": "text",
    "id": "OLcxzWHuawGO"
   },
   "source": [
    "GridSearchCV implementation to find best C"
   ]
  },
  {
   "cell_type": "code",
   "execution_count": 31,
   "metadata": {
    "colab": {
     "base_uri": "https://localhost:8080/",
     "height": 51
    },
    "colab_type": "code",
    "id": "3bCKwv-kawGS",
    "outputId": "577b0290-2611-4c01-b8f7-1e928f9093e2"
   },
   "outputs": [
    {
     "name": "stdout",
     "output_type": "stream",
     "text": [
      "CPU times: user 20 s, sys: 5.5 s, total: 25.5 s\n",
      "Wall time: 17.8 s\n"
     ]
    }
   ],
   "source": [
    "%%time\n",
    "param_grid = { 'C' : C}\n",
    "grid_search = GridSearchCV(LogisticRegression(penalty='l2'), param_grid, cv=10)\n",
    "grid_search.fit(X, y)"
   ]
  },
  {
   "cell_type": "code",
   "execution_count": 32,
   "metadata": {
    "colab": {
     "base_uri": "https://localhost:8080/",
     "height": 51
    },
    "colab_type": "code",
    "id": "rruSrV1DawGj",
    "outputId": "30980283-f276-48a1-8558-67c1801bd4b1"
   },
   "outputs": [
    {
     "name": "stdout",
     "output_type": "stream",
     "text": [
      "{'C': 0.01}\n",
      "0.9376739009460211\n"
     ]
    }
   ],
   "source": [
    "model = grid_search.best_params_\n",
    "print(model)\n",
    "print(grid_search.best_score_)"
   ]
  },
  {
   "cell_type": "markdown",
   "metadata": {
    "colab_type": "text",
    "id": "wVpapJzcawG2"
   },
   "source": [
    "Validation Curve"
   ]
  },
  {
   "cell_type": "code",
   "execution_count": 0,
   "metadata": {
    "colab": {},
    "colab_type": "code",
    "collapsed": true,
    "id": "9g3xSkWHawG8"
   },
   "outputs": [],
   "source": [
    "train_scores, test_scores = validation_curve(\n",
    "    LogisticRegression(penalty='l2'), X, y, \"C\", C, cv=10)"
   ]
  },
  {
   "cell_type": "code",
   "execution_count": 13,
   "metadata": {
    "colab": {
     "base_uri": "https://localhost:8080/",
     "height": 397
    },
    "colab_type": "code",
    "id": "NrM_m5hoawHB",
    "outputId": "3cdf76eb-d9fe-49c4-8b31-1243fbcc84d4"
   },
   "outputs": [
    {
     "data": {
      "text/plain": [
       "Text(0,0.5,'Score')"
      ]
     },
     "execution_count": 13,
     "metadata": {
      "tags": []
     },
     "output_type": "execute_result"
    },
    {
     "data": {
      "image/png": "[encoded data removed]",
      "text/plain": [
       "<matplotlib.figure.Figure at 0x7fb003582a20>"
      ]
     },
     "metadata": {
      "tags": []
     },
     "output_type": "display_data"
    }
   ],
   "source": [
    "plt.plot(C, np.median(train_scores, 1), color='blue', label='training score')\n",
    "plt.plot(C, np.median(test_scores, 1), color='red', label='validation score')\n",
    "plt.title(\"Validation Curve for Logistic regression with L2 regularization \")\n",
    "plt.xscale('log')\n",
    "plt.xlabel(\"Log scaled С\")\n",
    "plt.ylabel(\"Score\")"
   ]
  },
  {
   "cell_type": "markdown",
   "metadata": {
    "colab_type": "text",
    "id": "NYelVPVBdiq-"
   },
   "source": [
    "As it could be seen from the graph the most appropriate value for the regularization "
   ]
  },
  {
   "cell_type": "markdown",
   "metadata": {
    "colab_type": "text",
    "id": "4S9hsmiBd3IT"
   },
   "source": [
    "##  GridSearchCV  and Validation curve for LinearSVС with L2 regularization"
   ]
  },
  {
   "cell_type": "code",
   "execution_count": 0,
   "metadata": {
    "colab": {},
    "colab_type": "code",
    "collapsed": true,
    "id": "k3gL8chpd3IV"
   },
   "outputs": [],
   "source": [
    "C = [0.0001, 0.001, 0.01, 0.1, 1, 10, 100]\n"
   ]
  },
  {
   "cell_type": "markdown",
   "metadata": {
    "colab_type": "text",
    "id": "sOwvKiTfd3Ia"
   },
   "source": [
    "GridSearchCV implementation to find best C"
   ]
  },
  {
   "cell_type": "code",
   "execution_count": 41,
   "metadata": {
    "colab": {
     "base_uri": "https://localhost:8080/",
     "height": 51
    },
    "colab_type": "code",
    "id": "V5s7UCKld3Ic",
    "outputId": "6e13a2ba-37fd-45b4-ab1c-f7b65ce61bff"
   },
   "outputs": [
    {
     "name": "stdout",
     "output_type": "stream",
     "text": [
      "CPU times: user 10.9 s, sys: 4.66 s, total: 15.6 s\n",
      "Wall time: 9.02 s\n"
     ]
    }
   ],
   "source": [
    "%%time\n",
    "param_grid = { 'C' : C}\n",
    "grid_search = GridSearchCV(LinearSVC(penalty='l2'), param_grid, cv=10)\n",
    "grid_search.fit(X, y)"
   ]
  },
  {
   "cell_type": "code",
   "execution_count": 42,
   "metadata": {
    "colab": {
     "base_uri": "https://localhost:8080/",
     "height": 51
    },
    "colab_type": "code",
    "id": "CcHjgl1jd3Ik",
    "outputId": "fdc32917-bbae-4722-cfaf-f4f048e60dc7"
   },
   "outputs": [
    {
     "name": "stdout",
     "output_type": "stream",
     "text": [
      "{'C': 0.001}\n",
      "0.9393433500278241\n"
     ]
    }
   ],
   "source": [
    "model = grid_search.best_params_\n",
    "print(model)\n",
    "print(grid_search.best_score_)"
   ]
  },
  {
   "cell_type": "markdown",
   "metadata": {
    "colab_type": "text",
    "id": "3jNUKdNjd3Ir"
   },
   "source": [
    "Validation Curve"
   ]
  },
  {
   "cell_type": "code",
   "execution_count": 0,
   "metadata": {
    "colab": {},
    "colab_type": "code",
    "collapsed": true,
    "id": "o-QUm_Lsd3It"
   },
   "outputs": [],
   "source": [
    "train_scores, test_scores = validation_curve(\n",
    "    LinearSVC(penalty='l2'), X, y, \"C\", C, cv=10)"
   ]
  },
  {
   "cell_type": "code",
   "execution_count": 44,
   "metadata": {
    "colab": {
     "base_uri": "https://localhost:8080/",
     "height": 397
    },
    "colab_type": "code",
    "id": "-khTURUtd3I4",
    "outputId": "52b2aafb-71be-4d35-dcd5-293482bdea54"
   },
   "outputs": [
    {
     "data": {
      "text/plain": [
       "Text(0,0.5,'Score')"
      ]
     },
     "execution_count": 44,
     "metadata": {
      "tags": []
     },
     "output_type": "execute_result"
    },
    {
     "data": {
      "image/png": "[encoded data removed]",
      "text/plain": [
       "<matplotlib.figure.Figure at 0x7faffdd863c8>"
      ]
     },
     "metadata": {
      "tags": []
     },
     "output_type": "display_data"
    }
   ],
   "source": [
    "plt.plot(C, np.median(train_scores, 1), color='blue', label='training score')\n",
    "plt.plot(C, np.median(test_scores, 1), color='red', label='validation score')\n",
    "plt.title(\"Validation Curve for LinearSVC with L2 regularization \")\n",
    "plt.xscale('log')\n",
    "plt.xlabel(\"Log scaled С\")\n",
    "plt.ylabel(\"Score\")"
   ]
  },
  {
   "cell_type": "markdown",
   "metadata": {
    "colab_type": "text",
    "id": "u9VtgwYeT-Zt"
   },
   "source": [
    "## GridSearchCV for SVC with Polynomial kernel"
   ]
  },
  {
   "cell_type": "code",
   "execution_count": 0,
   "metadata": {
    "colab": {},
    "colab_type": "code",
    "collapsed": true,
    "id": "li0qRxOfT-Zw"
   },
   "outputs": [],
   "source": [
    "degree = np.arange(0,10)"
   ]
  },
  {
   "cell_type": "code",
   "execution_count": 27,
   "metadata": {
    "colab": {
     "base_uri": "https://localhost:8080/",
     "height": 51
    },
    "colab_type": "code",
    "id": "58lkmX5-Us3T",
    "outputId": "9a3172f1-aa02-4a26-e88f-ccfdac877750"
   },
   "outputs": [
    {
     "name": "stdout",
     "output_type": "stream",
     "text": [
      "CPU times: user 17.9 s, sys: 11.7 ms, total: 17.9 s\n",
      "Wall time: 17.9 s\n"
     ]
    }
   ],
   "source": [
    "%%time\n",
    "param_grid = { 'degree' : degree}\n",
    "grid_search = GridSearchCV(SVC(kernel='poly'), param_grid, cv=10)\n",
    "grid_search.fit(X, y)"
   ]
  },
  {
   "cell_type": "code",
   "execution_count": 28,
   "metadata": {
    "colab": {
     "base_uri": "https://localhost:8080/",
     "height": 51
    },
    "colab_type": "code",
    "id": "qFk6YKscVPIH",
    "outputId": "ff7cdbc4-9fc2-4ad8-bfef-8aab8002f3b5"
   },
   "outputs": [
    {
     "name": "stdout",
     "output_type": "stream",
     "text": [
      "{'degree': 3}\n",
      "0.9788536449638287\n"
     ]
    }
   ],
   "source": [
    "model = grid_search.best_params_\n",
    "print(model)\n",
    "print(grid_search.best_score_)"
   ]
  },
  {
   "cell_type": "code",
   "execution_count": 0,
   "metadata": {
    "colab": {},
    "colab_type": "code",
    "collapsed": true,
    "id": "PqsqfZe7T-Z6"
   },
   "outputs": [],
   "source": [
    "train_scores, test_scores = validation_curve(\n",
    "    SVC(kernel='poly'), X, y, param_name=\"degree\", param_range=degree,\n",
    "    cv=10, scoring=\"accuracy\", n_jobs=1)\n"
   ]
  },
  {
   "cell_type": "code",
   "execution_count": 30,
   "metadata": {
    "colab": {
     "base_uri": "https://localhost:8080/",
     "height": 393
    },
    "colab_type": "code",
    "id": "8mH5qdUlT-Z_",
    "outputId": "055c0679-8f8b-43b6-c332-d9cd4845e679"
   },
   "outputs": [
    {
     "data": {
      "text/plain": [
       "Text(0,0.5,'Score')"
      ]
     },
     "execution_count": 30,
     "metadata": {
      "tags": []
     },
     "output_type": "execute_result"
    },
    {
     "data": {
      "image/png": "[encoded data removed]",
      "text/plain": [
       "<matplotlib.figure.Figure at 0x7faffdeb5d30>"
      ]
     },
     "metadata": {
      "tags": []
     },
     "output_type": "display_data"
    }
   ],
   "source": [
    "plt.plot(degree, np.median(train_scores, 1), color='blue', label='training score')\n",
    "plt.plot(degree, np.median(test_scores, 1), color='red', label='validation score')\n",
    "plt.title(\"Validation Curve with SVC with Polynomial kernel\")\n",
    "plt.xlabel(\"Degree\")\n",
    "plt.ylabel(\"Score\")"
   ]
  },
  {
   "cell_type": "markdown",
   "metadata": {
    "colab_type": "text",
    "id": "tSjMFe5weMYV"
   },
   "source": [
    "As it could be seen different parameters of a different models were compared on the MNIST dataset. The linear regression model showed poor performance not exceeding even 60%, while logistic regression and LinearSVC showed similar results just below 95% and the best accuracy score showed SVC with polynomial degree of 3 - 98%. Thus, Support Vector machine performs better then other machine learning algorithms. However, as it could be seen it takes 17.9 seconds to execute, while Linear SVC took just 9 second - two times faster. With not considerable accuracy difference performance time is in more priority. Thus, It in a production it is highly suggested to use LinearSVC with l2 regularization C value of 0.01."
   ]
  }
 ],
 "metadata": {
  "colab": {
   "name": "Part3.ipynb",
   "provenance": [],
   "version": "0.3.2"
  },
  "kernelspec": {
   "display_name": "Python 3",
   "language": "python",
   "name": "python3"
  },
  "language_info": {
   "codemirror_mode": {
    "name": "ipython",
    "version": 3
   },
   "file_extension": ".py",
   "mimetype": "text/x-python",
   "name": "python",
   "nbconvert_exporter": "python",
   "pygments_lexer": "ipython3",
   "version": "3.6.3"
  }
 },
 "nbformat": 4,
 "nbformat_minor": 1
}
