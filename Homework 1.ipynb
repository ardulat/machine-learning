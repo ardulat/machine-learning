{
 "cells": [
  {
   "cell_type": "markdown",
   "metadata": {},
   "source": [
    "# Homework 1"
   ]
  },
  {
   "cell_type": "markdown",
   "metadata": {},
   "source": [
    "By Anuar Maratkhan\n",
    "\n",
    "---"
   ]
  },
  {
   "cell_type": "markdown",
   "metadata": {},
   "source": [
    "## 0.1 Learning exercises"
   ]
  },
  {
   "cell_type": "markdown",
   "metadata": {},
   "source": [
    "### 1. a) Medical diagnosis"
   ]
  },
  {
   "cell_type": "markdown",
   "metadata": {},
   "source": [
    "the input space X: a medical history and symptoms"
   ]
  },
  {
   "cell_type": "markdown",
   "metadata": {},
   "source": [
    "the output space Y: the medical diagnose of the patient (e.g. asthma, flu, etc.)"
   ]
  },
  {
   "cell_type": "markdown",
   "metadata": {},
   "source": [
    "target function f: ideal formula for identifying the medical diagnose for the patient according to the medical history and symptoms"
   ]
  },
  {
   "cell_type": "markdown",
   "metadata": {},
   "source": [
    "### b) Handwritten digit recognition"
   ]
  },
  {
   "cell_type": "markdown",
   "metadata": {},
   "source": [
    "the input space X: handwritten digits (e.g. zip codes)"
   ]
  },
  {
   "cell_type": "markdown",
   "metadata": {},
   "source": [
    "the output space Y: identified actual/true digit (0, 1, 2, 3, ..., 9)"
   ]
  },
  {
   "cell_type": "markdown",
   "metadata": {},
   "source": [
    "target function f: the ideal formula for identifiying handwritten digit"
   ]
  },
  {
   "cell_type": "markdown",
   "metadata": {},
   "source": [
    "### c) Spam filtering"
   ]
  },
  {
   "cell_type": "markdown",
   "metadata": {},
   "source": [
    "the input space X: set of messages containing words occuring or not occuring in spam messages"
   ]
  },
  {
   "cell_type": "markdown",
   "metadata": {},
   "source": [
    "the output space Y: true values of whether the message is spam or not based on the words in the messsage (e.g. +1 for spam, -1 for not spam)"
   ]
  },
  {
   "cell_type": "markdown",
   "metadata": {},
   "source": [
    "target function f: the ideal formula for classifying message as spam or not"
   ]
  },
  {
   "cell_type": "markdown",
   "metadata": {},
   "source": [
    "### d) Electric load problem"
   ]
  },
  {
   "cell_type": "markdown",
   "metadata": {},
   "source": [
    "the input space X: price (e.g. $10, $20), temperature (e.g. +20, -10), day of the week (e.g. Monday, Sunday)"
   ]
  },
  {
   "cell_type": "markdown",
   "metadata": {},
   "source": [
    "the output space Y: electric load measured in kW for example"
   ]
  },
  {
   "cell_type": "markdown",
   "metadata": {},
   "source": [
    "target function f: the ideal formula for identifying the electric load based on the given price, temperature, day of the week"
   ]
  },
  {
   "cell_type": "markdown",
   "metadata": {},
   "source": [
    "### e) Stock price prediction"
   ]
  },
  {
   "cell_type": "markdown",
   "metadata": {},
   "source": [
    "the input space X: past time-series data of prices for a particular stock"
   ]
  },
  {
   "cell_type": "markdown",
   "metadata": {},
   "source": [
    "the output space Y: the price in the future for the given stock"
   ]
  },
  {
   "cell_type": "markdown",
   "metadata": {},
   "source": [
    "target function f: ideal formula to predict future prices based on the past prices of the stock\n",
    "\n",
    "---"
   ]
  },
  {
   "cell_type": "markdown",
   "metadata": {},
   "source": [
    "### 2. a) Determining the age at which particular medical test should be performed"
   ]
  },
  {
   "cell_type": "markdown",
   "metadata": {},
   "source": [
    "Answer: learning approach"
   ]
  },
  {
   "cell_type": "markdown",
   "metadata": {},
   "source": [
    "### b) Classifying numbers into primes and non-primes"
   ]
  },
  {
   "cell_type": "markdown",
   "metadata": {},
   "source": [
    "Answer: design approach"
   ]
  },
  {
   "cell_type": "markdown",
   "metadata": {},
   "source": [
    "### c) Detecting potential fraud in credit card changes"
   ]
  },
  {
   "cell_type": "markdown",
   "metadata": {},
   "source": [
    "Answer: learning approach"
   ]
  },
  {
   "cell_type": "markdown",
   "metadata": {},
   "source": [
    "### d) Determining the time it would take a falling object to hit the ground"
   ]
  },
  {
   "cell_type": "markdown",
   "metadata": {},
   "source": [
    "Answer: design approach"
   ]
  },
  {
   "cell_type": "markdown",
   "metadata": {},
   "source": [
    "### e) Determining the optimal cycle for traffic lights in a busy intersection"
   ]
  },
  {
   "cell_type": "markdown",
   "metadata": {},
   "source": [
    "Answer: learning approach\n",
    "\n",
    "----"
   ]
  },
  {
   "cell_type": "markdown",
   "metadata": {},
   "source": [
    "## 0.2 Perceptron Learning Algorithm"
   ]
  },
  {
   "cell_type": "markdown",
   "metadata": {},
   "source": [
    "### 1. Show that $y(t)w^T(t)x(t) < 0$"
   ]
  },
  {
   "cell_type": "markdown",
   "metadata": {},
   "source": [
    "When $x(t)$ is misclassified by $w(t)$, it means that $w^T(t)x(t) \\neq y(t)$."
   ]
  },
  {
   "cell_type": "markdown",
   "metadata": {},
   "source": [
    "Our output is either +1, or -1. Thus, if $x(t)$ is misclassified, $y(t) = -w^T(t)x(t)$, and this means that $y(t)w^T(t)x(t) = -y(t)y(t) = -y^2(t)$, which in turn is guaranteed to be positive, is less than 0, because of minus sign."
   ]
  },
  {
   "cell_type": "markdown",
   "metadata": {},
   "source": [
    "### 2. Show that $y(t)w^T(t+1)x(t) > y(t)w^T(t)x(t)$"
   ]
  },
  {
   "cell_type": "markdown",
   "metadata": {},
   "source": [
    "Substitute $w(t+1)$ in the left hand side (LHS) of the equation with $w(t+1)$ from $(1.3)$:"
   ]
  },
  {
   "cell_type": "markdown",
   "metadata": {},
   "source": [
    "$$LHS = y(t)(w(t)+y(t)x(t))^Tx(t) = y(t)w^T(t)x(t)+y(t)y(t)x(t)x(t) = y(t)w^T(t)x(t)+y^2(t)x^2(t)$$"
   ]
  },
  {
   "cell_type": "markdown",
   "metadata": {},
   "source": [
    "Put the result in the equation above:"
   ]
  },
  {
   "cell_type": "markdown",
   "metadata": {},
   "source": [
    "$$y(t)w^T(t)x(t) + y^2(t)x^2(t) > y(t)w^T(t)x(t)$$"
   ]
  },
  {
   "cell_type": "markdown",
   "metadata": {},
   "source": [
    "$$y^2(t)x^2(t) > 0$$"
   ]
  },
  {
   "cell_type": "markdown",
   "metadata": {},
   "source": [
    "which is true because $a^2 > 0$."
   ]
  },
  {
   "cell_type": "markdown",
   "metadata": {},
   "source": [
    "### 3. Argue that the move from w(t) to w(t+ 1) is a move 'in the right direction'"
   ]
  },
  {
   "cell_type": "markdown",
   "metadata": {},
   "source": [
    "Let's take into consideration two cases: 1) when $y(t)$ is $+1$; and 2) when $y(t)$ is $-1$."
   ]
  },
  {
   "cell_type": "markdown",
   "metadata": {},
   "source": [
    "Case 1: $y(t)$ is $+1$"
   ]
  },
  {
   "cell_type": "markdown",
   "metadata": {},
   "source": [
    "Then, if $w^T(t)$ misclassifies $x(t)$, it means that $w^T(t)$ is small (because $w^T(t)x(t) < threshold$). And thus, we need to increase $w(t)$ to make it right."
   ]
  },
  {
   "cell_type": "markdown",
   "metadata": {},
   "source": [
    "$$w(t+1) = w(t)+(+1)x(t)$$"
   ]
  },
  {
   "cell_type": "markdown",
   "metadata": {},
   "source": [
    "when $y(t)$ is positive, which guarantees that we will increase $w(t)$ (neglecting $x(t)>0$ for now)"
   ]
  },
  {
   "cell_type": "markdown",
   "metadata": {},
   "source": [
    "Case 2: $y(t)$ is $-1$"
   ]
  },
  {
   "cell_type": "markdown",
   "metadata": {},
   "source": [
    "If $w(t)$ misclassifies $x(t)$, it means that $w(t)$ is too big (because $w^T(t)x(t) > threshold$). And thus, we need to make it smaller enough to classify $y(t)$ right:"
   ]
  },
  {
   "cell_type": "markdown",
   "metadata": {},
   "source": [
    "$$w(t+1) = w(t)+(-1)x(t)$$"
   ]
  },
  {
   "cell_type": "markdown",
   "metadata": {},
   "source": [
    "The two neglected cases are when $x(t)$ is negative. But if $x(t)$ is negative, it means that classification was either small or big due to negativity of $x(t)$, and that will in consequence, increase or decrese $w(t+1)$, respectively.\n",
    "\n",
    "---"
   ]
  },
  {
   "cell_type": "markdown",
   "metadata": {},
   "source": [
    "## 0.3 Experiments with Perceptron Learning Algorithm"
   ]
  },
  {
   "cell_type": "code",
   "execution_count": 4,
   "metadata": {},
   "outputs": [
    {
     "name": "stdout",
     "output_type": "stream",
     "text": [
      "Populating the interactive namespace from numpy and matplotlib\n"
     ]
    }
   ],
   "source": [
    "%pylab inline"
   ]
  },
  {
   "cell_type": "code",
   "execution_count": null,
   "metadata": {},
   "outputs": [],
   "source": [
    "# DATASET GENERATION 1\n",
    "w_true = random.randint(1,10,size=2)\n",
    "b_true = random.randint(1,10)\n",
    "d = 2\n",
    "X = random.uniform(-1,1,(20,d))*10\n",
    "\n",
    "Y = zeros(20)\n",
    "\n",
    "h = X.dot(w_true) + b_true\n",
    "labels = (h > 0)*1\n",
    "Y = labels\n",
    "scatter(X[:, 0], X[:, 1], c=labels)\n",
    "plot(X[:,0],-w_true[0]*X[:,0]/w_true[1]-b_true/w_true[1])"
   ]
  },
  {
   "cell_type": "code",
   "execution_count": null,
   "metadata": {},
   "outputs": [],
   "source": [
    "# PERCEPTRON\n",
    "class Perceptron:\n",
    "    def sign(self, x):\n",
    "        if x > 0:\n",
    "            return 1.0\n",
    "        else:\n",
    "            return -1.0\n",
    "    \n",
    "    def __init__(self, w_true, b_true, d):\n",
    "        self.w_true = w_true\n",
    "        self.b_true = b_true\n",
    "        self.d = d\n",
    "        \n",
    "    def predict(self, X):\n",
    "        y_pred = sign(self.w[1:].dot(X.T) + self.w[0])\n",
    "        return y_pred\n",
    "\n",
    "    def fit(self, X_data, Y_data, size=20, max_epochs=1000):\n",
    "        \n",
    "        self.w = zeros(self.d+1)\n",
    "        self.epochs = 0\n",
    "        self.error_count = 1\n",
    "        \n",
    "        while (self.error_count > 0):\n",
    "            self.error_count = 0\n",
    "            self.epochs += 1\n",
    "            if (self.epochs >= max_epochs):\n",
    "                break\n",
    "\n",
    "            for i in range(X_data.shape[0]):\n",
    "                y_pred = self.predict(X_data[i])\n",
    "                y_true = Y_data[i]\n",
    "\n",
    "                if y_pred == 0:\n",
    "                    y_pred = -1\n",
    "                if y_true == 0:\n",
    "                    y_true = -1\n",
    "\n",
    "                if (y_pred != y_true):\n",
    "                    # update weights\n",
    "                    self.error_count += 1\n",
    "                    self.w[1:] = self.w[1:] + y_true*X[i]\n",
    "                    self.w[0] = self.w[0] + y_true\n",
    "\n",
    "    def results(self, X_data, Y_data):               \n",
    "        print(\"EPOCHS = \" + str(self.epochs))\n",
    "        print(\"Error rate = \" + str(self.error_count))\n",
    "        colors = ['b' if l == 1 else 'r' for l in Y_data]\n",
    "        scatter(X_data[:,0], X_data[:,1], c=Y_data)\n",
    "        plot(X_data[:,0],-self.w_true[0]*X_data[:,0]/self.w_true[1]-self.b_true/self.w_true[1], color='r', label='true')\n",
    "        plot(X_data[:,0],-self.w[1]*X_data[:,0]/self.w[2]-self.w[0]/self.w[2], color='b', label='predicted')\n",
    "        legend()\n",
    "    \n",
    "p = Perceptron(w_true, b_true, d)\n",
    "p.fit(X, Y)\n",
    "p.results(X, Y)"
   ]
  },
  {
   "cell_type": "markdown",
   "metadata": {},
   "source": [
    "Comment: as we see from the figure above, the final hypothesis $g$ is very close to target function $f$, which we are trying to approximate. Even though, they don't lie on the same line and the slopes are still different, they both have decision boundaries of the same accuracy distinguishing two classes right."
   ]
  },
  {
   "cell_type": "code",
   "execution_count": null,
   "metadata": {
    "collapsed": true
   },
   "outputs": [],
   "source": [
    "# DATASET GENERATION 2\n",
    "w_true = random.randint(1,10,size=2)\n",
    "b_true = random.randint(1,10)\n",
    "d = 2\n",
    "X = random.uniform(-1,1,(20,d))*10\n",
    "\n",
    "Y = zeros(20)\n",
    "\n",
    "h = X.dot(w_true) + b_true\n",
    "labels = (h > 0)*1\n",
    "Y = labels\n",
    "scatter(X[:, 0], X[:, 1], c=labels)\n",
    "plot(X[:,0],-w_true[0]*X[:,0]/w_true[1]-b_true/w_true[1])"
   ]
  },
  {
   "cell_type": "code",
   "execution_count": null,
   "metadata": {
    "collapsed": true
   },
   "outputs": [],
   "source": [
    "p = Perceptron(w_true, b_true, d)\n",
    "p.fit(X, Y)\n",
    "p.results(X, Y)"
   ]
  },
  {
   "cell_type": "code",
   "execution_count": null,
   "metadata": {
    "collapsed": true
   },
   "outputs": [],
   "source": [
    "# DATASET GENERATION 3\n",
    "w_true = random.randint(1,10,size=2)\n",
    "b_true = random.randint(1,10)\n",
    "d = 2\n",
    "X = random.uniform(-1,1,(100,d))*10\n",
    "\n",
    "Y = zeros(20)\n",
    "\n",
    "h = X.dot(w_true) + b_true\n",
    "labels = (h > 0)*1\n",
    "Y = labels\n",
    "scatter(X[:, 0], X[:, 1], c=labels)\n",
    "plot(X[:,0],-w_true[0]*X[:,0]/w_true[1]-b_true/w_true[1])"
   ]
  },
  {
   "cell_type": "code",
   "execution_count": null,
   "metadata": {
    "collapsed": true
   },
   "outputs": [],
   "source": [
    "p = Perceptron(w_true, b_true, d)\n",
    "p.fit(X, Y, size=100)\n",
    "p.results(X, Y)"
   ]
  },
  {
   "cell_type": "code",
   "execution_count": null,
   "metadata": {
    "collapsed": true
   },
   "outputs": [],
   "source": [
    "# DATASET GENERATION 4\n",
    "w_true = random.randint(1,10,size=2)\n",
    "b_true = random.randint(1,10)\n",
    "d = 2\n",
    "X = random.uniform(-1,1,(1000,d))*10\n",
    "\n",
    "Y = zeros(20)\n",
    "\n",
    "h = X.dot(w_true) + b_true\n",
    "labels = (h > 0)*1\n",
    "Y = labels\n",
    "scatter(X[:, 0], X[:, 1], c=labels)\n",
    "plot(X[:,0],-w_true[0]*X[:,0]/w_true[1]-b_true/w_true[1])"
   ]
  },
  {
   "cell_type": "code",
   "execution_count": null,
   "metadata": {
    "collapsed": true
   },
   "outputs": [],
   "source": [
    "p = Perceptron(w_true, b_true, d)\n",
    "p.fit(X, Y, size=1000)\n",
    "p.results(X, Y)"
   ]
  },
  {
   "cell_type": "markdown",
   "metadata": {},
   "source": [
    "Comment: as we see from the above experiments, number of epochs (iterations) increases with the dataset size.\n",
    "\n",
    "---"
   ]
  },
  {
   "cell_type": "markdown",
   "metadata": {},
   "source": [
    "## 0.4 Pocket Algorithm"
   ]
  },
  {
   "cell_type": "code",
   "execution_count": 5,
   "metadata": {
    "collapsed": true
   },
   "outputs": [],
   "source": [
    "# GENERATE DATA\n",
    "def generate_data(size):\n",
    "    w_true = random.randint(1,10,size=2)\n",
    "    b_true = random.randint(1,10)\n",
    "    d = 2\n",
    "    X = random.uniform(-1,1,(size,d))*10\n",
    "\n",
    "    Y = zeros(20)\n",
    "\n",
    "    h = X.dot(w_true) + b_true\n",
    "    labels = (h > 0)*1\n",
    "\n",
    "    # randomly choose 10\n",
    "    indexes = random.randint(size, size=10)\n",
    "    # flip chosen Ys\n",
    "    for i in indexes:\n",
    "        if (labels[i] == 1):\n",
    "            labels[i] = 0\n",
    "        else:\n",
    "            labels[i] = 1\n",
    "    Y = labels\n",
    "    \n",
    "    return X, Y, w_true, b_true, d\n",
    "    "
   ]
  },
  {
   "cell_type": "code",
   "execution_count": 64,
   "metadata": {},
   "outputs": [],
   "source": [
    "# UPDATED PERCEPTRON (which does not stop when error is 0)\n",
    "class PocketPerceptron:\n",
    "    \n",
    "    def sign(self, x):\n",
    "        if x > 0:\n",
    "            return 1.0\n",
    "        else:\n",
    "            return -1.0\n",
    "    \n",
    "    def __init__(self, w_true, b_true, d):\n",
    "        self.w_true = w_true\n",
    "        self.b_true = b_true\n",
    "        self.d = d\n",
    "        \n",
    "    def predict(self, X):\n",
    "        y_pred = sign(self.w[1:].dot(X.T) + self.w[0])\n",
    "        return y_pred\n",
    "    \n",
    "    def predict_pocket(self, X):\n",
    "        y_pred = sign(self.w_pocket[1:].dot(X.T) + self.w_pocket[0])\n",
    "        return y_pred\n",
    "\n",
    "    def fit(self, X_data, Y_data, size=20, max_epochs=1000):\n",
    "        \n",
    "        self.w = zeros(self.d+1)\n",
    "        self.w_pocket = np.copy(self.w)\n",
    "        self.epochs = max_epochs\n",
    "        \n",
    "        E_in = []\n",
    "        E_in_pocket = []\n",
    "        \n",
    "        error_count = 0\n",
    "        error_count_pocket = 1001 # set it to some max value for now\n",
    "        \n",
    "        for j in range(self.epochs): # 1000 iterations\n",
    "            \n",
    "            error_count = 0\n",
    "            \n",
    "#            Run PLA for one update to obtain w(t + 1).\n",
    "            for i in range(X_data.shape[0]):\n",
    "                y_pred = self.predict(X_data[i])\n",
    "                y_true = Y_data[i]\n",
    "\n",
    "                if y_pred == 0:\n",
    "                    y_pred = -1\n",
    "                if y_true == 0:\n",
    "                    y_true = -1\n",
    "\n",
    "                if y_pred != y_true:      \n",
    "                    error_count += 1\n",
    "                    self.w[1:] += y_true * X_data[i]\n",
    "                    self.w[0] += y_true\n",
    "                \n",
    "#            Evaluate Ein(w(t + 1)).\n",
    "#            If w(t + 1) is better than w in terms of Ein, set w_pocket to w(t + 1).\n",
    "            if error_count < error_count_pocket:\n",
    "                self.w_pocket = np.copy(self.w)\n",
    "                error_count_pocket = error_count\n",
    "\n",
    "            E_in.append(error_count)\n",
    "            E_in_pocket.append(error_count_pocket)\n",
    "            \n",
    "        return E_in, E_in_pocket\n",
    "    \n",
    "    def test(self, X_test, Y_test):\n",
    "        E_out = []\n",
    "        E_out_pocket = []\n",
    "\n",
    "        error_count = 0\n",
    "        error_count_pocket = 0\n",
    "        \n",
    "        self.epochs = 1000\n",
    "        \n",
    "        for j in range(self.epochs): # 1000 iterations\n",
    "            \n",
    "            error_count = 0\n",
    "            error_count_pocket = 0\n",
    "            \n",
    "            for i in range(X_test.shape[0]):\n",
    "                y_true = Y_test[i]\n",
    "                if y_true == 0:\n",
    "                    y_true = -1\n",
    "\n",
    "                # evaluate E_out\n",
    "                y_pred = self.predict(X_test[i])\n",
    "                y_pred_pocket = self.predict_pocket(X_test[i])\n",
    "\n",
    "                if y_pred == 0:\n",
    "                    y_pred = -1\n",
    "                if y_pred_pocket == 0:\n",
    "                    y_pred_pocket = -1\n",
    "\n",
    "                if (y_pred != y_true):\n",
    "                    error_count += 1\n",
    "                if (y_pred_pocket != y_true):\n",
    "                    error_count_pocket += 1\n",
    "\n",
    "            E_out.append(error_count)\n",
    "            E_out_pocket.append(error_count_pocket)\n",
    "\n",
    "        return E_out, E_out_pocket\n",
    "\n"
   ]
  },
  {
   "cell_type": "code",
   "execution_count": 67,
   "metadata": {},
   "outputs": [
    {
     "name": "stdout",
     "output_type": "stream",
     "text": [
      "[26, 25, 27, 28, 25, 27, 24, 27, 28, 25, 24, 27, 25, 26, 26, 26, 23, 27, 24, 26]\n",
      "[26, 25, 25, 25, 25, 25, 24, 24, 24, 24, 24, 24, 24, 24, 24, 24, 23, 23, 23, 23]\n",
      "EXPERIMENT #1 DONE.\n",
      "\n",
      "[24, 19, 23, 23, 25, 22, 21, 19, 20, 22, 20, 18, 21, 22, 22, 19, 23, 22, 22, 23]\n",
      "[24, 19, 19, 19, 19, 19, 19, 19, 19, 19, 19, 18, 18, 18, 18, 18, 18, 18, 18, 18]\n",
      "EXPERIMENT #2 DONE.\n",
      "\n",
      "[34, 30, 25, 22, 26, 21, 21, 23, 24, 25, 22, 18, 22, 18, 22, 18, 22, 18, 22, 18]\n",
      "[34, 30, 25, 22, 22, 21, 21, 21, 21, 21, 21, 18, 18, 18, 18, 18, 18, 18, 18, 18]\n",
      "EXPERIMENT #3 DONE.\n",
      "\n",
      "[30, 24, 24, 25, 27, 28, 27, 25, 28, 23, 25, 23, 26, 26, 24, 25, 24, 26, 29, 27]\n",
      "[30, 24, 24, 24, 24, 24, 24, 24, 24, 23, 23, 23, 23, 23, 23, 23, 23, 23, 23, 23]\n",
      "EXPERIMENT #4 DONE.\n",
      "\n",
      "[25, 21, 24, 20, 22, 17, 24, 20, 21, 22, 19, 22, 22, 21, 20, 18, 20, 22, 22, 21]\n",
      "[25, 21, 21, 20, 20, 17, 17, 17, 17, 17, 17, 17, 17, 17, 17, 17, 17, 17, 17, 17]\n",
      "EXPERIMENT #5 DONE.\n",
      "\n"
     ]
    }
   ],
   "source": [
    "# PERCEPTRON WITH POCKET\n",
    "list_of_E_ins = []\n",
    "list_of_E_ins_pocket = []\n",
    "list_of_E_outs = []\n",
    "list_of_E_outs_pocket = []\n",
    "\n",
    "\n",
    "for num in range(5):\n",
    "    \n",
    "    # TRAIN DATASET GENERATION\n",
    "    X_train, Y_train, w_true, b_true, d = generate_data(size=100)\n",
    "    \n",
    "    # POCKET ALGORITHM\n",
    "    pocket_p = PocketPerceptron(w_true, b_true, d)\n",
    "    \n",
    "    E_in, E_in_pocket = pocket_p.fit(X_train, Y_train)\n",
    "    print(E_in[:20])\n",
    "    print(E_in_pocket[:20])\n",
    "            \n",
    "    list_of_E_ins.append(E_in)\n",
    "    list_of_E_ins_pocket.append(E_in_pocket)\n",
    "        \n",
    "    # TEST DATASET GENERATION\n",
    "    X_test, Y_test, w_true, b_true, d = generate_data(size=1000)\n",
    "    \n",
    "    # TEST SET EVALUATION\n",
    "    E_out, E_out_pocket = pocket_p.test(X_test, Y_test)\n",
    "            \n",
    "    list_of_E_outs.append(E_out)\n",
    "    list_of_E_outs_pocket.append(E_out_pocket)\n",
    "\n",
    "    print(\"EXPERIMENT #\"+str(num+1)+\" DONE.\")\n",
    "    print()"
   ]
  },
  {
   "cell_type": "code",
   "execution_count": 80,
   "metadata": {},
   "outputs": [
    {
     "data": {
      "text/plain": [
       "<matplotlib.legend.Legend at 0x137720ef0>"
      ]
     },
     "execution_count": 80,
     "metadata": {},
     "output_type": "execute_result"
    },
    {
     "data": {
      "image/png": "[encoded data removed]",
      "text/plain": [
       "<matplotlib.figure.Figure at 0x11ca96eb8>"
      ]
     },
     "metadata": {},
     "output_type": "display_data"
    }
   ],
   "source": [
    "# AVERAGE ERRORS\n",
    "def average_error(list_of_errors):\n",
    "\n",
    "    average = [0] * len(list_of_errors[0])\n",
    "    \n",
    "    for i in range(len(list_of_errors)):\n",
    "        for j in range(len(list_of_errors[i])):\n",
    "            average[j] += list_of_errors[i][j]\n",
    "    \n",
    "    for j in range(len(average)):\n",
    "        average[j] = average[j] / 20\n",
    "    \n",
    "    return average\n",
    "\n",
    "E_in_average = average_error(list_of_E_ins)\n",
    "E_in_pocket_average = average_error(list_of_E_ins_pocket)\n",
    "E_out_average = average_error(list_of_E_outs)\n",
    "E_out_pocket_average = average_error(list_of_E_outs_pocket)\n",
    "\n",
    "figure(figsize=(10,5))\n",
    "\n",
    "plot(list(range(1000)), E_in_average, label='E_in')\n",
    "plot(list(range(1000)), E_in_pocket_average, label='E_in_pocket')\n",
    "ylabel('error rate')\n",
    "xlabel('iterations')\n",
    "title('Average of all experiments')\n",
    "legend()"
   ]
  },
  {
   "cell_type": "markdown",
   "metadata": {
    "collapsed": true
   },
   "source": [
    "Comment: as we see from the figure above, $E_{in}(w)$ gives different results, however, $E_{in}(w^*)$ (pocket PLA) gives better results. In addition, we observe that $E_{in}(w^*)$ does not change when $E_{in}(w)$ increases, so that plateau means that $E_{in}(w)$ gives worse results in comparison to the $E_{in}(w^*)$ (to the weights that are in the pocket)."
   ]
  },
  {
   "cell_type": "markdown",
   "metadata": {},
   "source": [
    "Note: the figure above does not look like Figure 3.2 from the book, because it is averaged for all 20 experiments. If we consider ploting only one experiment, we can observe this:"
   ]
  },
  {
   "cell_type": "code",
   "execution_count": 79,
   "metadata": {},
   "outputs": [
    {
     "data": {
      "text/plain": [
       "<matplotlib.legend.Legend at 0x132b59dd8>"
      ]
     },
     "execution_count": 79,
     "metadata": {},
     "output_type": "execute_result"
    },
    {
     "data": {
      "image/png": "[encoded data removed]",
      "text/plain": [
       "<matplotlib.figure.Figure at 0x11caa07b8>"
      ]
     },
     "metadata": {},
     "output_type": "display_data"
    }
   ],
   "source": [
    "figure(figsize=(10,5))\n",
    "\n",
    "plot(list(range(1000)), list_of_E_ins[0], label='E_in')\n",
    "plot(list(range(1000)), list_of_E_ins_pocket[0], label='E_in_pocket')\n",
    "ylabel('error rate')\n",
    "xlabel('iterations')\n",
    "title('First experiment')\n",
    "legend()"
   ]
  },
  {
   "cell_type": "code",
   "execution_count": null,
   "metadata": {
    "collapsed": true
   },
   "outputs": [],
   "source": []
  }
 ],
 "metadata": {
  "kernelspec": {
   "display_name": "Python 3",
   "language": "python",
   "name": "python3"
  },
  "language_info": {
   "codemirror_mode": {
    "name": "ipython",
    "version": 3
   },
   "file_extension": ".py",
   "mimetype": "text/x-python",
   "name": "python",
   "nbconvert_exporter": "python",
   "pygments_lexer": "ipython3",
   "version": "3.6.3"
  }
 },
 "nbformat": 4,
 "nbformat_minor": 2
}
