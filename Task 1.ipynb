{
 "cells": [
  {
   "cell_type": "code",
   "execution_count": 1,
   "metadata": {},
   "outputs": [
    {
     "name": "stdout",
     "output_type": "stream",
     "text": [
      "Populating the interactive namespace from numpy and matplotlib\n"
     ]
    }
   ],
   "source": [
    "% pylab inline"
   ]
  },
  {
   "cell_type": "code",
   "execution_count": 145,
   "metadata": {
    "collapsed": true
   },
   "outputs": [],
   "source": [
    "def find_error_lin(x, w, y):\n",
    "    E = 0.0\n",
    "    E=dot(y.T,y)-2*dot(w.T,dot(x.T,y))+dot(dot(w.T, x.T),dot(x,w))\n",
    "    return E"
   ]
  },
  {
   "cell_type": "code",
   "execution_count": 146,
   "metadata": {
    "collapsed": true
   },
   "outputs": [],
   "source": [
    "def lin_reg(X_train, X_test, y_train, y_test):\n",
    "    w = np.linalg.pinv(X_train.T.dot(X_train)).dot(X_train.T).dot(y_train)\n",
    "        \n",
    "    return find_error_lin(X_test, w, y_test)"
   ]
  },
  {
   "cell_type": "code",
   "execution_count": 141,
   "metadata": {
    "collapsed": true
   },
   "outputs": [],
   "source": [
    "import random\n",
    "\n",
    "def log_reg(X_train, X_test, y_train, y_test):\n",
    "    train_samples, d = X_train.shape\n",
    "    test_samples = X_test.shape[0]\n",
    "\n",
    "    train_ind = random.sample(range(0,train_samples),train_samples)\n",
    "    test_ind = random.sample(range(0,test_samples),test_samples)\n",
    "\n",
    "    epochs = 100\n",
    "    learning_rate = 0.0001\n",
    "\n",
    "    weights = np.zeros(d+1)\n",
    "\n",
    "    E_in = []\n",
    "\n",
    "    for epoch in range(epochs):\n",
    "        E_in_total = 0\n",
    "        for ind in train_ind:\n",
    "            extended_X_train = np.append(X_train[ind],1)\n",
    "            cross_entropy_error = np.log(1+np.exp(-y_train[ind]*2*np.dot(weights.T, extended_X_train)))\n",
    "            weights = weights + learning_rate * cross_entropy_error # does not work with minus sign!\n",
    "\n",
    "            E_in_total += cross_entropy_error\n",
    "        E_in_average = E_in_total / train_samples\n",
    "        E_in.append(E_in_average)\n",
    "#         print(\"EPOCH %d/%d \\t Train error: %.5f\" % (epoch, epochs, E_in_average))\n",
    "\n",
    "    E_out_total = 0\n",
    "    for ind in test_ind:\n",
    "        extended_X_test = np.append(X_test[ind],1)\n",
    "        cross_entropy_error = np.log(1+np.exp(-y_test[ind]*2*np.dot(weights.T, extended_X_test)))\n",
    "\n",
    "        E_out_total += cross_entropy_error\n",
    "    E_out_average = E_out_total / test_samples\n",
    "\n",
    "    return E_out_average"
   ]
  },
  {
   "cell_type": "code",
   "execution_count": 114,
   "metadata": {
    "collapsed": true
   },
   "outputs": [],
   "source": [
    "def split_folds(X, y, folds=10):\n",
    "    fold_size = int(X.shape[0] / folds)\n",
    "    folds_dict = {}\n",
    "    X_list = []\n",
    "    y_list = []\n",
    "    for i in range(folds-1):\n",
    "        X_fold = X[fold_size*i : fold_size*i+fold_size]\n",
    "        y_fold = y[fold_size*i : fold_size*i+fold_size]\n",
    "        X_list.append(X_fold)\n",
    "        y_list.append(y_fold)\n",
    "        \n",
    "    # take rest of the data\n",
    "    X_fold = X[fold_size*(folds-1):]\n",
    "    y_fold = y[fold_size*(folds-1):]\n",
    "    X_list.append(X_fold)\n",
    "    y_list.append(y_fold)\n",
    "    \n",
    "    folds_dict['X'] = X_list\n",
    "    folds_dict['y'] = y_list\n",
    "    \n",
    "    return folds_dict"
   ]
  },
  {
   "cell_type": "code",
   "execution_count": 115,
   "metadata": {
    "collapsed": true
   },
   "outputs": [],
   "source": [
    "from sklearn import datasets\n",
    "digits = datasets.load_digits()"
   ]
  },
  {
   "cell_type": "code",
   "execution_count": 116,
   "metadata": {},
   "outputs": [
    {
     "name": "stdout",
     "output_type": "stream",
     "text": [
      "(1797, 64)\n",
      "(1797,)\n"
     ]
    }
   ],
   "source": [
    "X = digits.data\n",
    "y = digits.target\n",
    "print(X.shape)\n",
    "print(y.shape)"
   ]
  },
  {
   "cell_type": "code",
   "execution_count": 133,
   "metadata": {},
   "outputs": [],
   "source": [
    "folds = split_folds(X, y)"
   ]
  },
  {
   "cell_type": "code",
   "execution_count": 147,
   "metadata": {},
   "outputs": [],
   "source": [
    "X_folds = np.array(folds['X'])\n",
    "y_folds = np.array(folds['y'])\n",
    "\n",
    "E_total_linear = []\n",
    "E_total_logistic = []\n",
    "\n",
    "for fold_num in range(len(folds['X'])):\n",
    "    X_test = X_folds[fold_num]\n",
    "    y_test = y_folds[fold_num]\n",
    "\n",
    "    X_temp = np.delete(X_folds, fold_num)\n",
    "    y_temp = np.delete(y_folds, fold_num)\n",
    "\n",
    "    X_train = np.concatenate([X_temp[0]])\n",
    "    for i in range(1,len(X_temp)):\n",
    "        X_train = np.concatenate([X_train, X_temp[i]])\n",
    "\n",
    "    y_train = np.concatenate([y_temp[0]])\n",
    "    for i in range(1,len(y_temp)):\n",
    "        y_train = np.concatenate([y_train, y_temp[i]])\n",
    "        \n",
    "    E_out_linear = lin_reg(X_train, X_test, y_train, y_test)\n",
    "    E_total_linear.append(E_out_linear)\n",
    "    \n",
    "    E_out_logistic = log_reg(X_train, X_test, y_train, y_test)\n",
    "    E_total_logistic.append(E_out_logistic)"
   ]
  },
  {
   "cell_type": "code",
   "execution_count": 148,
   "metadata": {},
   "outputs": [
    {
     "data": {
      "text/plain": [
       "[0.073574281735413194,\n",
       " 0.073574281735413194,\n",
       " 0.065829620500106531,\n",
       " 0.069701951117759856,\n",
       " 0.065829620500106531,\n",
       " 0.061957289882453213,\n",
       " 0.073574281735413194,\n",
       " 0.065829620500106531,\n",
       " 0.073574281735413194,\n",
       " 0.063352161664081016]"
      ]
     },
     "execution_count": 148,
     "metadata": {},
     "output_type": "execute_result"
    }
   ],
   "source": [
    "E_total_logistic"
   ]
  },
  {
   "cell_type": "code",
   "execution_count": 149,
   "metadata": {},
   "outputs": [
    {
     "data": {
      "text/plain": [
       "[962.51381012269894,\n",
       " 533.62572829037072,\n",
       " 631.4869358527385,\n",
       " 626.32877596862636,\n",
       " 698.09266902713989,\n",
       " 510.14708026975859,\n",
       " 546.07601788596094,\n",
       " 803.82434287506021,\n",
       " 892.37686019699959,\n",
       " 907.12118390852902]"
      ]
     },
     "execution_count": 149,
     "metadata": {},
     "output_type": "execute_result"
    }
   ],
   "source": [
    "E_total_linear"
   ]
  },
  {
   "cell_type": "code",
   "execution_count": null,
   "metadata": {
    "collapsed": true
   },
   "outputs": [],
   "source": []
  }
 ],
 "metadata": {
  "kernelspec": {
   "display_name": "Python 3",
   "language": "python",
   "name": "python3"
  },
  "language_info": {
   "codemirror_mode": {
    "name": "ipython",
    "version": 3
   },
   "file_extension": ".py",
   "mimetype": "text/x-python",
   "name": "python",
   "nbconvert_exporter": "python",
   "pygments_lexer": "ipython3",
   "version": "3.6.3"
  }
 },
 "nbformat": 4,
 "nbformat_minor": 2
}
