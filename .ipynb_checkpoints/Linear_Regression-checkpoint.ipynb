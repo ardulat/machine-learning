{
 "cells": [
  {
   "cell_type": "code",
   "execution_count": 1,
   "metadata": {},
   "outputs": [
    {
     "name": "stdout",
     "output_type": "stream",
     "text": [
      "Populating the interactive namespace from numpy and matplotlib\n"
     ]
    }
   ],
   "source": [
    "% pylab inline"
   ]
  },
  {
   "cell_type": "code",
   "execution_count": 2,
   "metadata": {
    "collapsed": true
   },
   "outputs": [],
   "source": [
    "def generate_data(size):\n",
    "    w_true = random.randint(1,10,size=2)\n",
    "    b_true = random.randint(1,10)\n",
    "    \n",
    "    d = 2\n",
    "    X = random.uniform(-1,1,(size,d))*10\n",
    "\n",
    "    Y = zeros(20)\n",
    "\n",
    "    h = X.dot(w_true) + b_true\n",
    "    labels = (h > 0)*1\n",
    "\n",
    "    # randomly choose 10\n",
    "    indexes = random.randint(size, size=10)\n",
    "    # flip chosen Ys\n",
    "    for i in indexes:\n",
    "        if (labels[i] == 1):\n",
    "            labels[i] = 0\n",
    "        else:\n",
    "            labels[i] = 1\n",
    "    Y = labels\n",
    "    \n",
    "    a=ones(size)    #to get bias coordinate x_0=1\n",
    "    a1=a.reshape(size,1)\n",
    "    X1=hstack((a1,X))\n",
    "    \n",
    "    return X1, Y, w_true, b_true"
   ]
  },
  {
   "cell_type": "code",
   "execution_count": 3,
   "metadata": {
    "collapsed": true
   },
   "outputs": [],
   "source": [
    "def find_error(x, w, y):\n",
    "    E = 0.0\n",
    "    for i in range(len(x)):\n",
    "        ypred = dot(x[i],w)\n",
    "        if(ypred > 0 and y[i] == -1): #predicted wrongly as 1st class\n",
    "            E += 1\n",
    "        elif(ypred <= 0 and y[i] == 1): #predicted wrongly as 2nd class\n",
    "            E += 1\n",
    "    return E/x.size #find Error term"
   ]
  },
  {
   "cell_type": "code",
   "execution_count": 4,
   "metadata": {
    "collapsed": true
   },
   "outputs": [],
   "source": [
    "def pocket(x, y, ntimes): # oursize is the number of dots((x1, x2)), ntimes is the number of iterations of pocket algorithm\n",
    "    \n",
    "    t = [] #array of number of updates\n",
    "    tt = 0 #current update number\n",
    "    w= zeros(3)\n",
    "    w_new=[]\n",
    "    E=[]\n",
    "    \n",
    "    \n",
    "    for ii in range (ntimes):\n",
    "        \n",
    "        y_wr_collection = [] #saves indeces of the wrong predicted y.\n",
    "        ypredict=[]\n",
    "        \n",
    "        for i in range(len(x)):\n",
    "            \n",
    "            if dot(x[i],w)>0:\n",
    "                ypredict.append(1)\n",
    "            else: ypredict.append(0)\n",
    "            \n",
    "            if ypredict[i] != y[i]:\n",
    "                y_wr_collection.append(i)\n",
    "\n",
    "        pick_random = np.random.randint(len(y_wr_collection))\n",
    "        w_new = w + (y[pick_random]-ypredict[pick_random]) * x[pick_random]\n",
    "\n",
    "        E_old = find_error(x, w, y)\n",
    "        E_new = find_error(x, w_new, y)\n",
    "\n",
    "        if (E_new < E_old): #compare old and new Error\n",
    "\n",
    "            E.append(E_new) \n",
    "            t.append(tt)\n",
    "            tt += 1\n",
    "            w = np.copy(w_new) #update weight to new weight\n",
    "\n",
    "    return w, E[len(E)-1]"
   ]
  },
  {
   "cell_type": "code",
   "execution_count": 5,
   "metadata": {
    "collapsed": true
   },
   "outputs": [],
   "source": [
    "def lin_reg(x, y): \n",
    "    \n",
    "    y_new=y.reshape(len(y),1)\n",
    "    \n",
    "    INV = np.linalg.inv(dot(x.T,x))\n",
    "    pseudo_inv_x=dot(INV, x.T)\n",
    "    w=dot(pseudo_inv_x,y_new)\n",
    "    \n",
    "    E=find_error(x, w, y)\n",
    "    \n",
    "    return w,E\n"
   ]
  },
  {
   "cell_type": "code",
   "execution_count": 6,
   "metadata": {
    "collapsed": true
   },
   "outputs": [],
   "source": [
    "x_train,y_train,w_true_train, b_true_train=generate_data(100)"
   ]
  },
  {
   "cell_type": "code",
   "execution_count": 7,
   "metadata": {
    "collapsed": true
   },
   "outputs": [],
   "source": [
    "x_test,y_test,w_true_test, b_true_test=generate_data(1000)"
   ]
  },
  {
   "cell_type": "code",
   "execution_count": 8,
   "metadata": {
    "collapsed": true
   },
   "outputs": [],
   "source": [
    "w_pocket, E_pocket=pocket(x_test,y_test,1000)"
   ]
  },
  {
   "cell_type": "code",
   "execution_count": 9,
   "metadata": {
    "collapsed": true
   },
   "outputs": [],
   "source": [
    "w_lin, E_lin=lin_reg(x_test, y_test)"
   ]
  },
  {
   "cell_type": "code",
   "execution_count": 10,
   "metadata": {},
   "outputs": [
    {
     "data": {
      "text/plain": [
       "0.0003333333333333333"
      ]
     },
     "execution_count": 10,
     "metadata": {},
     "output_type": "execute_result"
    }
   ],
   "source": [
    "E_lin"
   ]
  },
  {
   "cell_type": "code",
   "execution_count": 11,
   "metadata": {},
   "outputs": [
    {
     "name": "stdout",
     "output_type": "stream",
     "text": [
      "E_pocket:  0.003  E_lin:  0.0003333333333333333\n"
     ]
    }
   ],
   "source": [
    "print('E_pocket: ', E_pocket, ' E_lin: ', E_lin)"
   ]
  },
  {
   "cell_type": "code",
   "execution_count": 16,
   "metadata": {},
   "outputs": [
    {
     "name": "stdout",
     "output_type": "stream",
     "text": [
      "-0.975147955127 -0.363002555939\n"
     ]
    }
   ],
   "source": [
    "a_pocket = -w_pocket[1]/w_pocket[2]\n",
    "b_pocket = -w_pocket[0]/w_pocket[2]\n",
    "print (a_pocket,b_pocket)"
   ]
  },
  {
   "cell_type": "code",
   "execution_count": 17,
   "metadata": {},
   "outputs": [
    {
     "name": "stdout",
     "output_type": "stream",
     "text": [
      "[-0.95540835] [-10.22968322]\n"
     ]
    }
   ],
   "source": [
    "a_lin = -w_lin[1]/w_lin[2]\n",
    "b_lin = -w_lin[0]/w_lin[2]\n",
    "print (a_lin,b_lin)"
   ]
  },
  {
   "cell_type": "code",
   "execution_count": 19,
   "metadata": {},
   "outputs": [
    {
     "name": "stdout",
     "output_type": "stream",
     "text": [
      "0 :  0.0146666666667\n",
      "1 :  0.005\n",
      "2 :  0.00933333333333\n",
      "3 :  0.023\n",
      "4 :  0.0156666666667\n",
      "5 :  0.0223333333333\n",
      "6 :  0.0166666666667\n",
      "7 :  0.009\n",
      "8 :  0.0113333333333\n",
      "9 :  0.0103333333333\n",
      "10 :  0.006\n",
      "11 :  0.0123333333333\n",
      "12 :  0.0126666666667\n",
      "13 :  0.006\n",
      "14 :  0.00766666666667\n",
      "15 :  0.0193333333333\n",
      "16 :  0.018\n",
      "17 :  0.00966666666667\n",
      "18 :  0.0123333333333\n",
      "19 :  0.013\n",
      "20 :  0.013\n",
      "21 :  0.0133333333333\n",
      "22 :  0.01\n",
      "23 :  0.0136666666667\n",
      "24 :  0.007\n",
      "25 :  0.00733333333333\n",
      "26 :  0.006\n",
      "27 :  0.0116666666667\n",
      "28 :  0.00733333333333\n",
      "29 :  0.00666666666667\n",
      "30 :  0.00966666666667\n",
      "31 :  0.012\n",
      "32 :  0.009\n",
      "33 :  0.0196666666667\n",
      "34 :  0.0226666666667\n",
      "35 :  0.00933333333333\n",
      "36 :  0.0246666666667\n",
      "37 :  0.0176666666667\n",
      "38 :  0.00766666666667\n",
      "39 :  0.0303333333333\n",
      "40 :  0.0166666666667\n",
      "41 :  0.0103333333333\n",
      "42 :  0.015\n",
      "43 :  0.00866666666667\n",
      "44 :  0.00633333333333\n",
      "45 :  0.0176666666667\n",
      "46 :  0.004\n",
      "47 :  0.00833333333333\n",
      "48 :  0.00666666666667\n",
      "49 :  0.00666666666667\n",
      "50 :  0.009\n",
      "51 :  0.00666666666667\n",
      "52 :  0.0186666666667\n",
      "53 :  0.01\n",
      "54 :  0.0216666666667\n",
      "55 :  0.011\n",
      "56 :  0.00933333333333\n",
      "57 :  0.00933333333333\n",
      "58 :  0.015\n",
      "59 :  0.01\n",
      "60 :  0.0193333333333\n",
      "61 :  0.00533333333333\n",
      "62 :  0.0103333333333\n",
      "63 :  0.00766666666667\n",
      "64 :  0.00766666666667\n",
      "65 :  0.006\n",
      "66 :  0.0133333333333\n",
      "67 :  0.00633333333333\n",
      "68 :  0.008\n",
      "69 :  0.00766666666667\n",
      "70 :  0.014\n",
      "71 :  0.0173333333333\n",
      "72 :  0.0176666666667\n",
      "73 :  0.00666666666667\n",
      "74 :  0.01\n",
      "75 :  0.0193333333333\n",
      "76 :  0.00833333333333\n",
      "77 :  0.0203333333333\n",
      "78 :  0.0196666666667\n",
      "79 :  0.00666666666667\n",
      "80 :  0.0133333333333\n",
      "81 :  0.0173333333333\n",
      "82 :  0.00533333333333\n",
      "83 :  0.00733333333333\n",
      "84 :  0.012\n",
      "85 :  0.001\n",
      "86 :  0.0123333333333\n",
      "87 :  0.0113333333333\n",
      "88 :  0.0113333333333\n",
      "89 :  0.005\n",
      "90 :  0.00466666666667\n",
      "91 :  0.012\n",
      "92 :  0.00966666666667\n",
      "93 :  0.0206666666667\n",
      "94 :  0.0113333333333\n",
      "95 :  0.032\n",
      "96 :  0.0113333333333\n",
      "97 :  0.007\n",
      "98 :  0.00666666666667\n",
      "99 :  0.00633333333333\n"
     ]
    }
   ],
   "source": [
    "E_test_pocket=zeros(100)\n",
    "E_test_lin=zeros(100)\n",
    "n=zeros(100)\n",
    "\n",
    "for i in range (100):\n",
    "    w_pocket=0.0\n",
    "    w_lin=0.0\n",
    "    \n",
    "    w_pocket, E_test_pocket[i]=pocket(x_test,y_test,100)\n",
    "    w_lin, E_test_lin[i]=lin_reg(x_test, y_test)\n",
    "    \n",
    "    n[i]=i\n",
    "    \n",
    "    print(i,': ', E_test_pocket[i])\n",
    "    "
   ]
  },
  {
   "cell_type": "code",
   "execution_count": 20,
   "metadata": {},
   "outputs": [
    {
     "name": "stdout",
     "output_type": "stream",
     "text": [
      "E_test_pocket:  [ 0.01466667  0.005       0.00933333  0.023       0.01566667  0.02233333\n",
      "  0.01666667  0.009       0.01133333  0.01033333  0.006       0.01233333\n",
      "  0.01266667  0.006       0.00766667  0.01933333  0.018       0.00966667\n",
      "  0.01233333  0.013       0.013       0.01333333  0.01        0.01366667\n",
      "  0.007       0.00733333  0.006       0.01166667  0.00733333  0.00666667\n",
      "  0.00966667  0.012       0.009       0.01966667  0.02266667  0.00933333\n",
      "  0.02466667  0.01766667  0.00766667  0.03033333  0.01666667  0.01033333\n",
      "  0.015       0.00866667  0.00633333  0.01766667  0.004       0.00833333\n",
      "  0.00666667  0.00666667  0.009       0.00666667  0.01866667  0.01\n",
      "  0.02166667  0.011       0.00933333  0.00933333  0.015       0.01\n",
      "  0.01933333  0.00533333  0.01033333  0.00766667  0.00766667  0.006\n",
      "  0.01333333  0.00633333  0.008       0.00766667  0.014       0.01733333\n",
      "  0.01766667  0.00666667  0.01        0.01933333  0.00833333  0.02033333\n",
      "  0.01966667  0.00666667  0.01333333  0.01733333  0.00533333  0.00733333\n",
      "  0.012       0.001       0.01233333  0.01133333  0.01133333  0.005\n",
      "  0.00466667  0.012       0.00966667  0.02066667  0.01133333  0.032\n",
      "  0.01133333  0.007       0.00666667  0.00633333] E_test_lin:  [ 0.00033333  0.00033333  0.00033333  0.00033333  0.00033333  0.00033333\n",
      "  0.00033333  0.00033333  0.00033333  0.00033333  0.00033333  0.00033333\n",
      "  0.00033333  0.00033333  0.00033333  0.00033333  0.00033333  0.00033333\n",
      "  0.00033333  0.00033333  0.00033333  0.00033333  0.00033333  0.00033333\n",
      "  0.00033333  0.00033333  0.00033333  0.00033333  0.00033333  0.00033333\n",
      "  0.00033333  0.00033333  0.00033333  0.00033333  0.00033333  0.00033333\n",
      "  0.00033333  0.00033333  0.00033333  0.00033333  0.00033333  0.00033333\n",
      "  0.00033333  0.00033333  0.00033333  0.00033333  0.00033333  0.00033333\n",
      "  0.00033333  0.00033333  0.00033333  0.00033333  0.00033333  0.00033333\n",
      "  0.00033333  0.00033333  0.00033333  0.00033333  0.00033333  0.00033333\n",
      "  0.00033333  0.00033333  0.00033333  0.00033333  0.00033333  0.00033333\n",
      "  0.00033333  0.00033333  0.00033333  0.00033333  0.00033333  0.00033333\n",
      "  0.00033333  0.00033333  0.00033333  0.00033333  0.00033333  0.00033333\n",
      "  0.00033333  0.00033333  0.00033333  0.00033333  0.00033333  0.00033333\n",
      "  0.00033333  0.00033333  0.00033333  0.00033333  0.00033333  0.00033333\n",
      "  0.00033333  0.00033333  0.00033333  0.00033333  0.00033333  0.00033333\n",
      "  0.00033333  0.00033333  0.00033333  0.00033333]\n"
     ]
    }
   ],
   "source": [
    "print('E_test_pocket: ',E_test_pocket, 'E_test_lin: ',E_test_lin)"
   ]
  },
  {
   "cell_type": "code",
   "execution_count": 21,
   "metadata": {},
   "outputs": [
    {
     "data": {
      "text/plain": [
       "[<matplotlib.lines.Line2D at 0x10573ea58>]"
      ]
     },
     "execution_count": 21,
     "metadata": {},
     "output_type": "execute_result"
    },
    {
     "data": {
      "image/png": "[encoded data removed]",
      "text/plain": [
       "<matplotlib.figure.Figure at 0x10573e588>"
      ]
     },
     "metadata": {},
     "output_type": "display_data"
    }
   ],
   "source": [
    "plot(n,E_test_pocket)\n",
    "plot(n,E_test_lin)"
   ]
  },
  {
   "cell_type": "code",
   "execution_count": null,
   "metadata": {
    "collapsed": true
   },
   "outputs": [],
   "source": []
  }
 ],
 "metadata": {
  "kernelspec": {
   "display_name": "Python 3",
   "language": "python",
   "name": "python3"
  },
  "language_info": {
   "codemirror_mode": {
    "name": "ipython",
    "version": 3
   },
   "file_extension": ".py",
   "mimetype": "text/x-python",
   "name": "python",
   "nbconvert_exporter": "python",
   "pygments_lexer": "ipython3",
   "version": "3.6.3"
  }
 },
 "nbformat": 4,
 "nbformat_minor": 2
}
