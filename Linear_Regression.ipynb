{
 "cells": [
  {
   "cell_type": "code",
   "execution_count": 654,
   "metadata": {},
   "outputs": [
    {
     "name": "stdout",
     "output_type": "stream",
     "text": [
      "Populating the interactive namespace from numpy and matplotlib\n"
     ]
    }
   ],
   "source": [
    "% pylab inline"
   ]
  },
  {
   "cell_type": "markdown",
   "metadata": {},
   "source": [
    "# 1. Linear Regression"
   ]
  },
  {
   "cell_type": "markdown",
   "metadata": {},
   "source": [
    "Method of Linear Regression is based on minimization of square root error: <br/> <h3 align=\"center\">$\\underset{w}{min}\\sum\\limits_{n=1}^N[y_{n}-(w^{T}x_{n})]^2$</h3><br/>\n",
    "We have used the following algorithm:<br/>\n",
    "1: Constructing the matrix $X$ (input data matrix) and vector $y$ (target vector) from the data set, including $x_{0}=1$ (the column of 1s) <br/>\n",
    "2: Compute the pseudo-inverse $X^{t}=(X^{T}X)^{-1}X^{T}$ of the matrix $X$<br/>\n",
    "3: Return $w_{lin}=X^{t}y$ <br/>\n",
    "\n",
    "For 1st task we implemented four functions: generating random data set, finding error of the model, pocket algorithm, and linesr regression."
   ]
  },
  {
   "cell_type": "code",
   "execution_count": 655,
   "metadata": {
    "collapsed": true
   },
   "outputs": [],
   "source": [
    "# generation random data set with giving size\n",
    "def generate_data(size):\n",
    "    w_true = random.randint(1,10,size=2) #coefficients of Xs \n",
    "    b_true = random.randint(1,10) #bias term\n",
    "    \n",
    "    d = 2\n",
    "    X = random.uniform(-1,1,(size,d))*10 \n",
    "\n",
    "    Y = zeros(20)\n",
    "    \n",
    "#calculating final hypothesis\n",
    "#here the parameters of target function can be extracted: \n",
    "#slope=-w_true[0]/w_true[1], bias=-b_true/w_true[1]\n",
    "\n",
    "    h = X.dot(w_true) + b_true\n",
    "    labels = (h > 0)*1\n",
    "\n",
    "    # randomly choose 10\n",
    "    indexes = random.randint(size, size=10)\n",
    "    # flip chosen Ys\n",
    "    for i in indexes:\n",
    "        if (labels[i] == 1):\n",
    "            labels[i] = 0\n",
    "        else:\n",
    "            labels[i] = 1\n",
    "    Y = labels\n",
    "    \n",
    "    a=ones(size)    #to get bias coordinate x_0=1\n",
    "    a1=a.reshape(size,1)\n",
    "    X1=hstack((a1,X)) #input data matrix\n",
    "    \n",
    "    return X1, Y, w_true, b_true"
   ]
  },
  {
   "cell_type": "code",
   "execution_count": 656,
   "metadata": {
    "collapsed": true
   },
   "outputs": [],
   "source": [
    "def find_error(x, w, y):\n",
    "    E = 0.0\n",
    "    for i in range(len(x)):\n",
    "        ypred = dot(x[i],w)\n",
    "        if(ypred > 0 and y[i] == -1): #predicted wrongly as 1st class\n",
    "            E += 1\n",
    "        elif(ypred <= 0 and y[i] == 1): #predicted wrongly as 2nd class\n",
    "            E += 1\n",
    "    return E/x.size #find Error term by finding mean value"
   ]
  },
  {
   "cell_type": "code",
   "execution_count": 657,
   "metadata": {
    "collapsed": true
   },
   "outputs": [],
   "source": [
    "# oursize is the number of obsevations((x1, x2)), ntimes is the number of iterations of pocket algorithm\n",
    "#w is the initial weights\n",
    "\n",
    "def pocket(x, y, w, ntimes): \n",
    "    \n",
    "    t = [] #array of number of updates\n",
    "    tt = 0 #current update number\n",
    "    #w= zeros(3)\n",
    "    w_new=[]\n",
    "    E=[]\n",
    "    E_val=0.0\n",
    "    \n",
    "    for ii in range (ntimes):\n",
    "        \n",
    "        y_wr_collection = [] #saves indeces of the wrong predicted y\n",
    "        ypredict=[]\n",
    "        \n",
    "        for i in range(len(x)):\n",
    "            \n",
    "            if dot(x[i],w)>0:\n",
    "                ypredict.append(1)\n",
    "            else: ypredict.append(0)\n",
    "            \n",
    "            if ypredict[i] != y[i]:\n",
    "                y_wr_collection.append(i)\n",
    "                \n",
    "        #randomly choose the index of wrong classified x\n",
    "        pick_random = np.random.randint(len(y_wr_collection)) \n",
    "        \n",
    "        #new weight\n",
    "        w_new = w + (y[pick_random]-ypredict[pick_random]) * x[pick_random]\n",
    "\n",
    "        E_old = find_error(x, w, y)\n",
    "        E_new = find_error(x, w_new, y)\n",
    "\n",
    "        if (E_new < E_old): #compare old and new Error\n",
    "\n",
    "            E.append(E_new) \n",
    "            t.append(tt)\n",
    "            tt += 1\n",
    "            w = copy(w_new) #update weight to new weight\n",
    "            E_val=E_new\n",
    "        \n",
    "\n",
    "    return w"
   ]
  },
  {
   "cell_type": "code",
   "execution_count": 658,
   "metadata": {
    "collapsed": true
   },
   "outputs": [],
   "source": [
    "def lin_reg(x, y): \n",
    "    \n",
    "    #to reshape in order to be able to compute dot product\n",
    "    y_new=y.reshape(len(y),1)\n",
    "    \n",
    "    INV = np.linalg.inv(dot(x.T,x)) #inverse\n",
    "    pseudo_inv_x=dot(INV, x.T)\n",
    "    w=dot(pseudo_inv_x,y_new)\n",
    "    \n",
    "    E=find_error(x, w, y)\n",
    "    w1=w.reshape(3)\n",
    "    \n",
    "    return w1\n"
   ]
  },
  {
   "cell_type": "markdown",
   "metadata": {},
   "source": [
    "1. Generating a training data set of size 100:"
   ]
  },
  {
   "cell_type": "code",
   "execution_count": 659,
   "metadata": {
    "collapsed": true
   },
   "outputs": [],
   "source": [
    "x_train,y_train,w_true_train, b_true_train=generate_data(100)"
   ]
  },
  {
   "cell_type": "markdown",
   "metadata": {},
   "source": [
    "2. Generating a test data set of size 1000 of the identical nature of 100."
   ]
  },
  {
   "cell_type": "code",
   "execution_count": 660,
   "metadata": {
    "collapsed": true
   },
   "outputs": [],
   "source": [
    "x_test,y_test,w_true_test, b_true_test=generate_data(1000)"
   ]
  },
  {
   "cell_type": "markdown",
   "metadata": {},
   "source": [
    "3. Run of Pocket algorithm:"
   ]
  },
  {
   "cell_type": "code",
   "execution_count": 661,
   "metadata": {},
   "outputs": [
    {
     "name": "stdout",
     "output_type": "stream",
     "text": [
      "Weights are:  [1.         6.25654088 9.54800547]\n"
     ]
    }
   ],
   "source": [
    "w=zeros(3) #set initial weight vector of 0s\n",
    "w_pocket=pocket(x_train,y_train,w,1000)\n",
    "print ('Weights are: ',w_pocket)"
   ]
  },
  {
   "cell_type": "markdown",
   "metadata": {},
   "source": [
    "4. Run of Linear Regression algorithm:"
   ]
  },
  {
   "cell_type": "code",
   "execution_count": 662,
   "metadata": {},
   "outputs": [
    {
     "name": "stdout",
     "output_type": "stream",
     "text": [
      "Weights are:  [0.50043975 0.02643927 0.05720648]\n"
     ]
    }
   ],
   "source": [
    "w_lin=lin_reg(x_train, y_train)\n",
    "print ('Weights are: ',w_lin)"
   ]
  },
  {
   "cell_type": "code",
   "execution_count": 663,
   "metadata": {},
   "outputs": [
    {
     "name": "stdout",
     "output_type": "stream",
     "text": [
      "Slope of target function is  -0.6666666666666666 bias term is  -0.6666666666666666\n"
     ]
    }
   ],
   "source": [
    "slope_true=-w_true_train[0]/w_true_train[1]\n",
    "bias_true=-b_true_train/w_true_train[1]\n",
    "print('Slope of target function is ',slope_true, 'bias term is ',bias_true)"
   ]
  },
  {
   "cell_type": "code",
   "execution_count": 664,
   "metadata": {},
   "outputs": [
    {
     "name": "stdout",
     "output_type": "stream",
     "text": [
      "Final hypothesis of Pocket algorithm is  g= -0.10473391564760592 x + -0.6552720252839112\n"
     ]
    }
   ],
   "source": [
    "bias_pocket = -w_pocket[1]/w_pocket[2]\n",
    "slope_pocket = -w_pocket[0]/w_pocket[2]\n",
    "print ('Final hypothesis of Pocket algorithm is ', 'g=',slope_pocket,'x','+',bias_pocket)"
   ]
  },
  {
   "cell_type": "code",
   "execution_count": 665,
   "metadata": {},
   "outputs": [
    {
     "name": "stdout",
     "output_type": "stream",
     "text": [
      "-0.46217259843543046 -8.74795647669258\n"
     ]
    }
   ],
   "source": [
    "a_lin = -w_lin[1]/w_lin[2]\n",
    "b_lin = -w_lin[0]/w_lin[2]\n",
    "print (a_lin,b_lin)"
   ]
  },
  {
   "cell_type": "markdown",
   "metadata": {},
   "source": [
    "Here can be clearly seen that the slope values of both Pocket and Linear Reagression algorithms are very close to the slope of target function. However, the bias terms are different for both. It means that the lines approximated by two different algorithms have nearly equal slope but the location with respect to the origin are different."
   ]
  },
  {
   "cell_type": "markdown",
   "metadata": {},
   "source": [
    "5. Claculating $E_{test}(w_{pocket})$ and $E_{test}(w_{lin})$ of the test set:"
   ]
  },
  {
   "cell_type": "code",
   "execution_count": 666,
   "metadata": {},
   "outputs": [
    {
     "data": {
      "text/plain": [
       "0.009333333333333334"
      ]
     },
     "execution_count": 666,
     "metadata": {},
     "output_type": "execute_result"
    }
   ],
   "source": [
    "E_pocket=find_error(x_test, w_pocket, y_test)\n",
    "E_pocket"
   ]
  },
  {
   "cell_type": "code",
   "execution_count": 667,
   "metadata": {},
   "outputs": [
    {
     "data": {
      "text/plain": [
       "0.009333333333333334"
      ]
     },
     "execution_count": 667,
     "metadata": {},
     "output_type": "execute_result"
    }
   ],
   "source": [
    "E_lin=find_error(x_test, w_lin, y_test)\n",
    "E_pocket"
   ]
  },
  {
   "cell_type": "markdown",
   "metadata": {},
   "source": [
    "6. Repeat the experiment 100 times with new data set:"
   ]
  },
  {
   "cell_type": "code",
   "execution_count": 668,
   "metadata": {
    "collapsed": true
   },
   "outputs": [],
   "source": [
    "x_new,y_new,w_true_new, b_true_new=generate_data(1000)"
   ]
  },
  {
   "cell_type": "code",
   "execution_count": 669,
   "metadata": {
    "collapsed": true
   },
   "outputs": [],
   "source": [
    "E_pocket_new=zeros(100)\n",
    "E_lin_new=zeros(100)\n",
    "w_new=zeros(3)\n",
    "n=zeros(100)\n",
    "\n",
    "for i in range (100):\n",
    "    \n",
    "    E_pocket_new[i]=find_error(x_new, w_pocket, y_new)\n",
    "    E_lin_new[i]=find_error(x_new, w_lin, y_test)\n",
    "    \n",
    "    n[i]=i\n"
   ]
  },
  {
   "cell_type": "code",
   "execution_count": 670,
   "metadata": {
    "scrolled": true
   },
   "outputs": [
    {
     "data": {
      "text/plain": [
       "<matplotlib.collections.PathCollection at 0x1a1aca1668>"
      ]
     },
     "execution_count": 670,
     "metadata": {},
     "output_type": "execute_result"
    },
    {
     "data": {
      "image/png": "[encoded data removed]",
      "text/plain": [
       "<Figure size 432x288 with 1 Axes>"
      ]
     },
     "metadata": {},
     "output_type": "display_data"
    }
   ],
   "source": [
    "scatter(n,E_pocket_new*100, c='red')\n",
    "scatter(n,E_lin_new*100, c=\"green\")\n"
   ]
  },
  {
   "cell_type": "code",
   "execution_count": 671,
   "metadata": {},
   "outputs": [
    {
     "data": {
      "text/plain": [
       "<matplotlib.collections.PathCollection at 0x1a1b324208>"
      ]
     },
     "execution_count": 671,
     "metadata": {},
     "output_type": "execute_result"
    },
    {
     "data": {
      "image/png": "[encoded data removed]",
      "text/plain": [
       "<Figure size 432x288 with 1 Axes>"
      ]
     },
     "metadata": {},
     "output_type": "display_data"
    }
   ],
   "source": [
    "scatter(E_pocket_new*100,E_lin_new*100)"
   ]
  },
  {
   "cell_type": "markdown",
   "metadata": {},
   "source": [
    "It can be clearly seen that after repeating experiment 100 times, the algorithm of Linear Regression is more efficient than Pocket. However, both algorithms gives very low error terms (less than 5%). "
   ]
  },
  {
   "cell_type": "markdown",
   "metadata": {},
   "source": [
    "**Pocket Algorithm**<br/>\n",
    "*Results:* <br/>\n",
    "1. It was seen that Pocket Algorithm generates very close parameters (slope and bias) to the target function. \n",
    "2. The Error terms were relatively low, no more than 10%. \n",
    "3. Error term obtained from test set (n=1000) by implemeting weights from training set is identical to the Error term of Linear Regression. <br/>\n"
   ]
  },
  {
   "cell_type": "markdown",
   "metadata": {},
   "source": [
    "*Problems: <br/>*\n",
    "1. The data is not completely separable, that is why it is impossible to get E_pocket = 0\n",
    "2. Pocket algorithm is more time consuming than Linear Regression. "
   ]
  },
  {
   "cell_type": "markdown",
   "metadata": {},
   "source": [
    "**Linear Regression**<br/>\n",
    "*Results:*<br/>\n",
    "1. Efficiently fast and easy calculate weights with low Error terms.\n",
    "2. Get very close parameters to the target function. However, the bias is much more different. It means that the obtained line is located in a different place than target function. Line of Pocket algorithm is closer."
   ]
  },
  {
   "cell_type": "markdown",
   "metadata": {},
   "source": [
    "*Problems:*<br/>\n",
    "1. Calculating pseudo-inverse require matrix being invertible which might not be true for some data sets. Thus, various other function might be implemented, but to find common function which will work for all cases is very hard. \n",
    "2. Linear Regression is limited to linear relationship. We first assume that classification might be done by estimating a line. \n"
   ]
  },
  {
   "cell_type": "markdown",
   "metadata": {},
   "source": [
    "# 2. Gradient Descent for Logistic Regression "
   ]
  },
  {
   "cell_type": "code",
   "execution_count": 683,
   "metadata": {
    "collapsed": true
   },
   "outputs": [],
   "source": [
    "from sklearn.datasets import load_iris\n",
    "iris = load_iris()"
   ]
  },
  {
   "cell_type": "code",
   "execution_count": 684,
   "metadata": {
    "collapsed": true
   },
   "outputs": [],
   "source": [
    "import random\n",
    "\n",
    "def train_test_split(data):\n",
    "    X = iris.data\n",
    "    y = iris.target\n",
    "    \n",
    "    # random sampling\n",
    "    train_size = int(0.8*X.shape[0]) #spliting into D_train=80%\n",
    "    train_ind = random.sample(range(0,150),120) # unique random indices\n",
    "    X_train = X[train_ind]\n",
    "    y_train = y[train_ind]\n",
    "    \n",
    "    #spliting into D_test=80%\n",
    "    test_ind = list(set(range(0,150))-set(train_ind)) \n",
    "    X_test = X[test_ind]\n",
    "    y_test = y[test_ind]\n",
    "\n",
    "    return X_train, y_train, X_test, y_test"
   ]
  },
  {
   "cell_type": "code",
   "execution_count": 685,
   "metadata": {
    "collapsed": true
   },
   "outputs": [],
   "source": [
    "X_train, y_train, X_test, y_test = train_test_split(iris)"
   ]
  },
  {
   "cell_type": "code",
   "execution_count": 686,
   "metadata": {},
   "outputs": [
    {
     "name": "stdout",
     "output_type": "stream",
     "text": [
      "EPOCH 1:\tTrain error: 0.626954\t\tTest error: 0.598739\n",
      "EPOCH 2:\tTrain error: 0.529965\t\tTest error: 0.534957\n",
      "EPOCH 3:\tTrain error: 0.465022\t\tTest error: 0.489631\n",
      "EPOCH 4:\tTrain error: 0.419397\t\tTest error: 0.455991\n",
      "EPOCH 5:\tTrain error: 0.385972\t\tTest error: 0.430117\n",
      "EPOCH 6:\tTrain error: 0.360605\t\tTest error: 0.409629\n",
      "EPOCH 7:\tTrain error: 0.340784\t\tTest error: 0.393019\n",
      "EPOCH 8:\tTrain error: 0.324915\t\tTest error: 0.379293\n",
      "EPOCH 9:\tTrain error: 0.311951\t\tTest error: 0.367771\n",
      "EPOCH 10:\tTrain error: 0.301181\t\tTest error: 0.357973\n",
      "EPOCH 11:\tTrain error: 0.292106\t\tTest error: 0.349550\n",
      "EPOCH 12:\tTrain error: 0.284368\t\tTest error: 0.342245\n",
      "EPOCH 13:\tTrain error: 0.277702\t\tTest error: 0.335861\n",
      "EPOCH 14:\tTrain error: 0.271910\t\tTest error: 0.330244\n",
      "EPOCH 15:\tTrain error: 0.266841\t\tTest error: 0.325277\n",
      "EPOCH 16:\tTrain error: 0.262376\t\tTest error: 0.320862\n",
      "EPOCH 17:\tTrain error: 0.258421\t\tTest error: 0.316922\n",
      "EPOCH 18:\tTrain error: 0.254901\t\tTest error: 0.313394\n",
      "EPOCH 19:\tTrain error: 0.251757\t\tTest error: 0.310224\n",
      "EPOCH 20:\tTrain error: 0.248936\t\tTest error: 0.307369\n",
      "EPOCH 21:\tTrain error: 0.246399\t\tTest error: 0.304790\n",
      "EPOCH 22:\tTrain error: 0.244109\t\tTest error: 0.302456\n",
      "EPOCH 23:\tTrain error: 0.242039\t\tTest error: 0.300340\n",
      "EPOCH 24:\tTrain error: 0.240162\t\tTest error: 0.298419\n",
      "EPOCH 25:\tTrain error: 0.238457\t\tTest error: 0.296671\n",
      "EPOCH 26:\tTrain error: 0.236907\t\tTest error: 0.295078\n",
      "EPOCH 27:\tTrain error: 0.235494\t\tTest error: 0.293626\n",
      "EPOCH 28:\tTrain error: 0.234205\t\tTest error: 0.292300\n",
      "EPOCH 29:\tTrain error: 0.233028\t\tTest error: 0.291088\n",
      "EPOCH 30:\tTrain error: 0.231951\t\tTest error: 0.289980\n",
      "EPOCH 31:\tTrain error: 0.230965\t\tTest error: 0.288965\n",
      "EPOCH 32:\tTrain error: 0.230061\t\tTest error: 0.288035\n",
      "EPOCH 33:\tTrain error: 0.229233\t\tTest error: 0.287183\n",
      "EPOCH 34:\tTrain error: 0.228472\t\tTest error: 0.286400\n",
      "EPOCH 35:\tTrain error: 0.227774\t\tTest error: 0.285682\n",
      "EPOCH 36:\tTrain error: 0.227132\t\tTest error: 0.285023\n",
      "EPOCH 37:\tTrain error: 0.226542\t\tTest error: 0.284417\n",
      "EPOCH 38:\tTrain error: 0.226000\t\tTest error: 0.283860\n",
      "EPOCH 39:\tTrain error: 0.225500\t\tTest error: 0.283347\n",
      "EPOCH 40:\tTrain error: 0.225040\t\tTest error: 0.282876\n",
      "EPOCH 41:\tTrain error: 0.224617\t\tTest error: 0.282442\n",
      "EPOCH 42:\tTrain error: 0.224226\t\tTest error: 0.282043\n",
      "EPOCH 43:\tTrain error: 0.223866\t\tTest error: 0.281675\n",
      "EPOCH 44:\tTrain error: 0.223535\t\tTest error: 0.281336\n",
      "EPOCH 45:\tTrain error: 0.223229\t\tTest error: 0.281023\n",
      "EPOCH 46:\tTrain error: 0.222946\t\tTest error: 0.280736\n",
      "EPOCH 47:\tTrain error: 0.222686\t\tTest error: 0.280470\n",
      "EPOCH 48:\tTrain error: 0.222445\t\tTest error: 0.280225\n",
      "EPOCH 49:\tTrain error: 0.222223\t\tTest error: 0.280000\n",
      "EPOCH 50:\tTrain error: 0.222018\t\tTest error: 0.279791\n",
      "EPOCH 51:\tTrain error: 0.221829\t\tTest error: 0.279599\n",
      "EPOCH 52:\tTrain error: 0.221654\t\tTest error: 0.279422\n",
      "EPOCH 53:\tTrain error: 0.221492\t\tTest error: 0.279258\n",
      "EPOCH 54:\tTrain error: 0.221343\t\tTest error: 0.279107\n",
      "EPOCH 55:\tTrain error: 0.221205\t\tTest error: 0.278968\n",
      "EPOCH 56:\tTrain error: 0.221078\t\tTest error: 0.278839\n",
      "EPOCH 57:\tTrain error: 0.220960\t\tTest error: 0.278720\n",
      "EPOCH 58:\tTrain error: 0.220851\t\tTest error: 0.278610\n",
      "EPOCH 59:\tTrain error: 0.220750\t\tTest error: 0.278509\n",
      "EPOCH 60:\tTrain error: 0.220657\t\tTest error: 0.278415\n",
      "EPOCH 61:\tTrain error: 0.220571\t\tTest error: 0.278328\n",
      "EPOCH 62:\tTrain error: 0.220491\t\tTest error: 0.278248\n",
      "EPOCH 63:\tTrain error: 0.220417\t\tTest error: 0.278174\n",
      "EPOCH 64:\tTrain error: 0.220349\t\tTest error: 0.278106\n",
      "EPOCH 65:\tTrain error: 0.220286\t\tTest error: 0.278042\n",
      "EPOCH 66:\tTrain error: 0.220227\t\tTest error: 0.277984\n",
      "EPOCH 67:\tTrain error: 0.220173\t\tTest error: 0.277930\n",
      "EPOCH 68:\tTrain error: 0.220123\t\tTest error: 0.277880\n",
      "EPOCH 69:\tTrain error: 0.220077\t\tTest error: 0.277834\n",
      "EPOCH 70:\tTrain error: 0.220034\t\tTest error: 0.277791\n",
      "EPOCH 71:\tTrain error: 0.219995\t\tTest error: 0.277752\n",
      "EPOCH 72:\tTrain error: 0.219958\t\tTest error: 0.277715\n",
      "EPOCH 73:\tTrain error: 0.219924\t\tTest error: 0.277681\n",
      "EPOCH 74:\tTrain error: 0.219893\t\tTest error: 0.277650\n",
      "EPOCH 75:\tTrain error: 0.219864\t\tTest error: 0.277621\n",
      "EPOCH 76:\tTrain error: 0.219837\t\tTest error: 0.277594\n",
      "EPOCH 77:\tTrain error: 0.219812\t\tTest error: 0.277569\n",
      "EPOCH 78:\tTrain error: 0.219789\t\tTest error: 0.277547\n",
      "EPOCH 79:\tTrain error: 0.219767\t\tTest error: 0.277525\n",
      "EPOCH 80:\tTrain error: 0.219747\t\tTest error: 0.277506\n",
      "EPOCH 81:\tTrain error: 0.219729\t\tTest error: 0.277488\n",
      "EPOCH 82:\tTrain error: 0.219712\t\tTest error: 0.277471\n",
      "EPOCH 83:\tTrain error: 0.219696\t\tTest error: 0.277455\n",
      "EPOCH 84:\tTrain error: 0.219682\t\tTest error: 0.277441\n",
      "EPOCH 85:\tTrain error: 0.219668\t\tTest error: 0.277427\n",
      "EPOCH 86:\tTrain error: 0.219656\t\tTest error: 0.277415\n",
      "EPOCH 87:\tTrain error: 0.219644\t\tTest error: 0.277404\n",
      "EPOCH 88:\tTrain error: 0.219633\t\tTest error: 0.277393\n",
      "EPOCH 89:\tTrain error: 0.219623\t\tTest error: 0.277383\n",
      "EPOCH 90:\tTrain error: 0.219614\t\tTest error: 0.277374\n",
      "EPOCH 91:\tTrain error: 0.219606\t\tTest error: 0.277366\n",
      "EPOCH 92:\tTrain error: 0.219598\t\tTest error: 0.277358\n",
      "EPOCH 93:\tTrain error: 0.219590\t\tTest error: 0.277351\n",
      "EPOCH 94:\tTrain error: 0.219584\t\tTest error: 0.277344\n",
      "EPOCH 95:\tTrain error: 0.219577\t\tTest error: 0.277338\n",
      "EPOCH 96:\tTrain error: 0.219571\t\tTest error: 0.277332\n",
      "EPOCH 97:\tTrain error: 0.219566\t\tTest error: 0.277327\n",
      "EPOCH 98:\tTrain error: 0.219561\t\tTest error: 0.277322\n",
      "EPOCH 99:\tTrain error: 0.219556\t\tTest error: 0.277317\n",
      "EPOCH 100:\tTrain error: 0.219552\t\tTest error: 0.277313\n"
     ]
    }
   ],
   "source": [
    "train_samples, d = X_train.shape\n",
    "test_samples = X_test.shape[0]\n",
    "\n",
    "train_ind = random.sample(range(0,120),120)\n",
    "test_ind = random.sample(range(0,30),30)\n",
    "\n",
    "epochs = 100\n",
    "learning_rate = 0.0001\n",
    "\n",
    "weights = np.zeros(d+1)\n",
    "\n",
    "E_in = []\n",
    "E_out = []\n",
    "\n",
    "#experiment\n",
    "for epoch in range(epochs):\n",
    "    E_in_total = 0\n",
    "    for ind in train_ind:\n",
    "        extended_X_train = np.append(X_train[ind],1)\n",
    "        cross_entropy_error = np.log(1+np.exp(-y_train[ind]*2*np.dot(weights.T, extended_X_train)))\n",
    "        weights = weights + learning_rate * cross_entropy_error # does not work with minus sign!\n",
    "        \n",
    "        E_in_total += cross_entropy_error\n",
    "    E_in_average = E_in_total / train_samples\n",
    "    E_in.append(E_in_average)\n",
    "    \n",
    "    E_out_total = 0\n",
    "    for ind in test_ind:\n",
    "        extended_X_test = np.append(X_test[ind],1)\n",
    "        cross_entropy_error = np.log(1+np.exp(-y_test[ind]*2*np.dot(weights.T, extended_X_test)))\n",
    "        \n",
    "        E_out_total += cross_entropy_error\n",
    "    E_out_average = E_out_total / test_samples\n",
    "    E_out.append(E_out_average)\n",
    "    \n",
    "    print(\"EPOCH %d:\\tTrain error: %f\\t\\tTest error: %f\" % (epoch+1, E_in_average, E_out_average))"
   ]
  },
  {
   "cell_type": "code",
   "execution_count": 687,
   "metadata": {},
   "outputs": [
    {
     "data": {
      "text/plain": [
       "<matplotlib.legend.Legend at 0x1a1bb15be0>"
      ]
     },
     "execution_count": 687,
     "metadata": {},
     "output_type": "execute_result"
    },
    {
     "data": {
      "image/png": "[encoded data removed]",
      "text/plain": [
       "<Figure size 720x720 with 1 Axes>"
      ]
     },
     "metadata": {},
     "output_type": "display_data"
    }
   ],
   "source": [
    "figure(figsize=(10,10))\n",
    "plt.plot(range(epochs), E_in, 'b', label='train')\n",
    "plt.plot(range(epochs), E_out, 'r', label='test')\n",
    "plt.legend()"
   ]
  },
  {
   "cell_type": "markdown",
   "metadata": {},
   "source": [
    "**Logistic Regression**<br/>\n",
    "*Results:*<br/> \n",
    "1. By repeating experiment the Error of train set decreases faster (but not always the case) than the Error of test set. It can be explained by that the training set is bigger than test set, so the reduction of Error occures faster. \n",
    "2. The Error is higher than average Error of Linear Regression and Pocket algorithm. \n",
    "\n"
   ]
  },
  {
   "cell_type": "markdown",
   "metadata": {},
   "source": [
    "*Limitations:*<br/>\n",
    "1. Might not perform well for very large feature space. We see that the algorithm shows higher Error. \n"
   ]
  },
  {
   "cell_type": "code",
   "execution_count": null,
   "metadata": {
    "collapsed": true
   },
   "outputs": [],
   "source": []
  },
  {
   "cell_type": "code",
   "execution_count": null,
   "metadata": {
    "collapsed": true
   },
   "outputs": [],
   "source": []
  }
 ],
 "metadata": {
  "kernelspec": {
   "display_name": "Python 3",
   "language": "python",
   "name": "python3"
  },
  "language_info": {
   "codemirror_mode": {
    "name": "ipython",
    "version": 3
   },
   "file_extension": ".py",
   "mimetype": "text/x-python",
   "name": "python",
   "nbconvert_exporter": "python",
   "pygments_lexer": "ipython3",
   "version": "3.6.3"
  }
 },
 "nbformat": 4,
 "nbformat_minor": 2
}
