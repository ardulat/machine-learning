{
 "cells": [
  {
   "cell_type": "code",
   "execution_count": 8,
   "metadata": {},
   "outputs": [],
   "source": [
    "import os\n",
    "import numpy as np\n",
    "import math\n",
    "import time\n",
    "import matplotlib.pyplot as plt\n",
    "import multiprocessing\n",
    "from os import walk\n",
    "import pickle\n",
    "from sklearn.metrics import classification_report\n",
    "from sklearn.metrics import confusion_matrix\n",
    "from sklearn.metrics import accuracy_score\n",
    "from sklearn.linear_model import LogisticRegression"
   ]
  },
  {
   "cell_type": "code",
   "execution_count": 9,
   "metadata": {},
   "outputs": [],
   "source": [
    "RESULTS_DIR = './logreg_results/'\n",
    "label_map = {'Hold': 0, 'Buy': 1, 'Sell': 2}\n",
    "label_map_reverse = {0:'Hold', 1:'Buy', 2:'Sell'}"
   ]
  },
  {
   "cell_type": "code",
   "execution_count": 10,
   "metadata": {},
   "outputs": [],
   "source": [
    "def get_paths(filepath):\n",
    "    dataset_paths = []\n",
    "    labels_paths = []\n",
    "    stock_names = []\n",
    "    for (dirpath, dirnames, filenames) in walk(filepath):\n",
    "        dataset_paths = [filepath + '/' + name for name in dirnames]\n",
    "        labels_paths = [filepath + '/' + name for name in filenames if name != '.DS_Store']\n",
    "        stock_names = [name.split('_')[0] for name in filenames if name != '.DS_Store']\n",
    "        break\n",
    "    dataset_paths.sort()\n",
    "    labels_paths.sort()\n",
    "    stock_names.sort()\n",
    "\n",
    "    return dataset_paths, labels_paths, stock_names"
   ]
  },
  {
   "cell_type": "code",
   "execution_count": 11,
   "metadata": {},
   "outputs": [],
   "source": [
    "def read_data(d_path, l_path, s_name):\n",
    "    \n",
    "    with open(d_path+'/data.pkl', 'rb') as f:\n",
    "        dataset = pickle.load(f)\n",
    "    \n",
    "    labels = np.zeros(len(dataset))\n",
    "    prices = np.zeros(len(dataset))\n",
    "    dates = np.empty(len(dataset), dtype='datetime64[s]')\n",
    "    with open(l_path, 'r') as f:\n",
    "        for i, line in enumerate(f):\n",
    "            info = line.strip().split(', ')\n",
    "            dates[i] = np.datetime64(info[1])\n",
    "            prices[i] = info[2]\n",
    "            labels[i] = label_map[info[3]]\n",
    "\n",
    "    return [dataset, dates, prices, labels]"
   ]
  },
  {
   "cell_type": "code",
   "execution_count": 12,
   "metadata": {},
   "outputs": [],
   "source": [
    "def data_augmentation(X_data, Y_data):\n",
    "    proportion = np.array([0.34, 0.33, 0.33])\n",
    "    labels_ind = [np.where(Y_data == x)[0] for x in range(3)]\n",
    "    labels_tot = math.ceil(max([labels_ind[x].shape[0] / proportion[x] for x in range(len(labels_ind))]))\n",
    "\n",
    "    labels_num = (proportion * labels_tot).astype(int)\n",
    "    labels = np.arange(labels_num.sum())\n",
    "    \n",
    "    l = Y_data.shape[0]\n",
    "    for i in range(labels_num.shape[0]):\n",
    "        additional_ind = np.random.choice(labels_ind[i], labels_num[i] - labels_ind[i].shape[0])\n",
    "        r = l + additional_ind.shape[0]\n",
    "        labels[l:r] = additional_ind\n",
    "        l = r\n",
    "\n",
    "    return X_data[labels], Y_data[labels]"
   ]
  },
  {
   "cell_type": "code",
   "execution_count": 13,
   "metadata": {},
   "outputs": [],
   "source": [
    "def data_processing(dataset, labels, augmentation):\n",
    "    if augmentation:\n",
    "        dataset, labels = data_augmentation(dataset, labels)\n",
    "    \n",
    "    X_data = dataset\n",
    "    Y_data = labels\n",
    "    input_shape = X_data.shape[1:]\n",
    "\n",
    "    return X_data, Y_data, input_shape"
   ]
  },
  {
   "cell_type": "code",
   "execution_count": 14,
   "metadata": {},
   "outputs": [],
   "source": [
    "def data_extraction(data, start_year, end_year, augmentation):\n",
    "    r = np.argwhere((data[1] >= np.datetime64(str(start_year))) & (data[1] < np.datetime64(str(end_year))))\n",
    "    s = r[0][0]\n",
    "    e = r[-1][0]\n",
    "\n",
    "    dataset = data[0][r[:, 0]]\n",
    "    dates = data[1][r[:, 0]]\n",
    "    prices = data[2][r[:, 0]]\n",
    "    labels = data[3][r[:, 0]]\n",
    "\n",
    "    return data_processing(dataset, labels, augmentation), dates, prices"
   ]
  },
  {
   "cell_type": "code",
   "execution_count": 31,
   "metadata": {},
   "outputs": [],
   "source": [
    "def train(X_train, Y_train, X_test, Y_test, batch_size, epochs):\n",
    "    model = LogisticRegression(class_weight='balanced')\n",
    "    model.fit(X_train, Y_train)\n",
    "\n",
    "    return model"
   ]
  },
  {
   "cell_type": "code",
   "execution_count": 32,
   "metadata": {},
   "outputs": [],
   "source": [
    "def test(model, X_test, Y_test):\n",
    "    y_pred = model.predict(X_test)\n",
    "    score = accuracy_score(Y_test, y_pred)\n",
    "    return score"
   ]
  },
  {
   "cell_type": "code",
   "execution_count": 33,
   "metadata": {},
   "outputs": [],
   "source": [
    "class Report:\n",
    "\n",
    "    @staticmethod\n",
    "    def write_confusion_and_classif(cmatrix, save_path, y_test, y_pred, debug=True):\n",
    "        with open(save_path + \"/confusion_m.txt\", 'w') as file:\n",
    "            out_str = \"%5s %4s %4s %4s\" % (\"\", label_map_reverse[0], label_map_reverse[1], label_map_reverse[2])\n",
    "            file.write(out_str + '\\n')\n",
    "            if debug:\n",
    "                    print(out_str)\n",
    "\n",
    "            for i, row in enumerate(cmatrix):\n",
    "                out_str = \"%4s: %4d %4d %4d\" % (label_map_reverse[i], row[0], row[1], row[2])\n",
    "                file.write(out_str + '\\n')\n",
    "                if debug:\n",
    "                    print(out_str)\n",
    "\n",
    "        with open(save_path + '/report.txt', 'w') as f:\n",
    "            f.write(classification_report(y_test, y_pred))\n",
    "        \n",
    "        return"
   ]
  },
  {
   "cell_type": "code",
   "execution_count": 34,
   "metadata": {},
   "outputs": [],
   "source": [
    "def train_process(X_train, Y_train, X_test, Y_test, dates, prices, year, results_dict):\n",
    "    \n",
    "    model = train(X_train, Y_train, X_test, Y_test, 128, epochs=40)\n",
    "    save_path = RESULTS_DIR + s_name + '/' + str(year)\n",
    "    \n",
    "    if not os.path.exists(save_path):\n",
    "        os.makedirs(save_path)\n",
    "        \n",
    "    score = test(model, X_test, Y_test)\n",
    "    results_dict['test_results'] += [(score, X_test.shape[0])]\n",
    "\n",
    "    y_pred = model.predict(X_test)\n",
    "    \n",
    "    conf_matrix_temp = confusion_matrix(Y_test, y_pred)\n",
    "    Report.write_confusion_and_classif(conf_matrix_temp, save_path, Y_test, y_pred)\n",
    "\n",
    "    results_dict['conf_matrix'] += conf_matrix_temp\n",
    "    results_dict['Y_test_sum'] = np.append(results_dict['Y_test_sum'], Y_test)\n",
    "    results_dict['y_pred_sum'] = np.append(results_dict['y_pred_sum'], y_pred)\n",
    "    prediction_dict = results_dict['prediction']\n",
    "    for date, price, pred in zip(dates, prices, y_pred):\n",
    "        prediction_dict[date] = (price, pred)\n",
    "    results_dict['prediction'] = prediction_dict\n",
    "    \n",
    "    Report.write_confusion_and_classif(results_dict['conf_matrix'], RESULTS_DIR, results_dict['Y_test_sum'], results_dict['y_pred_sum'])\n",
    "    \n",
    "    with open(RESULTS_DIR + 'results.txt', 'a') as f:\n",
    "        f.write('Year: {}. Number of samples: {}. Accuracy: {}.\\n'.format(str(year), X_test.shape[0], score))\n"
   ]
  },
  {
   "cell_type": "code",
   "execution_count": 35,
   "metadata": {},
   "outputs": [],
   "source": [
    "class Financial_Evaluation:\n",
    "\n",
    "    @staticmethod\n",
    "    def simulate(prediction, stock_name, years_num):\n",
    "        COMMISION = 1\n",
    "        \n",
    "        init_balance = 10000\n",
    "        balance = init_balance\n",
    "        bought_cnt = 0\n",
    "\n",
    "        for date, pred in prediction.items():\n",
    "            price = pred[0]\n",
    "            action = label_map_reverse[pred[1]]\n",
    "            \n",
    "            if action == 'Buy' and bought_cnt == 0:\n",
    "                bought_cnt = (balance - COMMISION) / price\n",
    "                balance = 0\n",
    "            \n",
    "            if action == 'Sell' and bought_cnt > 0:\n",
    "                balance = bought_cnt * price - COMMISION\n",
    "                bought_cnt = 0\n",
    "\n",
    "        if bought_cnt > 0:\n",
    "            balance = bought_cnt * price - COMMISION\n",
    "            bought_cnt = 0\n",
    "\n",
    "        total_return = balance / init_balance\n",
    "        annualized_return = total_return ** (1.0/years_num)\n",
    "\n",
    "        total_return = (total_return - 1.0) * 100\n",
    "        annualized_return = (annualized_return - 1.0) * 100\n",
    "\n",
    "        print('Stock:', stock_name, 'Total return:', total_return, 'Annualized return:', annualized_return)\n",
    "        with open(RESULTS_DIR + 'results.txt', 'a') as f:\n",
    "            f.write('Total return: {:.2f} %. Annualized return: {:.2f} %.\\n'.format(total_return, annualized_return))\n",
    "\n",
    "        return total_return, annualized_return\n"
   ]
  },
  {
   "cell_type": "code",
   "execution_count": 39,
   "metadata": {},
   "outputs": [
    {
     "name": "stdout",
     "output_type": "stream",
     "text": [
      "STOCK: AAPL\n",
      "Testing year: 2007\n",
      "      Hold  Buy Sell\n",
      "Hold:  226    0    0\n",
      " Buy:   12    0    0\n",
      "Sell:   13    0    0\n"
     ]
    },
    {
     "name": "stderr",
     "output_type": "stream",
     "text": [
      "/home/ubuntu/anaconda3/envs/tensorflow/lib/python3.6/site-packages/sklearn/metrics/classification.py:1135: UndefinedMetricWarning: Precision and F-score are ill-defined and being set to 0.0 in labels with no predicted samples.\n",
      "  'precision', 'predicted', average, warn_for)\n"
     ]
    },
    {
     "name": "stdout",
     "output_type": "stream",
     "text": [
      "      Hold  Buy Sell\n",
      "Hold:  226    0    0\n",
      " Buy:   12    0    0\n",
      "Sell:   13    0    0\n",
      "Testing year: 2008\n",
      "      Hold  Buy Sell\n",
      "Hold:  230    0    0\n",
      " Buy:   13    0    0\n",
      "Sell:   10    0    0\n"
     ]
    },
    {
     "name": "stderr",
     "output_type": "stream",
     "text": [
      "/home/ubuntu/anaconda3/envs/tensorflow/lib/python3.6/site-packages/sklearn/metrics/classification.py:1135: UndefinedMetricWarning: Precision and F-score are ill-defined and being set to 0.0 in labels with no predicted samples.\n",
      "  'precision', 'predicted', average, warn_for)\n"
     ]
    },
    {
     "name": "stdout",
     "output_type": "stream",
     "text": [
      "      Hold  Buy Sell\n",
      "Hold:  456    0    0\n",
      " Buy:   25    0    0\n",
      "Sell:   23    0    0\n",
      "Testing year: 2009\n",
      "      Hold  Buy Sell\n",
      "Hold:  226    0    0\n",
      " Buy:   14    0    0\n",
      "Sell:   12    0    0\n"
     ]
    },
    {
     "name": "stderr",
     "output_type": "stream",
     "text": [
      "/home/ubuntu/anaconda3/envs/tensorflow/lib/python3.6/site-packages/sklearn/metrics/classification.py:1135: UndefinedMetricWarning: Precision and F-score are ill-defined and being set to 0.0 in labels with no predicted samples.\n",
      "  'precision', 'predicted', average, warn_for)\n"
     ]
    },
    {
     "name": "stdout",
     "output_type": "stream",
     "text": [
      "      Hold  Buy Sell\n",
      "Hold:  682    0    0\n",
      " Buy:   39    0    0\n",
      "Sell:   35    0    0\n",
      "Testing year: 2010\n",
      "      Hold  Buy Sell\n",
      "Hold:  223    0    0\n",
      " Buy:   14    0    0\n",
      "Sell:   15    0    0\n"
     ]
    },
    {
     "name": "stderr",
     "output_type": "stream",
     "text": [
      "/home/ubuntu/anaconda3/envs/tensorflow/lib/python3.6/site-packages/sklearn/metrics/classification.py:1135: UndefinedMetricWarning: Precision and F-score are ill-defined and being set to 0.0 in labels with no predicted samples.\n",
      "  'precision', 'predicted', average, warn_for)\n"
     ]
    },
    {
     "name": "stdout",
     "output_type": "stream",
     "text": [
      "      Hold  Buy Sell\n",
      "Hold:  905    0    0\n",
      " Buy:   53    0    0\n",
      "Sell:   50    0    0\n",
      "Testing year: 2011\n",
      "      Hold  Buy Sell\n",
      "Hold:  222    0    0\n",
      " Buy:   16    0    0\n",
      "Sell:   14    0    0\n"
     ]
    },
    {
     "name": "stderr",
     "output_type": "stream",
     "text": [
      "/home/ubuntu/anaconda3/envs/tensorflow/lib/python3.6/site-packages/sklearn/metrics/classification.py:1135: UndefinedMetricWarning: Precision and F-score are ill-defined and being set to 0.0 in labels with no predicted samples.\n",
      "  'precision', 'predicted', average, warn_for)\n"
     ]
    },
    {
     "name": "stdout",
     "output_type": "stream",
     "text": [
      "      Hold  Buy Sell\n",
      "Hold: 1127    0    0\n",
      " Buy:   69    0    0\n",
      "Sell:   64    0    0\n",
      "Testing year: 2012\n",
      "      Hold  Buy Sell\n",
      "Hold:  224    0    0\n",
      " Buy:   14    0    0\n",
      "Sell:   12    0    0\n"
     ]
    },
    {
     "name": "stderr",
     "output_type": "stream",
     "text": [
      "/home/ubuntu/anaconda3/envs/tensorflow/lib/python3.6/site-packages/sklearn/metrics/classification.py:1135: UndefinedMetricWarning: Precision and F-score are ill-defined and being set to 0.0 in labels with no predicted samples.\n",
      "  'precision', 'predicted', average, warn_for)\n"
     ]
    },
    {
     "name": "stdout",
     "output_type": "stream",
     "text": [
      "      Hold  Buy Sell\n",
      "Hold: 1351    0    0\n",
      " Buy:   83    0    0\n",
      "Sell:   76    0    0\n",
      "Testing year: 2013\n",
      "      Hold  Buy Sell\n",
      "Hold:  219    0    0\n",
      " Buy:   18    0    0\n",
      "Sell:   15    0    0\n"
     ]
    },
    {
     "name": "stderr",
     "output_type": "stream",
     "text": [
      "/home/ubuntu/anaconda3/envs/tensorflow/lib/python3.6/site-packages/sklearn/metrics/classification.py:1135: UndefinedMetricWarning: Precision and F-score are ill-defined and being set to 0.0 in labels with no predicted samples.\n",
      "  'precision', 'predicted', average, warn_for)\n"
     ]
    },
    {
     "name": "stdout",
     "output_type": "stream",
     "text": [
      "      Hold  Buy Sell\n",
      "Hold: 1570    0    0\n",
      " Buy:  101    0    0\n",
      "Sell:   91    0    0\n",
      "Testing year: 2014\n",
      "      Hold  Buy Sell\n",
      "Hold:  224    0    0\n",
      " Buy:   14    0    0\n",
      "Sell:   14    0    0\n"
     ]
    },
    {
     "name": "stderr",
     "output_type": "stream",
     "text": [
      "/home/ubuntu/anaconda3/envs/tensorflow/lib/python3.6/site-packages/sklearn/metrics/classification.py:1135: UndefinedMetricWarning: Precision and F-score are ill-defined and being set to 0.0 in labels with no predicted samples.\n",
      "  'precision', 'predicted', average, warn_for)\n"
     ]
    },
    {
     "name": "stdout",
     "output_type": "stream",
     "text": [
      "      Hold  Buy Sell\n",
      "Hold: 1794    0    0\n",
      " Buy:  115    0    0\n",
      "Sell:  105    0    0\n",
      "Testing year: 2015\n",
      "      Hold  Buy Sell\n",
      "Hold:  219    0    0\n",
      " Buy:   17    0    0\n",
      "Sell:   16    0    0\n"
     ]
    },
    {
     "name": "stderr",
     "output_type": "stream",
     "text": [
      "/home/ubuntu/anaconda3/envs/tensorflow/lib/python3.6/site-packages/sklearn/metrics/classification.py:1135: UndefinedMetricWarning: Precision and F-score are ill-defined and being set to 0.0 in labels with no predicted samples.\n",
      "  'precision', 'predicted', average, warn_for)\n"
     ]
    },
    {
     "name": "stdout",
     "output_type": "stream",
     "text": [
      "      Hold  Buy Sell\n",
      "Hold: 2013    0    0\n",
      " Buy:  132    0    0\n",
      "Sell:  121    0    0\n",
      "Testing year: 2016\n",
      "      Hold  Buy Sell\n",
      "Hold:  222    0    0\n",
      " Buy:   16    0    0\n",
      "Sell:   14    0    0\n"
     ]
    },
    {
     "name": "stderr",
     "output_type": "stream",
     "text": [
      "/home/ubuntu/anaconda3/envs/tensorflow/lib/python3.6/site-packages/sklearn/metrics/classification.py:1135: UndefinedMetricWarning: Precision and F-score are ill-defined and being set to 0.0 in labels with no predicted samples.\n",
      "  'precision', 'predicted', average, warn_for)\n"
     ]
    },
    {
     "name": "stdout",
     "output_type": "stream",
     "text": [
      "      Hold  Buy Sell\n",
      "Hold: 2235    0    0\n",
      " Buy:  148    0    0\n",
      "Sell:  135    0    0\n",
      "Stock: AAPL Total return: 0.0 Annualized return: 0.0\n",
      "STOCK: AXP\n",
      "Testing year: 2007\n",
      "      Hold  Buy Sell\n",
      "Hold:  217    0    0\n",
      " Buy:   18    0    0\n",
      "Sell:   16    0    0\n"
     ]
    },
    {
     "name": "stderr",
     "output_type": "stream",
     "text": [
      "/home/ubuntu/anaconda3/envs/tensorflow/lib/python3.6/site-packages/sklearn/metrics/classification.py:1135: UndefinedMetricWarning: Precision and F-score are ill-defined and being set to 0.0 in labels with no predicted samples.\n",
      "  'precision', 'predicted', average, warn_for)\n"
     ]
    },
    {
     "name": "stdout",
     "output_type": "stream",
     "text": [
      "      Hold  Buy Sell\n",
      "Hold: 2452    0    0\n",
      " Buy:  166    0    0\n",
      "Sell:  151    0    0\n",
      "Testing year: 2008\n",
      "      Hold  Buy Sell\n",
      "Hold:  183   39    0\n",
      " Buy:   11    4    0\n",
      "Sell:   16    0    0\n"
     ]
    },
    {
     "name": "stderr",
     "output_type": "stream",
     "text": [
      "/home/ubuntu/anaconda3/envs/tensorflow/lib/python3.6/site-packages/sklearn/metrics/classification.py:1135: UndefinedMetricWarning: Precision and F-score are ill-defined and being set to 0.0 in labels with no predicted samples.\n",
      "  'precision', 'predicted', average, warn_for)\n"
     ]
    },
    {
     "name": "stdout",
     "output_type": "stream",
     "text": [
      "      Hold  Buy Sell\n",
      "Hold: 2635   39    0\n",
      " Buy:  177    4    0\n",
      "Sell:  167    0    0\n",
      "Testing year: 2009\n",
      "      Hold  Buy Sell\n",
      "Hold:  170    0   51\n",
      " Buy:   14    0    0\n",
      "Sell:   11    0    6\n"
     ]
    },
    {
     "name": "stderr",
     "output_type": "stream",
     "text": [
      "/home/ubuntu/anaconda3/envs/tensorflow/lib/python3.6/site-packages/sklearn/metrics/classification.py:1135: UndefinedMetricWarning: Precision and F-score are ill-defined and being set to 0.0 in labels with no predicted samples.\n",
      "  'precision', 'predicted', average, warn_for)\n"
     ]
    },
    {
     "name": "stdout",
     "output_type": "stream",
     "text": [
      "      Hold  Buy Sell\n",
      "Hold: 2805   39   51\n",
      " Buy:  191    4    0\n",
      "Sell:  178    0    6\n",
      "Testing year: 2010\n",
      "      Hold  Buy Sell\n",
      "Hold:  224    0    0\n",
      " Buy:   16    0    0\n",
      "Sell:   12    0    0\n"
     ]
    },
    {
     "name": "stderr",
     "output_type": "stream",
     "text": [
      "/home/ubuntu/anaconda3/envs/tensorflow/lib/python3.6/site-packages/sklearn/metrics/classification.py:1135: UndefinedMetricWarning: Precision and F-score are ill-defined and being set to 0.0 in labels with no predicted samples.\n",
      "  'precision', 'predicted', average, warn_for)\n"
     ]
    },
    {
     "name": "stdout",
     "output_type": "stream",
     "text": [
      "      Hold  Buy Sell\n",
      "Hold: 3029   39   51\n",
      " Buy:  207    4    0\n",
      "Sell:  190    0    6\n",
      "Testing year: 2011\n",
      "      Hold  Buy Sell\n",
      "Hold:  219    0    0\n",
      " Buy:   18    0    0\n",
      "Sell:   15    0    0\n"
     ]
    },
    {
     "name": "stderr",
     "output_type": "stream",
     "text": [
      "/home/ubuntu/anaconda3/envs/tensorflow/lib/python3.6/site-packages/sklearn/metrics/classification.py:1135: UndefinedMetricWarning: Precision and F-score are ill-defined and being set to 0.0 in labels with no predicted samples.\n",
      "  'precision', 'predicted', average, warn_for)\n"
     ]
    },
    {
     "name": "stdout",
     "output_type": "stream",
     "text": [
      "      Hold  Buy Sell\n",
      "Hold: 3248   39   51\n",
      " Buy:  225    4    0\n",
      "Sell:  205    0    6\n",
      "Testing year: 2012\n",
      "      Hold  Buy Sell\n",
      "Hold:  215    0    0\n",
      " Buy:   16    0    0\n",
      "Sell:   19    0    0\n"
     ]
    },
    {
     "name": "stderr",
     "output_type": "stream",
     "text": [
      "/home/ubuntu/anaconda3/envs/tensorflow/lib/python3.6/site-packages/sklearn/metrics/classification.py:1135: UndefinedMetricWarning: Precision and F-score are ill-defined and being set to 0.0 in labels with no predicted samples.\n",
      "  'precision', 'predicted', average, warn_for)\n"
     ]
    },
    {
     "name": "stdout",
     "output_type": "stream",
     "text": [
      "      Hold  Buy Sell\n",
      "Hold: 3463   39   51\n",
      " Buy:  241    4    0\n",
      "Sell:  224    0    6\n",
      "Testing year: 2013\n",
      "      Hold  Buy Sell\n",
      "Hold:  228    0    0\n",
      " Buy:   13    0    0\n",
      "Sell:   11    0    0\n"
     ]
    },
    {
     "name": "stderr",
     "output_type": "stream",
     "text": [
      "/home/ubuntu/anaconda3/envs/tensorflow/lib/python3.6/site-packages/sklearn/metrics/classification.py:1135: UndefinedMetricWarning: Precision and F-score are ill-defined and being set to 0.0 in labels with no predicted samples.\n",
      "  'precision', 'predicted', average, warn_for)\n"
     ]
    },
    {
     "name": "stdout",
     "output_type": "stream",
     "text": [
      "      Hold  Buy Sell\n",
      "Hold: 3691   39   51\n",
      " Buy:  254    4    0\n",
      "Sell:  235    0    6\n",
      "Testing year: 2014\n",
      "      Hold  Buy Sell\n",
      "Hold:  217    0    0\n",
      " Buy:   18    0    0\n",
      "Sell:   17    0    0\n"
     ]
    },
    {
     "name": "stderr",
     "output_type": "stream",
     "text": [
      "/home/ubuntu/anaconda3/envs/tensorflow/lib/python3.6/site-packages/sklearn/metrics/classification.py:1135: UndefinedMetricWarning: Precision and F-score are ill-defined and being set to 0.0 in labels with no predicted samples.\n",
      "  'precision', 'predicted', average, warn_for)\n"
     ]
    },
    {
     "name": "stdout",
     "output_type": "stream",
     "text": [
      "      Hold  Buy Sell\n",
      "Hold: 3908   39   51\n",
      " Buy:  272    4    0\n",
      "Sell:  252    0    6\n",
      "Testing year: 2015\n",
      "      Hold  Buy Sell\n",
      "Hold:  217    0    0\n",
      " Buy:   19    0    0\n",
      "Sell:   16    0    0\n"
     ]
    },
    {
     "name": "stderr",
     "output_type": "stream",
     "text": [
      "/home/ubuntu/anaconda3/envs/tensorflow/lib/python3.6/site-packages/sklearn/metrics/classification.py:1135: UndefinedMetricWarning: Precision and F-score are ill-defined and being set to 0.0 in labels with no predicted samples.\n",
      "  'precision', 'predicted', average, warn_for)\n"
     ]
    },
    {
     "name": "stdout",
     "output_type": "stream",
     "text": [
      "      Hold  Buy Sell\n",
      "Hold: 4125   39   51\n",
      " Buy:  291    4    0\n",
      "Sell:  268    0    6\n",
      "Testing year: 2016\n",
      "      Hold  Buy Sell\n",
      "Hold:  216    4    0\n",
      " Buy:   15    1    0\n",
      "Sell:   16    0    0\n"
     ]
    },
    {
     "name": "stderr",
     "output_type": "stream",
     "text": [
      "/home/ubuntu/anaconda3/envs/tensorflow/lib/python3.6/site-packages/sklearn/metrics/classification.py:1135: UndefinedMetricWarning: Precision and F-score are ill-defined and being set to 0.0 in labels with no predicted samples.\n",
      "  'precision', 'predicted', average, warn_for)\n"
     ]
    },
    {
     "name": "stdout",
     "output_type": "stream",
     "text": [
      "      Hold  Buy Sell\n",
      "Hold: 4341   43   51\n",
      " Buy:  306    5    0\n",
      "Sell:  284    0    6\n",
      "Stock: AXP Total return: -38.15140725239126 Annualized return: -4.69120423127678\n",
      "STOCK: BA\n",
      "Testing year: 2007\n",
      "      Hold  Buy Sell\n",
      "Hold:  218    0    0\n",
      " Buy:   15    0    0\n",
      "Sell:   18    0    0\n"
     ]
    },
    {
     "name": "stderr",
     "output_type": "stream",
     "text": [
      "/home/ubuntu/anaconda3/envs/tensorflow/lib/python3.6/site-packages/sklearn/metrics/classification.py:1135: UndefinedMetricWarning: Precision and F-score are ill-defined and being set to 0.0 in labels with no predicted samples.\n",
      "  'precision', 'predicted', average, warn_for)\n"
     ]
    },
    {
     "name": "stdout",
     "output_type": "stream",
     "text": [
      "      Hold  Buy Sell\n",
      "Hold: 4559   43   51\n",
      " Buy:  321    5    0\n",
      "Sell:  302    0    6\n",
      "Testing year: 2008\n",
      "      Hold  Buy Sell\n",
      "Hold:  219    0    0\n",
      " Buy:   19    0    0\n",
      "Sell:   15    0    0\n"
     ]
    },
    {
     "name": "stderr",
     "output_type": "stream",
     "text": [
      "/home/ubuntu/anaconda3/envs/tensorflow/lib/python3.6/site-packages/sklearn/metrics/classification.py:1135: UndefinedMetricWarning: Precision and F-score are ill-defined and being set to 0.0 in labels with no predicted samples.\n",
      "  'precision', 'predicted', average, warn_for)\n"
     ]
    },
    {
     "name": "stdout",
     "output_type": "stream",
     "text": [
      "      Hold  Buy Sell\n",
      "Hold: 4778   43   51\n",
      " Buy:  340    5    0\n",
      "Sell:  317    0    6\n",
      "Testing year: 2009\n",
      "      Hold  Buy Sell\n",
      "Hold:  212    7    4\n",
      " Buy:   15    1    0\n",
      "Sell:   12    0    1\n",
      "      Hold  Buy Sell\n",
      "Hold: 4990   50   55\n",
      " Buy:  355    6    0\n",
      "Sell:  329    0    7\n",
      "Testing year: 2010\n",
      "      Hold  Buy Sell\n",
      "Hold:  223    0    0\n",
      " Buy:   13    0    0\n",
      "Sell:   16    0    0\n"
     ]
    },
    {
     "name": "stderr",
     "output_type": "stream",
     "text": [
      "/home/ubuntu/anaconda3/envs/tensorflow/lib/python3.6/site-packages/sklearn/metrics/classification.py:1135: UndefinedMetricWarning: Precision and F-score are ill-defined and being set to 0.0 in labels with no predicted samples.\n",
      "  'precision', 'predicted', average, warn_for)\n"
     ]
    },
    {
     "name": "stdout",
     "output_type": "stream",
     "text": [
      "      Hold  Buy Sell\n",
      "Hold: 5213   50   55\n",
      " Buy:  368    6    0\n",
      "Sell:  345    0    7\n",
      "Testing year: 2011\n",
      "      Hold  Buy Sell\n",
      "Hold:  216    0    0\n",
      " Buy:   17    0    0\n",
      "Sell:   19    0    0\n"
     ]
    },
    {
     "name": "stderr",
     "output_type": "stream",
     "text": [
      "/home/ubuntu/anaconda3/envs/tensorflow/lib/python3.6/site-packages/sklearn/metrics/classification.py:1135: UndefinedMetricWarning: Precision and F-score are ill-defined and being set to 0.0 in labels with no predicted samples.\n",
      "  'precision', 'predicted', average, warn_for)\n"
     ]
    },
    {
     "name": "stdout",
     "output_type": "stream",
     "text": [
      "      Hold  Buy Sell\n",
      "Hold: 5429   50   55\n",
      " Buy:  385    6    0\n",
      "Sell:  364    0    7\n",
      "Testing year: 2012\n",
      "      Hold  Buy Sell\n",
      "Hold:  215    0    0\n",
      " Buy:   17    0    0\n",
      "Sell:   18    0    0\n"
     ]
    },
    {
     "name": "stderr",
     "output_type": "stream",
     "text": [
      "/home/ubuntu/anaconda3/envs/tensorflow/lib/python3.6/site-packages/sklearn/metrics/classification.py:1135: UndefinedMetricWarning: Precision and F-score are ill-defined and being set to 0.0 in labels with no predicted samples.\n",
      "  'precision', 'predicted', average, warn_for)\n"
     ]
    },
    {
     "name": "stdout",
     "output_type": "stream",
     "text": [
      "      Hold  Buy Sell\n",
      "Hold: 5644   50   55\n",
      " Buy:  402    6    0\n",
      "Sell:  382    0    7\n",
      "Testing year: 2013\n",
      "      Hold  Buy Sell\n",
      "Hold:  221    0    0\n",
      " Buy:   16    0    0\n",
      "Sell:   15    0    0\n"
     ]
    },
    {
     "name": "stderr",
     "output_type": "stream",
     "text": [
      "/home/ubuntu/anaconda3/envs/tensorflow/lib/python3.6/site-packages/sklearn/metrics/classification.py:1135: UndefinedMetricWarning: Precision and F-score are ill-defined and being set to 0.0 in labels with no predicted samples.\n",
      "  'precision', 'predicted', average, warn_for)\n"
     ]
    },
    {
     "name": "stdout",
     "output_type": "stream",
     "text": [
      "      Hold  Buy Sell\n",
      "Hold: 5865   50   55\n",
      " Buy:  418    6    0\n",
      "Sell:  397    0    7\n",
      "Testing year: 2014\n",
      "      Hold  Buy Sell\n",
      "Hold:  218    0    0\n",
      " Buy:   15    0    0\n",
      "Sell:   19    0    0\n"
     ]
    },
    {
     "name": "stderr",
     "output_type": "stream",
     "text": [
      "/home/ubuntu/anaconda3/envs/tensorflow/lib/python3.6/site-packages/sklearn/metrics/classification.py:1135: UndefinedMetricWarning: Precision and F-score are ill-defined and being set to 0.0 in labels with no predicted samples.\n",
      "  'precision', 'predicted', average, warn_for)\n"
     ]
    },
    {
     "name": "stdout",
     "output_type": "stream",
     "text": [
      "      Hold  Buy Sell\n",
      "Hold: 6083   50   55\n",
      " Buy:  433    6    0\n",
      "Sell:  416    0    7\n",
      "Testing year: 2015\n",
      "      Hold  Buy Sell\n",
      "Hold:  215    0    0\n",
      " Buy:   17    0    0\n",
      "Sell:   20    0    0\n"
     ]
    },
    {
     "name": "stderr",
     "output_type": "stream",
     "text": [
      "/home/ubuntu/anaconda3/envs/tensorflow/lib/python3.6/site-packages/sklearn/metrics/classification.py:1135: UndefinedMetricWarning: Precision and F-score are ill-defined and being set to 0.0 in labels with no predicted samples.\n",
      "  'precision', 'predicted', average, warn_for)\n"
     ]
    },
    {
     "name": "stdout",
     "output_type": "stream",
     "text": [
      "      Hold  Buy Sell\n",
      "Hold: 6298   50   55\n",
      " Buy:  450    6    0\n",
      "Sell:  436    0    7\n",
      "Testing year: 2016\n",
      "      Hold  Buy Sell\n",
      "Hold:  217    0    0\n",
      " Buy:   18    0    0\n",
      "Sell:   17    0    0\n"
     ]
    },
    {
     "name": "stderr",
     "output_type": "stream",
     "text": [
      "/home/ubuntu/anaconda3/envs/tensorflow/lib/python3.6/site-packages/sklearn/metrics/classification.py:1135: UndefinedMetricWarning: Precision and F-score are ill-defined and being set to 0.0 in labels with no predicted samples.\n",
      "  'precision', 'predicted', average, warn_for)\n"
     ]
    },
    {
     "name": "stdout",
     "output_type": "stream",
     "text": [
      "      Hold  Buy Sell\n",
      "Hold: 6515   50   55\n",
      " Buy:  468    6    0\n",
      "Sell:  453    0    7\n",
      "Stock: BA Total return: 20.547273968554336 Annualized return: 1.886287859509661\n",
      "STOCK: CAT\n",
      "Testing year: 2007\n",
      "      Hold  Buy Sell\n",
      "Hold:  221    0    0\n",
      " Buy:   16    0    0\n",
      "Sell:   14    0    0\n"
     ]
    },
    {
     "name": "stderr",
     "output_type": "stream",
     "text": [
      "/home/ubuntu/anaconda3/envs/tensorflow/lib/python3.6/site-packages/sklearn/metrics/classification.py:1135: UndefinedMetricWarning: Precision and F-score are ill-defined and being set to 0.0 in labels with no predicted samples.\n",
      "  'precision', 'predicted', average, warn_for)\n"
     ]
    },
    {
     "name": "stdout",
     "output_type": "stream",
     "text": [
      "      Hold  Buy Sell\n",
      "Hold: 6736   50   55\n",
      " Buy:  484    6    0\n",
      "Sell:  467    0    7\n",
      "Testing year: 2008\n",
      "      Hold  Buy Sell\n",
      "Hold:  218    3    0\n",
      " Buy:   16    0    0\n",
      "Sell:   16    0    0\n"
     ]
    },
    {
     "name": "stderr",
     "output_type": "stream",
     "text": [
      "/home/ubuntu/anaconda3/envs/tensorflow/lib/python3.6/site-packages/sklearn/metrics/classification.py:1135: UndefinedMetricWarning: Precision and F-score are ill-defined and being set to 0.0 in labels with no predicted samples.\n",
      "  'precision', 'predicted', average, warn_for)\n"
     ]
    },
    {
     "name": "stdout",
     "output_type": "stream",
     "text": [
      "      Hold  Buy Sell\n",
      "Hold: 6954   53   55\n",
      " Buy:  500    6    0\n",
      "Sell:  483    0    7\n",
      "Testing year: 2009\n",
      "      Hold  Buy Sell\n",
      "Hold:  193    0   31\n",
      " Buy:   15    0    0\n",
      "Sell:   10    0    3\n"
     ]
    },
    {
     "name": "stderr",
     "output_type": "stream",
     "text": [
      "/home/ubuntu/anaconda3/envs/tensorflow/lib/python3.6/site-packages/sklearn/metrics/classification.py:1135: UndefinedMetricWarning: Precision and F-score are ill-defined and being set to 0.0 in labels with no predicted samples.\n",
      "  'precision', 'predicted', average, warn_for)\n"
     ]
    },
    {
     "name": "stdout",
     "output_type": "stream",
     "text": [
      "      Hold  Buy Sell\n",
      "Hold: 7147   53   86\n",
      " Buy:  515    6    0\n",
      "Sell:  493    0   10\n",
      "Testing year: 2010\n",
      "      Hold  Buy Sell\n",
      "Hold:  224    0    0\n",
      " Buy:   13    0    0\n",
      "Sell:   15    0    0\n"
     ]
    },
    {
     "name": "stderr",
     "output_type": "stream",
     "text": [
      "/home/ubuntu/anaconda3/envs/tensorflow/lib/python3.6/site-packages/sklearn/metrics/classification.py:1135: UndefinedMetricWarning: Precision and F-score are ill-defined and being set to 0.0 in labels with no predicted samples.\n",
      "  'precision', 'predicted', average, warn_for)\n"
     ]
    },
    {
     "name": "stdout",
     "output_type": "stream",
     "text": [
      "      Hold  Buy Sell\n",
      "Hold: 7371   53   86\n",
      " Buy:  528    6    0\n",
      "Sell:  508    0   10\n",
      "Testing year: 2011\n",
      "      Hold  Buy Sell\n",
      "Hold:  223    0    0\n",
      " Buy:   15    0    0\n",
      "Sell:   14    0    0\n"
     ]
    },
    {
     "name": "stderr",
     "output_type": "stream",
     "text": [
      "/home/ubuntu/anaconda3/envs/tensorflow/lib/python3.6/site-packages/sklearn/metrics/classification.py:1135: UndefinedMetricWarning: Precision and F-score are ill-defined and being set to 0.0 in labels with no predicted samples.\n",
      "  'precision', 'predicted', average, warn_for)\n"
     ]
    },
    {
     "name": "stdout",
     "output_type": "stream",
     "text": [
      "      Hold  Buy Sell\n",
      "Hold: 7594   53   86\n",
      " Buy:  543    6    0\n",
      "Sell:  522    0   10\n",
      "Testing year: 2012\n",
      "      Hold  Buy Sell\n",
      "Hold:  222    0    0\n",
      " Buy:   13    0    0\n",
      "Sell:   15    0    0\n"
     ]
    },
    {
     "name": "stderr",
     "output_type": "stream",
     "text": [
      "/home/ubuntu/anaconda3/envs/tensorflow/lib/python3.6/site-packages/sklearn/metrics/classification.py:1135: UndefinedMetricWarning: Precision and F-score are ill-defined and being set to 0.0 in labels with no predicted samples.\n",
      "  'precision', 'predicted', average, warn_for)\n"
     ]
    },
    {
     "name": "stdout",
     "output_type": "stream",
     "text": [
      "      Hold  Buy Sell\n",
      "Hold: 7816   53   86\n",
      " Buy:  556    6    0\n",
      "Sell:  537    0   10\n",
      "Testing year: 2013\n",
      "      Hold  Buy Sell\n",
      "Hold:  219    0    0\n",
      " Buy:   17    0    0\n",
      "Sell:   16    0    0\n"
     ]
    },
    {
     "name": "stderr",
     "output_type": "stream",
     "text": [
      "/home/ubuntu/anaconda3/envs/tensorflow/lib/python3.6/site-packages/sklearn/metrics/classification.py:1135: UndefinedMetricWarning: Precision and F-score are ill-defined and being set to 0.0 in labels with no predicted samples.\n",
      "  'precision', 'predicted', average, warn_for)\n"
     ]
    },
    {
     "name": "stdout",
     "output_type": "stream",
     "text": [
      "      Hold  Buy Sell\n",
      "Hold: 8035   53   86\n",
      " Buy:  573    6    0\n",
      "Sell:  553    0   10\n",
      "Testing year: 2014\n",
      "      Hold  Buy Sell\n",
      "Hold:  226    0    0\n",
      " Buy:   13    0    0\n",
      "Sell:   13    0    0\n"
     ]
    },
    {
     "name": "stderr",
     "output_type": "stream",
     "text": [
      "/home/ubuntu/anaconda3/envs/tensorflow/lib/python3.6/site-packages/sklearn/metrics/classification.py:1135: UndefinedMetricWarning: Precision and F-score are ill-defined and being set to 0.0 in labels with no predicted samples.\n",
      "  'precision', 'predicted', average, warn_for)\n"
     ]
    },
    {
     "name": "stdout",
     "output_type": "stream",
     "text": [
      "      Hold  Buy Sell\n",
      "Hold: 8261   53   86\n",
      " Buy:  586    6    0\n",
      "Sell:  566    0   10\n",
      "Testing year: 2015\n",
      "      Hold  Buy Sell\n",
      "Hold:  216    0    0\n",
      " Buy:   18    0    0\n",
      "Sell:   18    0    0\n"
     ]
    },
    {
     "name": "stderr",
     "output_type": "stream",
     "text": [
      "/home/ubuntu/anaconda3/envs/tensorflow/lib/python3.6/site-packages/sklearn/metrics/classification.py:1135: UndefinedMetricWarning: Precision and F-score are ill-defined and being set to 0.0 in labels with no predicted samples.\n",
      "  'precision', 'predicted', average, warn_for)\n"
     ]
    },
    {
     "name": "stdout",
     "output_type": "stream",
     "text": [
      "      Hold  Buy Sell\n",
      "Hold: 8477   53   86\n",
      " Buy:  604    6    0\n",
      "Sell:  584    0   10\n",
      "Testing year: 2016\n",
      "      Hold  Buy Sell\n",
      "Hold:  221    0    0\n",
      " Buy:   16    0    0\n",
      "Sell:   15    0    0\n"
     ]
    },
    {
     "name": "stderr",
     "output_type": "stream",
     "text": [
      "/home/ubuntu/anaconda3/envs/tensorflow/lib/python3.6/site-packages/sklearn/metrics/classification.py:1135: UndefinedMetricWarning: Precision and F-score are ill-defined and being set to 0.0 in labels with no predicted samples.\n",
      "  'precision', 'predicted', average, warn_for)\n"
     ]
    },
    {
     "name": "stdout",
     "output_type": "stream",
     "text": [
      "      Hold  Buy Sell\n",
      "Hold: 8698   53   86\n",
      " Buy:  620    6    0\n",
      "Sell:  599    0   10\n",
      "Stock: CAT Total return: -23.948943721485485 Annualized return: -2.700518706416688\n",
      "STOCK: CSCO\n",
      "Testing year: 2007\n",
      "      Hold  Buy Sell\n",
      "Hold:  218    0    0\n",
      " Buy:   18    0    0\n",
      "Sell:   15    0    0\n"
     ]
    },
    {
     "name": "stderr",
     "output_type": "stream",
     "text": [
      "/home/ubuntu/anaconda3/envs/tensorflow/lib/python3.6/site-packages/sklearn/metrics/classification.py:1135: UndefinedMetricWarning: Precision and F-score are ill-defined and being set to 0.0 in labels with no predicted samples.\n",
      "  'precision', 'predicted', average, warn_for)\n"
     ]
    },
    {
     "name": "stdout",
     "output_type": "stream",
     "text": [
      "      Hold  Buy Sell\n",
      "Hold: 8916   53   86\n",
      " Buy:  638    6    0\n",
      "Sell:  614    0   10\n",
      "Testing year: 2008\n",
      "      Hold  Buy Sell\n",
      "Hold:  222    0    0\n",
      " Buy:   17    0    0\n",
      "Sell:   14    0    0\n"
     ]
    },
    {
     "name": "stderr",
     "output_type": "stream",
     "text": [
      "/home/ubuntu/anaconda3/envs/tensorflow/lib/python3.6/site-packages/sklearn/metrics/classification.py:1135: UndefinedMetricWarning: Precision and F-score are ill-defined and being set to 0.0 in labels with no predicted samples.\n",
      "  'precision', 'predicted', average, warn_for)\n"
     ]
    },
    {
     "name": "stdout",
     "output_type": "stream",
     "text": [
      "      Hold  Buy Sell\n",
      "Hold: 9138   53   86\n",
      " Buy:  655    6    0\n",
      "Sell:  628    0   10\n",
      "Testing year: 2009\n",
      "      Hold  Buy Sell\n",
      "Hold:  220    0    0\n",
      " Buy:   15    0    0\n",
      "Sell:   17    0    0\n"
     ]
    },
    {
     "name": "stderr",
     "output_type": "stream",
     "text": [
      "/home/ubuntu/anaconda3/envs/tensorflow/lib/python3.6/site-packages/sklearn/metrics/classification.py:1135: UndefinedMetricWarning: Precision and F-score are ill-defined and being set to 0.0 in labels with no predicted samples.\n",
      "  'precision', 'predicted', average, warn_for)\n"
     ]
    },
    {
     "name": "stdout",
     "output_type": "stream",
     "text": [
      "      Hold  Buy Sell\n",
      "Hold: 9358   53   86\n",
      " Buy:  670    6    0\n",
      "Sell:  645    0   10\n",
      "Testing year: 2010\n",
      "      Hold  Buy Sell\n",
      "Hold:  221    0    0\n",
      " Buy:   15    0    0\n",
      "Sell:   16    0    0\n"
     ]
    },
    {
     "name": "stderr",
     "output_type": "stream",
     "text": [
      "/home/ubuntu/anaconda3/envs/tensorflow/lib/python3.6/site-packages/sklearn/metrics/classification.py:1135: UndefinedMetricWarning: Precision and F-score are ill-defined and being set to 0.0 in labels with no predicted samples.\n",
      "  'precision', 'predicted', average, warn_for)\n"
     ]
    },
    {
     "name": "stdout",
     "output_type": "stream",
     "text": [
      "      Hold  Buy Sell\n",
      "Hold: 9579   53   86\n",
      " Buy:  685    6    0\n",
      "Sell:  661    0   10\n",
      "Testing year: 2011\n",
      "      Hold  Buy Sell\n",
      "Hold:  216    0    0\n",
      " Buy:   20    0    0\n",
      "Sell:   16    0    0\n"
     ]
    },
    {
     "name": "stderr",
     "output_type": "stream",
     "text": [
      "/home/ubuntu/anaconda3/envs/tensorflow/lib/python3.6/site-packages/sklearn/metrics/classification.py:1135: UndefinedMetricWarning: Precision and F-score are ill-defined and being set to 0.0 in labels with no predicted samples.\n",
      "  'precision', 'predicted', average, warn_for)\n"
     ]
    },
    {
     "name": "stdout",
     "output_type": "stream",
     "text": [
      "      Hold  Buy Sell\n",
      "Hold: 9795   53   86\n",
      " Buy:  705    6    0\n",
      "Sell:  677    0   10\n",
      "Testing year: 2012\n",
      "      Hold  Buy Sell\n",
      "Hold:  220    0    0\n",
      " Buy:   15    0    0\n",
      "Sell:   15    0    0\n"
     ]
    },
    {
     "name": "stderr",
     "output_type": "stream",
     "text": [
      "/home/ubuntu/anaconda3/envs/tensorflow/lib/python3.6/site-packages/sklearn/metrics/classification.py:1135: UndefinedMetricWarning: Precision and F-score are ill-defined and being set to 0.0 in labels with no predicted samples.\n",
      "  'precision', 'predicted', average, warn_for)\n"
     ]
    },
    {
     "name": "stdout",
     "output_type": "stream",
     "text": [
      "      Hold  Buy Sell\n",
      "Hold: 10015   53   86\n",
      " Buy:  720    6    0\n",
      "Sell:  692    0   10\n",
      "Testing year: 2013\n",
      "      Hold  Buy Sell\n",
      "Hold:  222    0    0\n",
      " Buy:   13    0    0\n",
      "Sell:   17    0    0\n"
     ]
    },
    {
     "name": "stderr",
     "output_type": "stream",
     "text": [
      "/home/ubuntu/anaconda3/envs/tensorflow/lib/python3.6/site-packages/sklearn/metrics/classification.py:1135: UndefinedMetricWarning: Precision and F-score are ill-defined and being set to 0.0 in labels with no predicted samples.\n",
      "  'precision', 'predicted', average, warn_for)\n"
     ]
    },
    {
     "name": "stdout",
     "output_type": "stream",
     "text": [
      "      Hold  Buy Sell\n",
      "Hold: 10237   53   86\n",
      " Buy:  733    6    0\n",
      "Sell:  709    0   10\n",
      "Testing year: 2014\n",
      "      Hold  Buy Sell\n",
      "Hold:  221    0    0\n",
      " Buy:   14    0    0\n",
      "Sell:   17    0    0\n"
     ]
    },
    {
     "name": "stderr",
     "output_type": "stream",
     "text": [
      "/home/ubuntu/anaconda3/envs/tensorflow/lib/python3.6/site-packages/sklearn/metrics/classification.py:1135: UndefinedMetricWarning: Precision and F-score are ill-defined and being set to 0.0 in labels with no predicted samples.\n",
      "  'precision', 'predicted', average, warn_for)\n"
     ]
    },
    {
     "name": "stdout",
     "output_type": "stream",
     "text": [
      "      Hold  Buy Sell\n",
      "Hold: 10458   53   86\n",
      " Buy:  747    6    0\n",
      "Sell:  726    0   10\n",
      "Testing year: 2015\n",
      "      Hold  Buy Sell\n",
      "Hold:  223    0    0\n",
      " Buy:   14    0    0\n",
      "Sell:   15    0    0\n"
     ]
    },
    {
     "name": "stderr",
     "output_type": "stream",
     "text": [
      "/home/ubuntu/anaconda3/envs/tensorflow/lib/python3.6/site-packages/sklearn/metrics/classification.py:1135: UndefinedMetricWarning: Precision and F-score are ill-defined and being set to 0.0 in labels with no predicted samples.\n",
      "  'precision', 'predicted', average, warn_for)\n"
     ]
    },
    {
     "name": "stdout",
     "output_type": "stream",
     "text": [
      "      Hold  Buy Sell\n",
      "Hold: 10681   53   86\n",
      " Buy:  761    6    0\n",
      "Sell:  741    0   10\n",
      "Testing year: 2016\n",
      "      Hold  Buy Sell\n",
      "Hold:  221    0    0\n",
      " Buy:   15    0    0\n",
      "Sell:   16    0    0\n"
     ]
    },
    {
     "name": "stderr",
     "output_type": "stream",
     "text": [
      "/home/ubuntu/anaconda3/envs/tensorflow/lib/python3.6/site-packages/sklearn/metrics/classification.py:1135: UndefinedMetricWarning: Precision and F-score are ill-defined and being set to 0.0 in labels with no predicted samples.\n",
      "  'precision', 'predicted', average, warn_for)\n"
     ]
    },
    {
     "name": "stdout",
     "output_type": "stream",
     "text": [
      "      Hold  Buy Sell\n",
      "Hold: 10902   53   86\n",
      " Buy:  776    6    0\n",
      "Sell:  757    0   10\n",
      "Stock: CSCO Total return: 0.0 Annualized return: 0.0\n",
      "STOCK: CVX\n",
      "Testing year: 2007\n",
      "      Hold  Buy Sell\n",
      "Hold:  222    0    0\n",
      " Buy:   15    0    0\n",
      "Sell:   14    0    0\n"
     ]
    },
    {
     "name": "stderr",
     "output_type": "stream",
     "text": [
      "/home/ubuntu/anaconda3/envs/tensorflow/lib/python3.6/site-packages/sklearn/metrics/classification.py:1135: UndefinedMetricWarning: Precision and F-score are ill-defined and being set to 0.0 in labels with no predicted samples.\n",
      "  'precision', 'predicted', average, warn_for)\n"
     ]
    },
    {
     "name": "stdout",
     "output_type": "stream",
     "text": [
      "      Hold  Buy Sell\n",
      "Hold: 11124   53   86\n",
      " Buy:  791    6    0\n",
      "Sell:  771    0   10\n",
      "Testing year: 2008\n",
      "      Hold  Buy Sell\n",
      "Hold:  218    8    0\n",
      " Buy:   13    2    0\n",
      "Sell:   12    0    0\n"
     ]
    },
    {
     "name": "stderr",
     "output_type": "stream",
     "text": [
      "/home/ubuntu/anaconda3/envs/tensorflow/lib/python3.6/site-packages/sklearn/metrics/classification.py:1135: UndefinedMetricWarning: Precision and F-score are ill-defined and being set to 0.0 in labels with no predicted samples.\n",
      "  'precision', 'predicted', average, warn_for)\n"
     ]
    },
    {
     "name": "stdout",
     "output_type": "stream",
     "text": [
      "      Hold  Buy Sell\n",
      "Hold: 11342   61   86\n",
      " Buy:  804    8    0\n",
      "Sell:  783    0   10\n",
      "Testing year: 2009\n",
      "      Hold  Buy Sell\n",
      "Hold:  221    0    0\n",
      " Buy:   17    0    0\n",
      "Sell:   14    0    0\n"
     ]
    },
    {
     "name": "stderr",
     "output_type": "stream",
     "text": [
      "/home/ubuntu/anaconda3/envs/tensorflow/lib/python3.6/site-packages/sklearn/metrics/classification.py:1135: UndefinedMetricWarning: Precision and F-score are ill-defined and being set to 0.0 in labels with no predicted samples.\n",
      "  'precision', 'predicted', average, warn_for)\n"
     ]
    },
    {
     "name": "stdout",
     "output_type": "stream",
     "text": [
      "      Hold  Buy Sell\n",
      "Hold: 11563   61   86\n",
      " Buy:  821    8    0\n",
      "Sell:  797    0   10\n",
      "Testing year: 2010\n",
      "      Hold  Buy Sell\n",
      "Hold:  224    0    0\n",
      " Buy:   15    0    0\n",
      "Sell:   13    0    0\n"
     ]
    },
    {
     "name": "stderr",
     "output_type": "stream",
     "text": [
      "/home/ubuntu/anaconda3/envs/tensorflow/lib/python3.6/site-packages/sklearn/metrics/classification.py:1135: UndefinedMetricWarning: Precision and F-score are ill-defined and being set to 0.0 in labels with no predicted samples.\n",
      "  'precision', 'predicted', average, warn_for)\n"
     ]
    },
    {
     "name": "stdout",
     "output_type": "stream",
     "text": [
      "      Hold  Buy Sell\n",
      "Hold: 11787   61   86\n",
      " Buy:  836    8    0\n",
      "Sell:  810    0   10\n",
      "Testing year: 2011\n",
      "      Hold  Buy Sell\n",
      "Hold:  218    0    0\n",
      " Buy:   17    0    0\n",
      "Sell:   17    0    0\n"
     ]
    },
    {
     "name": "stderr",
     "output_type": "stream",
     "text": [
      "/home/ubuntu/anaconda3/envs/tensorflow/lib/python3.6/site-packages/sklearn/metrics/classification.py:1135: UndefinedMetricWarning: Precision and F-score are ill-defined and being set to 0.0 in labels with no predicted samples.\n",
      "  'precision', 'predicted', average, warn_for)\n"
     ]
    },
    {
     "name": "stdout",
     "output_type": "stream",
     "text": [
      "      Hold  Buy Sell\n",
      "Hold: 12005   61   86\n",
      " Buy:  853    8    0\n",
      "Sell:  827    0   10\n",
      "Testing year: 2012\n",
      "      Hold  Buy Sell\n",
      "Hold:  216    0    0\n",
      " Buy:   17    0    0\n",
      "Sell:   17    0    0\n"
     ]
    },
    {
     "name": "stderr",
     "output_type": "stream",
     "text": [
      "/home/ubuntu/anaconda3/envs/tensorflow/lib/python3.6/site-packages/sklearn/metrics/classification.py:1135: UndefinedMetricWarning: Precision and F-score are ill-defined and being set to 0.0 in labels with no predicted samples.\n",
      "  'precision', 'predicted', average, warn_for)\n"
     ]
    },
    {
     "name": "stdout",
     "output_type": "stream",
     "text": [
      "      Hold  Buy Sell\n",
      "Hold: 12221   61   86\n",
      " Buy:  870    8    0\n",
      "Sell:  844    0   10\n",
      "Testing year: 2013\n",
      "      Hold  Buy Sell\n",
      "Hold:  229    0    0\n",
      " Buy:   11    0    0\n",
      "Sell:   12    0    0\n"
     ]
    },
    {
     "name": "stderr",
     "output_type": "stream",
     "text": [
      "/home/ubuntu/anaconda3/envs/tensorflow/lib/python3.6/site-packages/sklearn/metrics/classification.py:1135: UndefinedMetricWarning: Precision and F-score are ill-defined and being set to 0.0 in labels with no predicted samples.\n",
      "  'precision', 'predicted', average, warn_for)\n"
     ]
    },
    {
     "name": "stdout",
     "output_type": "stream",
     "text": [
      "      Hold  Buy Sell\n",
      "Hold: 12450   61   86\n",
      " Buy:  881    8    0\n",
      "Sell:  856    0   10\n",
      "Testing year: 2014\n",
      "      Hold  Buy Sell\n",
      "Hold:  224    0    0\n",
      " Buy:   14    0    0\n",
      "Sell:   14    0    0\n"
     ]
    },
    {
     "name": "stderr",
     "output_type": "stream",
     "text": [
      "/home/ubuntu/anaconda3/envs/tensorflow/lib/python3.6/site-packages/sklearn/metrics/classification.py:1135: UndefinedMetricWarning: Precision and F-score are ill-defined and being set to 0.0 in labels with no predicted samples.\n",
      "  'precision', 'predicted', average, warn_for)\n"
     ]
    },
    {
     "name": "stdout",
     "output_type": "stream",
     "text": [
      "      Hold  Buy Sell\n",
      "Hold: 12674   61   86\n",
      " Buy:  895    8    0\n",
      "Sell:  870    0   10\n",
      "Testing year: 2015\n",
      "      Hold  Buy Sell\n",
      "Hold:  219    2    0\n",
      " Buy:   14    1    0\n",
      "Sell:   16    0    0\n"
     ]
    },
    {
     "name": "stderr",
     "output_type": "stream",
     "text": [
      "/home/ubuntu/anaconda3/envs/tensorflow/lib/python3.6/site-packages/sklearn/metrics/classification.py:1135: UndefinedMetricWarning: Precision and F-score are ill-defined and being set to 0.0 in labels with no predicted samples.\n",
      "  'precision', 'predicted', average, warn_for)\n"
     ]
    },
    {
     "name": "stdout",
     "output_type": "stream",
     "text": [
      "      Hold  Buy Sell\n",
      "Hold: 12893   63   86\n",
      " Buy:  909    9    0\n",
      "Sell:  886    0   10\n",
      "Testing year: 2016\n",
      "      Hold  Buy Sell\n",
      "Hold:  214    0    0\n",
      " Buy:   20    0    0\n",
      "Sell:   18    0    0\n"
     ]
    },
    {
     "name": "stderr",
     "output_type": "stream",
     "text": [
      "/home/ubuntu/anaconda3/envs/tensorflow/lib/python3.6/site-packages/sklearn/metrics/classification.py:1135: UndefinedMetricWarning: Precision and F-score are ill-defined and being set to 0.0 in labels with no predicted samples.\n",
      "  'precision', 'predicted', average, warn_for)\n"
     ]
    },
    {
     "name": "stdout",
     "output_type": "stream",
     "text": [
      "      Hold  Buy Sell\n",
      "Hold: 13107   63   86\n",
      " Buy:  929    9    0\n",
      "Sell:  904    0   10\n",
      "Stock: CVX Total return: 175.33248753887491 Annualized return: 10.658746363737826\n",
      "STOCK: DIS\n",
      "Testing year: 2007\n",
      "      Hold  Buy Sell\n",
      "Hold:  217    0    0\n",
      " Buy:   18    0    0\n",
      "Sell:   16    0    0\n"
     ]
    },
    {
     "name": "stderr",
     "output_type": "stream",
     "text": [
      "/home/ubuntu/anaconda3/envs/tensorflow/lib/python3.6/site-packages/sklearn/metrics/classification.py:1135: UndefinedMetricWarning: Precision and F-score are ill-defined and being set to 0.0 in labels with no predicted samples.\n",
      "  'precision', 'predicted', average, warn_for)\n"
     ]
    },
    {
     "name": "stdout",
     "output_type": "stream",
     "text": [
      "      Hold  Buy Sell\n",
      "Hold: 13324   63   86\n",
      " Buy:  947    9    0\n",
      "Sell:  920    0   10\n",
      "Testing year: 2008\n",
      "      Hold  Buy Sell\n",
      "Hold:  224    0    0\n",
      " Buy:   15    0    0\n",
      "Sell:   14    0    0\n"
     ]
    },
    {
     "name": "stderr",
     "output_type": "stream",
     "text": [
      "/home/ubuntu/anaconda3/envs/tensorflow/lib/python3.6/site-packages/sklearn/metrics/classification.py:1135: UndefinedMetricWarning: Precision and F-score are ill-defined and being set to 0.0 in labels with no predicted samples.\n",
      "  'precision', 'predicted', average, warn_for)\n"
     ]
    },
    {
     "name": "stdout",
     "output_type": "stream",
     "text": [
      "      Hold  Buy Sell\n",
      "Hold: 13548   63   86\n",
      " Buy:  962    9    0\n",
      "Sell:  934    0   10\n",
      "Testing year: 2009\n",
      "      Hold  Buy Sell\n",
      "Hold:  212    0   10\n",
      " Buy:   15    0    0\n",
      "Sell:   13    0    2\n"
     ]
    },
    {
     "name": "stderr",
     "output_type": "stream",
     "text": [
      "/home/ubuntu/anaconda3/envs/tensorflow/lib/python3.6/site-packages/sklearn/metrics/classification.py:1135: UndefinedMetricWarning: Precision and F-score are ill-defined and being set to 0.0 in labels with no predicted samples.\n",
      "  'precision', 'predicted', average, warn_for)\n"
     ]
    },
    {
     "name": "stdout",
     "output_type": "stream",
     "text": [
      "      Hold  Buy Sell\n",
      "Hold: 13760   63   96\n",
      " Buy:  977    9    0\n",
      "Sell:  947    0   12\n",
      "Testing year: 2010\n",
      "      Hold  Buy Sell\n",
      "Hold:  223    0    0\n",
      " Buy:   16    0    0\n",
      "Sell:   13    0    0\n"
     ]
    },
    {
     "name": "stderr",
     "output_type": "stream",
     "text": [
      "/home/ubuntu/anaconda3/envs/tensorflow/lib/python3.6/site-packages/sklearn/metrics/classification.py:1135: UndefinedMetricWarning: Precision and F-score are ill-defined and being set to 0.0 in labels with no predicted samples.\n",
      "  'precision', 'predicted', average, warn_for)\n"
     ]
    },
    {
     "name": "stdout",
     "output_type": "stream",
     "text": [
      "      Hold  Buy Sell\n",
      "Hold: 13983   63   96\n",
      " Buy:  993    9    0\n",
      "Sell:  960    0   12\n",
      "Testing year: 2011\n",
      "      Hold  Buy Sell\n",
      "Hold:  219    0    0\n",
      " Buy:   17    0    0\n",
      "Sell:   16    0    0\n"
     ]
    },
    {
     "name": "stderr",
     "output_type": "stream",
     "text": [
      "/home/ubuntu/anaconda3/envs/tensorflow/lib/python3.6/site-packages/sklearn/metrics/classification.py:1135: UndefinedMetricWarning: Precision and F-score are ill-defined and being set to 0.0 in labels with no predicted samples.\n",
      "  'precision', 'predicted', average, warn_for)\n"
     ]
    },
    {
     "name": "stdout",
     "output_type": "stream",
     "text": [
      "      Hold  Buy Sell\n",
      "Hold: 14202   63   96\n",
      " Buy: 1010    9    0\n",
      "Sell:  976    0   12\n",
      "Testing year: 2012\n",
      "      Hold  Buy Sell\n",
      "Hold:  215    0    0\n",
      " Buy:   16    0    0\n",
      "Sell:   19    0    0\n"
     ]
    },
    {
     "name": "stderr",
     "output_type": "stream",
     "text": [
      "/home/ubuntu/anaconda3/envs/tensorflow/lib/python3.6/site-packages/sklearn/metrics/classification.py:1135: UndefinedMetricWarning: Precision and F-score are ill-defined and being set to 0.0 in labels with no predicted samples.\n",
      "  'precision', 'predicted', average, warn_for)\n"
     ]
    },
    {
     "name": "stdout",
     "output_type": "stream",
     "text": [
      "      Hold  Buy Sell\n",
      "Hold: 14417   63   96\n",
      " Buy: 1026    9    0\n",
      "Sell:  995    0   12\n",
      "Testing year: 2013\n",
      "      Hold  Buy Sell\n",
      "Hold:  223    0    0\n",
      " Buy:   14    0    0\n",
      "Sell:   15    0    0\n"
     ]
    },
    {
     "name": "stderr",
     "output_type": "stream",
     "text": [
      "/home/ubuntu/anaconda3/envs/tensorflow/lib/python3.6/site-packages/sklearn/metrics/classification.py:1135: UndefinedMetricWarning: Precision and F-score are ill-defined and being set to 0.0 in labels with no predicted samples.\n",
      "  'precision', 'predicted', average, warn_for)\n"
     ]
    },
    {
     "name": "stdout",
     "output_type": "stream",
     "text": [
      "      Hold  Buy Sell\n",
      "Hold: 14640   63   96\n",
      " Buy: 1040    9    0\n",
      "Sell: 1010    0   12\n",
      "Testing year: 2014\n",
      "      Hold  Buy Sell\n",
      "Hold:  219    0    0\n",
      " Buy:   18    0    0\n",
      "Sell:   15    0    0\n"
     ]
    },
    {
     "name": "stderr",
     "output_type": "stream",
     "text": [
      "/home/ubuntu/anaconda3/envs/tensorflow/lib/python3.6/site-packages/sklearn/metrics/classification.py:1135: UndefinedMetricWarning: Precision and F-score are ill-defined and being set to 0.0 in labels with no predicted samples.\n",
      "  'precision', 'predicted', average, warn_for)\n"
     ]
    },
    {
     "name": "stdout",
     "output_type": "stream",
     "text": [
      "      Hold  Buy Sell\n",
      "Hold: 14859   63   96\n",
      " Buy: 1058    9    0\n",
      "Sell: 1025    0   12\n",
      "Testing year: 2015\n",
      "      Hold  Buy Sell\n",
      "Hold:  225    0    0\n",
      " Buy:   14    0    0\n",
      "Sell:   13    0    0\n"
     ]
    },
    {
     "name": "stderr",
     "output_type": "stream",
     "text": [
      "/home/ubuntu/anaconda3/envs/tensorflow/lib/python3.6/site-packages/sklearn/metrics/classification.py:1135: UndefinedMetricWarning: Precision and F-score are ill-defined and being set to 0.0 in labels with no predicted samples.\n",
      "  'precision', 'predicted', average, warn_for)\n"
     ]
    },
    {
     "name": "stdout",
     "output_type": "stream",
     "text": [
      "      Hold  Buy Sell\n",
      "Hold: 15084   63   96\n",
      " Buy: 1072    9    0\n",
      "Sell: 1038    0   12\n",
      "Testing year: 2016\n",
      "      Hold  Buy Sell\n",
      "Hold:  219    0    0\n",
      " Buy:   17    0    0\n",
      "Sell:   16    0    0\n"
     ]
    },
    {
     "name": "stderr",
     "output_type": "stream",
     "text": [
      "/home/ubuntu/anaconda3/envs/tensorflow/lib/python3.6/site-packages/sklearn/metrics/classification.py:1135: UndefinedMetricWarning: Precision and F-score are ill-defined and being set to 0.0 in labels with no predicted samples.\n",
      "  'precision', 'predicted', average, warn_for)\n"
     ]
    },
    {
     "name": "stdout",
     "output_type": "stream",
     "text": [
      "      Hold  Buy Sell\n",
      "Hold: 15303   63   96\n",
      " Buy: 1089    9    0\n",
      "Sell: 1054    0   12\n",
      "Stock: DIS Total return: 0.0 Annualized return: 0.0\n",
      "STOCK: DWDP\n",
      "Testing year: 2007\n",
      "      Hold  Buy Sell\n",
      "Hold:  217    0    0\n",
      " Buy:   16    0    0\n",
      "Sell:   18    0    0\n"
     ]
    },
    {
     "name": "stderr",
     "output_type": "stream",
     "text": [
      "/home/ubuntu/anaconda3/envs/tensorflow/lib/python3.6/site-packages/sklearn/metrics/classification.py:1135: UndefinedMetricWarning: Precision and F-score are ill-defined and being set to 0.0 in labels with no predicted samples.\n",
      "  'precision', 'predicted', average, warn_for)\n"
     ]
    },
    {
     "name": "stdout",
     "output_type": "stream",
     "text": [
      "      Hold  Buy Sell\n",
      "Hold: 15520   63   96\n",
      " Buy: 1105    9    0\n",
      "Sell: 1072    0   12\n",
      "Testing year: 2008\n",
      "      Hold  Buy Sell\n",
      "Hold:  225    1    0\n",
      " Buy:   13    0    0\n",
      "Sell:   14    0    0\n"
     ]
    },
    {
     "name": "stderr",
     "output_type": "stream",
     "text": [
      "/home/ubuntu/anaconda3/envs/tensorflow/lib/python3.6/site-packages/sklearn/metrics/classification.py:1135: UndefinedMetricWarning: Precision and F-score are ill-defined and being set to 0.0 in labels with no predicted samples.\n",
      "  'precision', 'predicted', average, warn_for)\n"
     ]
    },
    {
     "name": "stdout",
     "output_type": "stream",
     "text": [
      "      Hold  Buy Sell\n",
      "Hold: 15745   64   96\n",
      " Buy: 1118    9    0\n",
      "Sell: 1086    0   12\n",
      "Testing year: 2009\n",
      "      Hold  Buy Sell\n",
      "Hold:  135    0   96\n",
      " Buy:    8    0    4\n",
      "Sell:    4    0    5\n"
     ]
    },
    {
     "name": "stderr",
     "output_type": "stream",
     "text": [
      "/home/ubuntu/anaconda3/envs/tensorflow/lib/python3.6/site-packages/sklearn/metrics/classification.py:1135: UndefinedMetricWarning: Precision and F-score are ill-defined and being set to 0.0 in labels with no predicted samples.\n",
      "  'precision', 'predicted', average, warn_for)\n"
     ]
    },
    {
     "name": "stdout",
     "output_type": "stream",
     "text": [
      "      Hold  Buy Sell\n",
      "Hold: 15880   64  192\n",
      " Buy: 1126    9    4\n",
      "Sell: 1090    0   17\n",
      "Testing year: 2010\n",
      "      Hold  Buy Sell\n",
      "Hold:  219    0    0\n",
      " Buy:   13    0    0\n",
      "Sell:   20    0    0\n"
     ]
    },
    {
     "name": "stderr",
     "output_type": "stream",
     "text": [
      "/home/ubuntu/anaconda3/envs/tensorflow/lib/python3.6/site-packages/sklearn/metrics/classification.py:1135: UndefinedMetricWarning: Precision and F-score are ill-defined and being set to 0.0 in labels with no predicted samples.\n",
      "  'precision', 'predicted', average, warn_for)\n"
     ]
    },
    {
     "name": "stdout",
     "output_type": "stream",
     "text": [
      "      Hold  Buy Sell\n",
      "Hold: 16099   64  192\n",
      " Buy: 1139    9    4\n",
      "Sell: 1110    0   17\n",
      "Testing year: 2011\n",
      "      Hold  Buy Sell\n",
      "Hold:  224    0    0\n",
      " Buy:   14    0    0\n",
      "Sell:   14    0    0\n"
     ]
    },
    {
     "name": "stderr",
     "output_type": "stream",
     "text": [
      "/home/ubuntu/anaconda3/envs/tensorflow/lib/python3.6/site-packages/sklearn/metrics/classification.py:1135: UndefinedMetricWarning: Precision and F-score are ill-defined and being set to 0.0 in labels with no predicted samples.\n",
      "  'precision', 'predicted', average, warn_for)\n"
     ]
    },
    {
     "name": "stdout",
     "output_type": "stream",
     "text": [
      "      Hold  Buy Sell\n",
      "Hold: 16323   64  192\n",
      " Buy: 1153    9    4\n",
      "Sell: 1124    0   17\n",
      "Testing year: 2012\n",
      "      Hold  Buy Sell\n",
      "Hold:  222    0    0\n",
      " Buy:   15    0    0\n",
      "Sell:   13    0    0\n"
     ]
    },
    {
     "name": "stderr",
     "output_type": "stream",
     "text": [
      "/home/ubuntu/anaconda3/envs/tensorflow/lib/python3.6/site-packages/sklearn/metrics/classification.py:1135: UndefinedMetricWarning: Precision and F-score are ill-defined and being set to 0.0 in labels with no predicted samples.\n",
      "  'precision', 'predicted', average, warn_for)\n"
     ]
    },
    {
     "name": "stdout",
     "output_type": "stream",
     "text": [
      "      Hold  Buy Sell\n",
      "Hold: 16545   64  192\n",
      " Buy: 1168    9    4\n",
      "Sell: 1137    0   17\n",
      "Testing year: 2013\n",
      "      Hold  Buy Sell\n",
      "Hold:  224    0    0\n",
      " Buy:   12    0    0\n",
      "Sell:   16    0    0\n"
     ]
    },
    {
     "name": "stderr",
     "output_type": "stream",
     "text": [
      "/home/ubuntu/anaconda3/envs/tensorflow/lib/python3.6/site-packages/sklearn/metrics/classification.py:1135: UndefinedMetricWarning: Precision and F-score are ill-defined and being set to 0.0 in labels with no predicted samples.\n",
      "  'precision', 'predicted', average, warn_for)\n"
     ]
    },
    {
     "name": "stdout",
     "output_type": "stream",
     "text": [
      "      Hold  Buy Sell\n",
      "Hold: 16769   64  192\n",
      " Buy: 1180    9    4\n",
      "Sell: 1153    0   17\n",
      "Testing year: 2014\n",
      "      Hold  Buy Sell\n",
      "Hold:  219    0    0\n",
      " Buy:   16    0    0\n",
      "Sell:   17    0    0\n"
     ]
    },
    {
     "name": "stderr",
     "output_type": "stream",
     "text": [
      "/home/ubuntu/anaconda3/envs/tensorflow/lib/python3.6/site-packages/sklearn/metrics/classification.py:1135: UndefinedMetricWarning: Precision and F-score are ill-defined and being set to 0.0 in labels with no predicted samples.\n",
      "  'precision', 'predicted', average, warn_for)\n"
     ]
    },
    {
     "name": "stdout",
     "output_type": "stream",
     "text": [
      "      Hold  Buy Sell\n",
      "Hold: 16988   64  192\n",
      " Buy: 1196    9    4\n",
      "Sell: 1170    0   17\n",
      "Testing year: 2015\n",
      "      Hold  Buy Sell\n",
      "Hold:  219    0    0\n",
      " Buy:   15    0    0\n",
      "Sell:   18    0    0\n"
     ]
    },
    {
     "name": "stderr",
     "output_type": "stream",
     "text": [
      "/home/ubuntu/anaconda3/envs/tensorflow/lib/python3.6/site-packages/sklearn/metrics/classification.py:1135: UndefinedMetricWarning: Precision and F-score are ill-defined and being set to 0.0 in labels with no predicted samples.\n",
      "  'precision', 'predicted', average, warn_for)\n"
     ]
    },
    {
     "name": "stdout",
     "output_type": "stream",
     "text": [
      "      Hold  Buy Sell\n",
      "Hold: 17207   64  192\n",
      " Buy: 1211    9    4\n",
      "Sell: 1188    0   17\n",
      "Testing year: 2016\n",
      "      Hold  Buy Sell\n",
      "Hold:  219    0    0\n",
      " Buy:   18    0    0\n",
      "Sell:   15    0    0\n"
     ]
    },
    {
     "name": "stderr",
     "output_type": "stream",
     "text": [
      "/home/ubuntu/anaconda3/envs/tensorflow/lib/python3.6/site-packages/sklearn/metrics/classification.py:1135: UndefinedMetricWarning: Precision and F-score are ill-defined and being set to 0.0 in labels with no predicted samples.\n",
      "  'precision', 'predicted', average, warn_for)\n"
     ]
    },
    {
     "name": "stdout",
     "output_type": "stream",
     "text": [
      "      Hold  Buy Sell\n",
      "Hold: 17426   64  192\n",
      " Buy: 1229    9    4\n",
      "Sell: 1203    0   17\n",
      "Stock: DWDP Total return: -49.258031901529776 Annualized return: -6.559160676841358\n",
      "STOCK: GE\n",
      "Testing year: 2007\n",
      "      Hold  Buy Sell\n",
      "Hold:  216    0    0\n",
      " Buy:   16    0    0\n",
      "Sell:   19    0    0\n"
     ]
    },
    {
     "name": "stderr",
     "output_type": "stream",
     "text": [
      "/home/ubuntu/anaconda3/envs/tensorflow/lib/python3.6/site-packages/sklearn/metrics/classification.py:1135: UndefinedMetricWarning: Precision and F-score are ill-defined and being set to 0.0 in labels with no predicted samples.\n",
      "  'precision', 'predicted', average, warn_for)\n"
     ]
    },
    {
     "name": "stdout",
     "output_type": "stream",
     "text": [
      "      Hold  Buy Sell\n",
      "Hold: 17642   64  192\n",
      " Buy: 1245    9    4\n",
      "Sell: 1222    0   17\n",
      "Testing year: 2008\n",
      "      Hold  Buy Sell\n",
      "Hold:  223    0    0\n",
      " Buy:   15    0    0\n",
      "Sell:   15    0    0\n"
     ]
    },
    {
     "name": "stderr",
     "output_type": "stream",
     "text": [
      "/home/ubuntu/anaconda3/envs/tensorflow/lib/python3.6/site-packages/sklearn/metrics/classification.py:1135: UndefinedMetricWarning: Precision and F-score are ill-defined and being set to 0.0 in labels with no predicted samples.\n",
      "  'precision', 'predicted', average, warn_for)\n"
     ]
    },
    {
     "name": "stdout",
     "output_type": "stream",
     "text": [
      "      Hold  Buy Sell\n",
      "Hold: 17865   64  192\n",
      " Buy: 1260    9    4\n",
      "Sell: 1237    0   17\n",
      "Testing year: 2009\n",
      "      Hold  Buy Sell\n",
      "Hold:  143    0   76\n",
      " Buy:   15    0    3\n",
      "Sell:    6    0    9\n"
     ]
    },
    {
     "name": "stderr",
     "output_type": "stream",
     "text": [
      "/home/ubuntu/anaconda3/envs/tensorflow/lib/python3.6/site-packages/sklearn/metrics/classification.py:1135: UndefinedMetricWarning: Precision and F-score are ill-defined and being set to 0.0 in labels with no predicted samples.\n",
      "  'precision', 'predicted', average, warn_for)\n"
     ]
    },
    {
     "name": "stdout",
     "output_type": "stream",
     "text": [
      "      Hold  Buy Sell\n",
      "Hold: 18008   64  268\n",
      " Buy: 1275    9    7\n",
      "Sell: 1243    0   26\n",
      "Testing year: 2010\n",
      "      Hold  Buy Sell\n",
      "Hold:  222    0    0\n",
      " Buy:   15    0    0\n",
      "Sell:   15    0    0\n"
     ]
    },
    {
     "name": "stderr",
     "output_type": "stream",
     "text": [
      "/home/ubuntu/anaconda3/envs/tensorflow/lib/python3.6/site-packages/sklearn/metrics/classification.py:1135: UndefinedMetricWarning: Precision and F-score are ill-defined and being set to 0.0 in labels with no predicted samples.\n",
      "  'precision', 'predicted', average, warn_for)\n"
     ]
    },
    {
     "name": "stdout",
     "output_type": "stream",
     "text": [
      "      Hold  Buy Sell\n",
      "Hold: 18230   64  268\n",
      " Buy: 1290    9    7\n",
      "Sell: 1258    0   26\n",
      "Testing year: 2011\n",
      "      Hold  Buy Sell\n",
      "Hold:  221    0    0\n",
      " Buy:   18    0    0\n",
      "Sell:   13    0    0\n"
     ]
    },
    {
     "name": "stderr",
     "output_type": "stream",
     "text": [
      "/home/ubuntu/anaconda3/envs/tensorflow/lib/python3.6/site-packages/sklearn/metrics/classification.py:1135: UndefinedMetricWarning: Precision and F-score are ill-defined and being set to 0.0 in labels with no predicted samples.\n",
      "  'precision', 'predicted', average, warn_for)\n"
     ]
    },
    {
     "name": "stdout",
     "output_type": "stream",
     "text": [
      "      Hold  Buy Sell\n",
      "Hold: 18451   64  268\n",
      " Buy: 1308    9    7\n",
      "Sell: 1271    0   26\n",
      "Testing year: 2012\n",
      "      Hold  Buy Sell\n",
      "Hold:  219    0    0\n",
      " Buy:   18    0    0\n",
      "Sell:   13    0    0\n"
     ]
    },
    {
     "name": "stderr",
     "output_type": "stream",
     "text": [
      "/home/ubuntu/anaconda3/envs/tensorflow/lib/python3.6/site-packages/sklearn/metrics/classification.py:1135: UndefinedMetricWarning: Precision and F-score are ill-defined and being set to 0.0 in labels with no predicted samples.\n",
      "  'precision', 'predicted', average, warn_for)\n"
     ]
    },
    {
     "name": "stdout",
     "output_type": "stream",
     "text": [
      "      Hold  Buy Sell\n",
      "Hold: 18670   64  268\n",
      " Buy: 1326    9    7\n",
      "Sell: 1284    0   26\n",
      "Testing year: 2013\n",
      "      Hold  Buy Sell\n",
      "Hold:  222    0    0\n",
      " Buy:   12    0    0\n",
      "Sell:   18    0    0\n"
     ]
    },
    {
     "name": "stderr",
     "output_type": "stream",
     "text": [
      "/home/ubuntu/anaconda3/envs/tensorflow/lib/python3.6/site-packages/sklearn/metrics/classification.py:1135: UndefinedMetricWarning: Precision and F-score are ill-defined and being set to 0.0 in labels with no predicted samples.\n",
      "  'precision', 'predicted', average, warn_for)\n"
     ]
    },
    {
     "name": "stdout",
     "output_type": "stream",
     "text": [
      "      Hold  Buy Sell\n",
      "Hold: 18892   64  268\n",
      " Buy: 1338    9    7\n",
      "Sell: 1302    0   26\n",
      "Testing year: 2014\n",
      "      Hold  Buy Sell\n",
      "Hold:  219    0    0\n",
      " Buy:   17    0    0\n",
      "Sell:   16    0    0\n"
     ]
    },
    {
     "name": "stderr",
     "output_type": "stream",
     "text": [
      "/home/ubuntu/anaconda3/envs/tensorflow/lib/python3.6/site-packages/sklearn/metrics/classification.py:1135: UndefinedMetricWarning: Precision and F-score are ill-defined and being set to 0.0 in labels with no predicted samples.\n",
      "  'precision', 'predicted', average, warn_for)\n"
     ]
    },
    {
     "name": "stdout",
     "output_type": "stream",
     "text": [
      "      Hold  Buy Sell\n",
      "Hold: 19111   64  268\n",
      " Buy: 1355    9    7\n",
      "Sell: 1318    0   26\n",
      "Testing year: 2015\n",
      "      Hold  Buy Sell\n",
      "Hold:  222    0    0\n",
      " Buy:   15    0    0\n",
      "Sell:   15    0    0\n"
     ]
    },
    {
     "name": "stderr",
     "output_type": "stream",
     "text": [
      "/home/ubuntu/anaconda3/envs/tensorflow/lib/python3.6/site-packages/sklearn/metrics/classification.py:1135: UndefinedMetricWarning: Precision and F-score are ill-defined and being set to 0.0 in labels with no predicted samples.\n",
      "  'precision', 'predicted', average, warn_for)\n"
     ]
    },
    {
     "name": "stdout",
     "output_type": "stream",
     "text": [
      "      Hold  Buy Sell\n",
      "Hold: 19333   64  268\n",
      " Buy: 1370    9    7\n",
      "Sell: 1333    0   26\n",
      "Testing year: 2016\n",
      "      Hold  Buy Sell\n",
      "Hold:  220    0    0\n",
      " Buy:   17    0    0\n",
      "Sell:   15    0    0\n"
     ]
    },
    {
     "name": "stderr",
     "output_type": "stream",
     "text": [
      "/home/ubuntu/anaconda3/envs/tensorflow/lib/python3.6/site-packages/sklearn/metrics/classification.py:1135: UndefinedMetricWarning: Precision and F-score are ill-defined and being set to 0.0 in labels with no predicted samples.\n",
      "  'precision', 'predicted', average, warn_for)\n"
     ]
    },
    {
     "name": "stdout",
     "output_type": "stream",
     "text": [
      "      Hold  Buy Sell\n",
      "Hold: 19553   64  268\n",
      " Buy: 1387    9    7\n",
      "Sell: 1348    0   26\n",
      "Stock: GE Total return: 0.0 Annualized return: 0.0\n",
      "STOCK: HD\n",
      "Testing year: 2007\n",
      "      Hold  Buy Sell\n",
      "Hold:  219    0    0\n",
      " Buy:   15    0    0\n",
      "Sell:   17    0    0\n"
     ]
    },
    {
     "name": "stderr",
     "output_type": "stream",
     "text": [
      "/home/ubuntu/anaconda3/envs/tensorflow/lib/python3.6/site-packages/sklearn/metrics/classification.py:1135: UndefinedMetricWarning: Precision and F-score are ill-defined and being set to 0.0 in labels with no predicted samples.\n",
      "  'precision', 'predicted', average, warn_for)\n"
     ]
    },
    {
     "name": "stdout",
     "output_type": "stream",
     "text": [
      "      Hold  Buy Sell\n",
      "Hold: 19772   64  268\n",
      " Buy: 1402    9    7\n",
      "Sell: 1365    0   26\n",
      "Testing year: 2008\n",
      "      Hold  Buy Sell\n",
      "Hold:  217    0    4\n",
      " Buy:   15    0    0\n",
      "Sell:   16    0    1\n"
     ]
    },
    {
     "name": "stderr",
     "output_type": "stream",
     "text": [
      "/home/ubuntu/anaconda3/envs/tensorflow/lib/python3.6/site-packages/sklearn/metrics/classification.py:1135: UndefinedMetricWarning: Precision and F-score are ill-defined and being set to 0.0 in labels with no predicted samples.\n",
      "  'precision', 'predicted', average, warn_for)\n"
     ]
    },
    {
     "name": "stdout",
     "output_type": "stream",
     "text": [
      "      Hold  Buy Sell\n",
      "Hold: 19989   64  272\n",
      " Buy: 1417    9    7\n",
      "Sell: 1381    0   27\n",
      "Testing year: 2009\n",
      "      Hold  Buy Sell\n",
      "Hold:  201    0   23\n",
      " Buy:   13    0    0\n",
      "Sell:   15    0    0\n"
     ]
    },
    {
     "name": "stderr",
     "output_type": "stream",
     "text": [
      "/home/ubuntu/anaconda3/envs/tensorflow/lib/python3.6/site-packages/sklearn/metrics/classification.py:1135: UndefinedMetricWarning: Precision and F-score are ill-defined and being set to 0.0 in labels with no predicted samples.\n",
      "  'precision', 'predicted', average, warn_for)\n"
     ]
    },
    {
     "name": "stdout",
     "output_type": "stream",
     "text": [
      "      Hold  Buy Sell\n",
      "Hold: 20190   64  295\n",
      " Buy: 1430    9    7\n",
      "Sell: 1396    0   27\n",
      "Testing year: 2010\n",
      "      Hold  Buy Sell\n",
      "Hold:  222    0    0\n",
      " Buy:   16    0    0\n",
      "Sell:   14    0    0\n"
     ]
    },
    {
     "name": "stderr",
     "output_type": "stream",
     "text": [
      "/home/ubuntu/anaconda3/envs/tensorflow/lib/python3.6/site-packages/sklearn/metrics/classification.py:1135: UndefinedMetricWarning: Precision and F-score are ill-defined and being set to 0.0 in labels with no predicted samples.\n",
      "  'precision', 'predicted', average, warn_for)\n"
     ]
    },
    {
     "name": "stdout",
     "output_type": "stream",
     "text": [
      "      Hold  Buy Sell\n",
      "Hold: 20412   64  295\n",
      " Buy: 1446    9    7\n",
      "Sell: 1410    0   27\n",
      "Testing year: 2011\n",
      "      Hold  Buy Sell\n",
      "Hold:  222    0    0\n",
      " Buy:   16    0    0\n",
      "Sell:   14    0    0\n"
     ]
    },
    {
     "name": "stderr",
     "output_type": "stream",
     "text": [
      "/home/ubuntu/anaconda3/envs/tensorflow/lib/python3.6/site-packages/sklearn/metrics/classification.py:1135: UndefinedMetricWarning: Precision and F-score are ill-defined and being set to 0.0 in labels with no predicted samples.\n",
      "  'precision', 'predicted', average, warn_for)\n"
     ]
    },
    {
     "name": "stdout",
     "output_type": "stream",
     "text": [
      "      Hold  Buy Sell\n",
      "Hold: 20634   64  295\n",
      " Buy: 1462    9    7\n",
      "Sell: 1424    0   27\n",
      "Testing year: 2012\n",
      "      Hold  Buy Sell\n",
      "Hold:  224    0    0\n",
      " Buy:   14    0    0\n",
      "Sell:   12    0    0\n"
     ]
    },
    {
     "name": "stderr",
     "output_type": "stream",
     "text": [
      "/home/ubuntu/anaconda3/envs/tensorflow/lib/python3.6/site-packages/sklearn/metrics/classification.py:1135: UndefinedMetricWarning: Precision and F-score are ill-defined and being set to 0.0 in labels with no predicted samples.\n",
      "  'precision', 'predicted', average, warn_for)\n"
     ]
    },
    {
     "name": "stdout",
     "output_type": "stream",
     "text": [
      "      Hold  Buy Sell\n",
      "Hold: 20858   64  295\n",
      " Buy: 1476    9    7\n",
      "Sell: 1436    0   27\n",
      "Testing year: 2013\n",
      "      Hold  Buy Sell\n",
      "Hold:  220    0    0\n",
      " Buy:   16    0    0\n",
      "Sell:   16    0    0\n"
     ]
    },
    {
     "name": "stderr",
     "output_type": "stream",
     "text": [
      "/home/ubuntu/anaconda3/envs/tensorflow/lib/python3.6/site-packages/sklearn/metrics/classification.py:1135: UndefinedMetricWarning: Precision and F-score are ill-defined and being set to 0.0 in labels with no predicted samples.\n",
      "  'precision', 'predicted', average, warn_for)\n"
     ]
    },
    {
     "name": "stdout",
     "output_type": "stream",
     "text": [
      "      Hold  Buy Sell\n",
      "Hold: 21078   64  295\n",
      " Buy: 1492    9    7\n",
      "Sell: 1452    0   27\n",
      "Testing year: 2014\n",
      "      Hold  Buy Sell\n",
      "Hold:  221    0    0\n",
      " Buy:   15    0    0\n",
      "Sell:   16    0    0\n"
     ]
    },
    {
     "name": "stderr",
     "output_type": "stream",
     "text": [
      "/home/ubuntu/anaconda3/envs/tensorflow/lib/python3.6/site-packages/sklearn/metrics/classification.py:1135: UndefinedMetricWarning: Precision and F-score are ill-defined and being set to 0.0 in labels with no predicted samples.\n",
      "  'precision', 'predicted', average, warn_for)\n"
     ]
    },
    {
     "name": "stdout",
     "output_type": "stream",
     "text": [
      "      Hold  Buy Sell\n",
      "Hold: 21299   64  295\n",
      " Buy: 1507    9    7\n",
      "Sell: 1468    0   27\n",
      "Testing year: 2015\n",
      "      Hold  Buy Sell\n",
      "Hold:  218    0    0\n",
      " Buy:   18    0    0\n",
      "Sell:   16    0    0\n"
     ]
    },
    {
     "name": "stderr",
     "output_type": "stream",
     "text": [
      "/home/ubuntu/anaconda3/envs/tensorflow/lib/python3.6/site-packages/sklearn/metrics/classification.py:1135: UndefinedMetricWarning: Precision and F-score are ill-defined and being set to 0.0 in labels with no predicted samples.\n",
      "  'precision', 'predicted', average, warn_for)\n"
     ]
    },
    {
     "name": "stdout",
     "output_type": "stream",
     "text": [
      "      Hold  Buy Sell\n",
      "Hold: 21517   64  295\n",
      " Buy: 1525    9    7\n",
      "Sell: 1484    0   27\n",
      "Testing year: 2016\n",
      "      Hold  Buy Sell\n",
      "Hold:  218    0    0\n",
      " Buy:   16    0    0\n",
      "Sell:   18    0    0\n"
     ]
    },
    {
     "name": "stderr",
     "output_type": "stream",
     "text": [
      "/home/ubuntu/anaconda3/envs/tensorflow/lib/python3.6/site-packages/sklearn/metrics/classification.py:1135: UndefinedMetricWarning: Precision and F-score are ill-defined and being set to 0.0 in labels with no predicted samples.\n",
      "  'precision', 'predicted', average, warn_for)\n"
     ]
    },
    {
     "name": "stdout",
     "output_type": "stream",
     "text": [
      "      Hold  Buy Sell\n",
      "Hold: 21735   64  295\n",
      " Buy: 1541    9    7\n",
      "Sell: 1502    0   27\n",
      "Stock: HD Total return: 0.0 Annualized return: 0.0\n",
      "STOCK: IBM\n",
      "Testing year: 2007\n",
      "      Hold  Buy Sell\n",
      "Hold:  216    0    0\n",
      " Buy:   19    0    0\n",
      "Sell:   16    0    0\n"
     ]
    },
    {
     "name": "stderr",
     "output_type": "stream",
     "text": [
      "/home/ubuntu/anaconda3/envs/tensorflow/lib/python3.6/site-packages/sklearn/metrics/classification.py:1135: UndefinedMetricWarning: Precision and F-score are ill-defined and being set to 0.0 in labels with no predicted samples.\n",
      "  'precision', 'predicted', average, warn_for)\n"
     ]
    },
    {
     "name": "stdout",
     "output_type": "stream",
     "text": [
      "      Hold  Buy Sell\n",
      "Hold: 21951   64  295\n",
      " Buy: 1560    9    7\n",
      "Sell: 1518    0   27\n",
      "Testing year: 2008\n",
      "      Hold  Buy Sell\n",
      "Hold:  213    7    0\n",
      " Buy:   14    2    0\n",
      "Sell:   17    0    0\n"
     ]
    },
    {
     "name": "stderr",
     "output_type": "stream",
     "text": [
      "/home/ubuntu/anaconda3/envs/tensorflow/lib/python3.6/site-packages/sklearn/metrics/classification.py:1135: UndefinedMetricWarning: Precision and F-score are ill-defined and being set to 0.0 in labels with no predicted samples.\n",
      "  'precision', 'predicted', average, warn_for)\n"
     ]
    },
    {
     "name": "stdout",
     "output_type": "stream",
     "text": [
      "      Hold  Buy Sell\n",
      "Hold: 22164   71  295\n",
      " Buy: 1574   11    7\n",
      "Sell: 1535    0   27\n",
      "Testing year: 2009\n",
      "      Hold  Buy Sell\n",
      "Hold:  220    0    0\n",
      " Buy:   15    0    0\n",
      "Sell:   17    0    0\n"
     ]
    },
    {
     "name": "stderr",
     "output_type": "stream",
     "text": [
      "/home/ubuntu/anaconda3/envs/tensorflow/lib/python3.6/site-packages/sklearn/metrics/classification.py:1135: UndefinedMetricWarning: Precision and F-score are ill-defined and being set to 0.0 in labels with no predicted samples.\n",
      "  'precision', 'predicted', average, warn_for)\n"
     ]
    },
    {
     "name": "stdout",
     "output_type": "stream",
     "text": [
      "      Hold  Buy Sell\n",
      "Hold: 22384   71  295\n",
      " Buy: 1589   11    7\n",
      "Sell: 1552    0   27\n",
      "Testing year: 2010\n",
      "      Hold  Buy Sell\n",
      "Hold:  221    0    0\n",
      " Buy:   15    0    0\n",
      "Sell:   16    0    0\n"
     ]
    },
    {
     "name": "stderr",
     "output_type": "stream",
     "text": [
      "/home/ubuntu/anaconda3/envs/tensorflow/lib/python3.6/site-packages/sklearn/metrics/classification.py:1135: UndefinedMetricWarning: Precision and F-score are ill-defined and being set to 0.0 in labels with no predicted samples.\n",
      "  'precision', 'predicted', average, warn_for)\n"
     ]
    },
    {
     "name": "stdout",
     "output_type": "stream",
     "text": [
      "      Hold  Buy Sell\n",
      "Hold: 22605   71  295\n",
      " Buy: 1604   11    7\n",
      "Sell: 1568    0   27\n",
      "Testing year: 2011\n",
      "      Hold  Buy Sell\n",
      "Hold:  223    0    0\n",
      " Buy:   15    0    0\n",
      "Sell:   14    0    0\n"
     ]
    },
    {
     "name": "stderr",
     "output_type": "stream",
     "text": [
      "/home/ubuntu/anaconda3/envs/tensorflow/lib/python3.6/site-packages/sklearn/metrics/classification.py:1135: UndefinedMetricWarning: Precision and F-score are ill-defined and being set to 0.0 in labels with no predicted samples.\n",
      "  'precision', 'predicted', average, warn_for)\n"
     ]
    },
    {
     "name": "stdout",
     "output_type": "stream",
     "text": [
      "      Hold  Buy Sell\n",
      "Hold: 22828   71  295\n",
      " Buy: 1619   11    7\n",
      "Sell: 1582    0   27\n",
      "Testing year: 2012\n",
      "      Hold  Buy Sell\n",
      "Hold:  219    0    0\n",
      " Buy:   15    0    0\n",
      "Sell:   16    0    0\n"
     ]
    },
    {
     "name": "stderr",
     "output_type": "stream",
     "text": [
      "/home/ubuntu/anaconda3/envs/tensorflow/lib/python3.6/site-packages/sklearn/metrics/classification.py:1135: UndefinedMetricWarning: Precision and F-score are ill-defined and being set to 0.0 in labels with no predicted samples.\n",
      "  'precision', 'predicted', average, warn_for)\n"
     ]
    },
    {
     "name": "stdout",
     "output_type": "stream",
     "text": [
      "      Hold  Buy Sell\n",
      "Hold: 23047   71  295\n",
      " Buy: 1634   11    7\n",
      "Sell: 1598    0   27\n",
      "Testing year: 2013\n",
      "      Hold  Buy Sell\n",
      "Hold:  221    0    0\n",
      " Buy:   14    0    0\n",
      "Sell:   17    0    0\n"
     ]
    },
    {
     "name": "stderr",
     "output_type": "stream",
     "text": [
      "/home/ubuntu/anaconda3/envs/tensorflow/lib/python3.6/site-packages/sklearn/metrics/classification.py:1135: UndefinedMetricWarning: Precision and F-score are ill-defined and being set to 0.0 in labels with no predicted samples.\n",
      "  'precision', 'predicted', average, warn_for)\n"
     ]
    },
    {
     "name": "stdout",
     "output_type": "stream",
     "text": [
      "      Hold  Buy Sell\n",
      "Hold: 23268   71  295\n",
      " Buy: 1648   11    7\n",
      "Sell: 1615    0   27\n",
      "Testing year: 2014\n",
      "      Hold  Buy Sell\n",
      "Hold:  221    0    0\n",
      " Buy:   13    0    0\n",
      "Sell:   18    0    0\n"
     ]
    },
    {
     "name": "stderr",
     "output_type": "stream",
     "text": [
      "/home/ubuntu/anaconda3/envs/tensorflow/lib/python3.6/site-packages/sklearn/metrics/classification.py:1135: UndefinedMetricWarning: Precision and F-score are ill-defined and being set to 0.0 in labels with no predicted samples.\n",
      "  'precision', 'predicted', average, warn_for)\n"
     ]
    },
    {
     "name": "stdout",
     "output_type": "stream",
     "text": [
      "      Hold  Buy Sell\n",
      "Hold: 23489   71  295\n",
      " Buy: 1661   11    7\n",
      "Sell: 1633    0   27\n",
      "Testing year: 2015\n",
      "      Hold  Buy Sell\n",
      "Hold:  227    0    0\n",
      " Buy:   12    0    0\n",
      "Sell:   13    0    0\n"
     ]
    },
    {
     "name": "stderr",
     "output_type": "stream",
     "text": [
      "/home/ubuntu/anaconda3/envs/tensorflow/lib/python3.6/site-packages/sklearn/metrics/classification.py:1135: UndefinedMetricWarning: Precision and F-score are ill-defined and being set to 0.0 in labels with no predicted samples.\n",
      "  'precision', 'predicted', average, warn_for)\n"
     ]
    },
    {
     "name": "stdout",
     "output_type": "stream",
     "text": [
      "      Hold  Buy Sell\n",
      "Hold: 23716   71  295\n",
      " Buy: 1673   11    7\n",
      "Sell: 1646    0   27\n",
      "Testing year: 2016\n",
      "      Hold  Buy Sell\n",
      "Hold:  221    0    0\n",
      " Buy:   16    0    0\n",
      "Sell:   15    0    0\n"
     ]
    },
    {
     "name": "stderr",
     "output_type": "stream",
     "text": [
      "/home/ubuntu/anaconda3/envs/tensorflow/lib/python3.6/site-packages/sklearn/metrics/classification.py:1135: UndefinedMetricWarning: Precision and F-score are ill-defined and being set to 0.0 in labels with no predicted samples.\n",
      "  'precision', 'predicted', average, warn_for)\n"
     ]
    },
    {
     "name": "stdout",
     "output_type": "stream",
     "text": [
      "      Hold  Buy Sell\n",
      "Hold: 23937   71  295\n",
      " Buy: 1689   11    7\n",
      "Sell: 1661    0   27\n",
      "Stock: IBM Total return: 132.80143084982492 Annualized return: 8.817455006532683\n",
      "STOCK: INTC\n",
      "Testing year: 2007\n",
      "      Hold  Buy Sell\n",
      "Hold:  215    0    0\n",
      " Buy:   19    0    0\n",
      "Sell:   17    0    0\n"
     ]
    },
    {
     "name": "stderr",
     "output_type": "stream",
     "text": [
      "/home/ubuntu/anaconda3/envs/tensorflow/lib/python3.6/site-packages/sklearn/metrics/classification.py:1135: UndefinedMetricWarning: Precision and F-score are ill-defined and being set to 0.0 in labels with no predicted samples.\n",
      "  'precision', 'predicted', average, warn_for)\n"
     ]
    },
    {
     "name": "stdout",
     "output_type": "stream",
     "text": [
      "      Hold  Buy Sell\n",
      "Hold: 24152   71  295\n",
      " Buy: 1708   11    7\n",
      "Sell: 1678    0   27\n",
      "Testing year: 2008\n",
      "      Hold  Buy Sell\n",
      "Hold:  224    0    0\n",
      " Buy:   14    0    0\n",
      "Sell:   15    0    0\n"
     ]
    },
    {
     "name": "stderr",
     "output_type": "stream",
     "text": [
      "/home/ubuntu/anaconda3/envs/tensorflow/lib/python3.6/site-packages/sklearn/metrics/classification.py:1135: UndefinedMetricWarning: Precision and F-score are ill-defined and being set to 0.0 in labels with no predicted samples.\n",
      "  'precision', 'predicted', average, warn_for)\n"
     ]
    },
    {
     "name": "stdout",
     "output_type": "stream",
     "text": [
      "      Hold  Buy Sell\n",
      "Hold: 24376   71  295\n",
      " Buy: 1722   11    7\n",
      "Sell: 1693    0   27\n",
      "Testing year: 2009\n",
      "      Hold  Buy Sell\n",
      "Hold:  216    0    0\n",
      " Buy:   19    0    0\n",
      "Sell:   17    0    0\n"
     ]
    },
    {
     "name": "stderr",
     "output_type": "stream",
     "text": [
      "/home/ubuntu/anaconda3/envs/tensorflow/lib/python3.6/site-packages/sklearn/metrics/classification.py:1135: UndefinedMetricWarning: Precision and F-score are ill-defined and being set to 0.0 in labels with no predicted samples.\n",
      "  'precision', 'predicted', average, warn_for)\n"
     ]
    },
    {
     "name": "stdout",
     "output_type": "stream",
     "text": [
      "      Hold  Buy Sell\n",
      "Hold: 24592   71  295\n",
      " Buy: 1741   11    7\n",
      "Sell: 1710    0   27\n",
      "Testing year: 2010\n",
      "      Hold  Buy Sell\n",
      "Hold:  225    0    0\n",
      " Buy:   13    0    0\n",
      "Sell:   14    0    0\n"
     ]
    },
    {
     "name": "stderr",
     "output_type": "stream",
     "text": [
      "/home/ubuntu/anaconda3/envs/tensorflow/lib/python3.6/site-packages/sklearn/metrics/classification.py:1135: UndefinedMetricWarning: Precision and F-score are ill-defined and being set to 0.0 in labels with no predicted samples.\n",
      "  'precision', 'predicted', average, warn_for)\n"
     ]
    },
    {
     "name": "stdout",
     "output_type": "stream",
     "text": [
      "      Hold  Buy Sell\n",
      "Hold: 24817   71  295\n",
      " Buy: 1754   11    7\n",
      "Sell: 1724    0   27\n",
      "Testing year: 2011\n",
      "      Hold  Buy Sell\n",
      "Hold:  222    0    0\n",
      " Buy:   15    0    0\n",
      "Sell:   15    0    0\n"
     ]
    },
    {
     "name": "stderr",
     "output_type": "stream",
     "text": [
      "/home/ubuntu/anaconda3/envs/tensorflow/lib/python3.6/site-packages/sklearn/metrics/classification.py:1135: UndefinedMetricWarning: Precision and F-score are ill-defined and being set to 0.0 in labels with no predicted samples.\n",
      "  'precision', 'predicted', average, warn_for)\n"
     ]
    },
    {
     "name": "stdout",
     "output_type": "stream",
     "text": [
      "      Hold  Buy Sell\n",
      "Hold: 25039   71  295\n",
      " Buy: 1769   11    7\n",
      "Sell: 1739    0   27\n",
      "Testing year: 2012\n",
      "      Hold  Buy Sell\n",
      "Hold:  217    0    0\n",
      " Buy:   15    0    0\n",
      "Sell:   18    0    0\n"
     ]
    },
    {
     "name": "stderr",
     "output_type": "stream",
     "text": [
      "/home/ubuntu/anaconda3/envs/tensorflow/lib/python3.6/site-packages/sklearn/metrics/classification.py:1135: UndefinedMetricWarning: Precision and F-score are ill-defined and being set to 0.0 in labels with no predicted samples.\n",
      "  'precision', 'predicted', average, warn_for)\n"
     ]
    },
    {
     "name": "stdout",
     "output_type": "stream",
     "text": [
      "      Hold  Buy Sell\n",
      "Hold: 25256   71  295\n",
      " Buy: 1784   11    7\n",
      "Sell: 1757    0   27\n",
      "Testing year: 2013\n",
      "      Hold  Buy Sell\n",
      "Hold:  219    0    0\n",
      " Buy:   17    0    0\n",
      "Sell:   16    0    0\n"
     ]
    },
    {
     "name": "stderr",
     "output_type": "stream",
     "text": [
      "/home/ubuntu/anaconda3/envs/tensorflow/lib/python3.6/site-packages/sklearn/metrics/classification.py:1135: UndefinedMetricWarning: Precision and F-score are ill-defined and being set to 0.0 in labels with no predicted samples.\n",
      "  'precision', 'predicted', average, warn_for)\n"
     ]
    },
    {
     "name": "stdout",
     "output_type": "stream",
     "text": [
      "      Hold  Buy Sell\n",
      "Hold: 25475   71  295\n",
      " Buy: 1801   11    7\n",
      "Sell: 1773    0   27\n",
      "Testing year: 2014\n",
      "      Hold  Buy Sell\n",
      "Hold:  221    0    0\n",
      " Buy:   15    0    0\n",
      "Sell:   16    0    0\n"
     ]
    },
    {
     "name": "stderr",
     "output_type": "stream",
     "text": [
      "/home/ubuntu/anaconda3/envs/tensorflow/lib/python3.6/site-packages/sklearn/metrics/classification.py:1135: UndefinedMetricWarning: Precision and F-score are ill-defined and being set to 0.0 in labels with no predicted samples.\n",
      "  'precision', 'predicted', average, warn_for)\n"
     ]
    },
    {
     "name": "stdout",
     "output_type": "stream",
     "text": [
      "      Hold  Buy Sell\n",
      "Hold: 25696   71  295\n",
      " Buy: 1816   11    7\n",
      "Sell: 1789    0   27\n",
      "Testing year: 2015\n",
      "      Hold  Buy Sell\n",
      "Hold:  219    0    0\n",
      " Buy:   17    0    0\n",
      "Sell:   16    0    0\n"
     ]
    },
    {
     "name": "stderr",
     "output_type": "stream",
     "text": [
      "/home/ubuntu/anaconda3/envs/tensorflow/lib/python3.6/site-packages/sklearn/metrics/classification.py:1135: UndefinedMetricWarning: Precision and F-score are ill-defined and being set to 0.0 in labels with no predicted samples.\n",
      "  'precision', 'predicted', average, warn_for)\n"
     ]
    },
    {
     "name": "stdout",
     "output_type": "stream",
     "text": [
      "      Hold  Buy Sell\n",
      "Hold: 25915   71  295\n",
      " Buy: 1833   11    7\n",
      "Sell: 1805    0   27\n",
      "Testing year: 2016\n",
      "      Hold  Buy Sell\n",
      "Hold:  219    0    0\n",
      " Buy:   16    0    0\n",
      "Sell:   17    0    0\n"
     ]
    },
    {
     "name": "stderr",
     "output_type": "stream",
     "text": [
      "/home/ubuntu/anaconda3/envs/tensorflow/lib/python3.6/site-packages/sklearn/metrics/classification.py:1135: UndefinedMetricWarning: Precision and F-score are ill-defined and being set to 0.0 in labels with no predicted samples.\n",
      "  'precision', 'predicted', average, warn_for)\n"
     ]
    },
    {
     "name": "stdout",
     "output_type": "stream",
     "text": [
      "      Hold  Buy Sell\n",
      "Hold: 26134   71  295\n",
      " Buy: 1849   11    7\n",
      "Sell: 1822    0   27\n",
      "Stock: INTC Total return: 0.0 Annualized return: 0.0\n",
      "STOCK: JNJ\n",
      "Testing year: 2007\n",
      "      Hold  Buy Sell\n",
      "Hold:  219    0    0\n",
      " Buy:   15    0    0\n",
      "Sell:   17    0    0\n"
     ]
    },
    {
     "name": "stderr",
     "output_type": "stream",
     "text": [
      "/home/ubuntu/anaconda3/envs/tensorflow/lib/python3.6/site-packages/sklearn/metrics/classification.py:1135: UndefinedMetricWarning: Precision and F-score are ill-defined and being set to 0.0 in labels with no predicted samples.\n",
      "  'precision', 'predicted', average, warn_for)\n"
     ]
    },
    {
     "name": "stdout",
     "output_type": "stream",
     "text": [
      "      Hold  Buy Sell\n",
      "Hold: 26353   71  295\n",
      " Buy: 1864   11    7\n",
      "Sell: 1839    0   27\n",
      "Testing year: 2008\n",
      "      Hold  Buy Sell\n",
      "Hold:  209    7    0\n",
      " Buy:   16    2    0\n",
      "Sell:   19    0    0\n"
     ]
    },
    {
     "name": "stderr",
     "output_type": "stream",
     "text": [
      "/home/ubuntu/anaconda3/envs/tensorflow/lib/python3.6/site-packages/sklearn/metrics/classification.py:1135: UndefinedMetricWarning: Precision and F-score are ill-defined and being set to 0.0 in labels with no predicted samples.\n",
      "  'precision', 'predicted', average, warn_for)\n"
     ]
    },
    {
     "name": "stdout",
     "output_type": "stream",
     "text": [
      "      Hold  Buy Sell\n",
      "Hold: 26562   78  295\n",
      " Buy: 1880   13    7\n",
      "Sell: 1858    0   27\n",
      "Testing year: 2009\n",
      "      Hold  Buy Sell\n",
      "Hold:  214   10    0\n",
      " Buy:   13    1    0\n",
      "Sell:   14    0    0\n"
     ]
    },
    {
     "name": "stderr",
     "output_type": "stream",
     "text": [
      "/home/ubuntu/anaconda3/envs/tensorflow/lib/python3.6/site-packages/sklearn/metrics/classification.py:1135: UndefinedMetricWarning: Precision and F-score are ill-defined and being set to 0.0 in labels with no predicted samples.\n",
      "  'precision', 'predicted', average, warn_for)\n"
     ]
    },
    {
     "name": "stdout",
     "output_type": "stream",
     "text": [
      "      Hold  Buy Sell\n",
      "Hold: 26776   88  295\n",
      " Buy: 1893   14    7\n",
      "Sell: 1872    0   27\n",
      "Testing year: 2010\n",
      "      Hold  Buy Sell\n",
      "Hold:  218    0    0\n",
      " Buy:   18    0    0\n",
      "Sell:   16    0    0\n"
     ]
    },
    {
     "name": "stderr",
     "output_type": "stream",
     "text": [
      "/home/ubuntu/anaconda3/envs/tensorflow/lib/python3.6/site-packages/sklearn/metrics/classification.py:1135: UndefinedMetricWarning: Precision and F-score are ill-defined and being set to 0.0 in labels with no predicted samples.\n",
      "  'precision', 'predicted', average, warn_for)\n"
     ]
    },
    {
     "name": "stdout",
     "output_type": "stream",
     "text": [
      "      Hold  Buy Sell\n",
      "Hold: 26994   88  295\n",
      " Buy: 1911   14    7\n",
      "Sell: 1888    0   27\n",
      "Testing year: 2011\n",
      "      Hold  Buy Sell\n",
      "Hold:  215    0    0\n",
      " Buy:   18    0    0\n",
      "Sell:   19    0    0\n"
     ]
    },
    {
     "name": "stderr",
     "output_type": "stream",
     "text": [
      "/home/ubuntu/anaconda3/envs/tensorflow/lib/python3.6/site-packages/sklearn/metrics/classification.py:1135: UndefinedMetricWarning: Precision and F-score are ill-defined and being set to 0.0 in labels with no predicted samples.\n",
      "  'precision', 'predicted', average, warn_for)\n"
     ]
    },
    {
     "name": "stdout",
     "output_type": "stream",
     "text": [
      "      Hold  Buy Sell\n",
      "Hold: 27209   88  295\n",
      " Buy: 1929   14    7\n",
      "Sell: 1907    0   27\n",
      "Testing year: 2012\n",
      "      Hold  Buy Sell\n",
      "Hold:  215    0    0\n",
      " Buy:   16    0    0\n",
      "Sell:   19    0    0\n"
     ]
    },
    {
     "name": "stderr",
     "output_type": "stream",
     "text": [
      "/home/ubuntu/anaconda3/envs/tensorflow/lib/python3.6/site-packages/sklearn/metrics/classification.py:1135: UndefinedMetricWarning: Precision and F-score are ill-defined and being set to 0.0 in labels with no predicted samples.\n",
      "  'precision', 'predicted', average, warn_for)\n"
     ]
    },
    {
     "name": "stdout",
     "output_type": "stream",
     "text": [
      "      Hold  Buy Sell\n",
      "Hold: 27424   88  295\n",
      " Buy: 1945   14    7\n",
      "Sell: 1926    0   27\n",
      "Testing year: 2013\n",
      "      Hold  Buy Sell\n",
      "Hold:  237    0    0\n",
      " Buy:    7    0    0\n",
      "Sell:    8    0    0\n"
     ]
    },
    {
     "name": "stderr",
     "output_type": "stream",
     "text": [
      "/home/ubuntu/anaconda3/envs/tensorflow/lib/python3.6/site-packages/sklearn/metrics/classification.py:1135: UndefinedMetricWarning: Precision and F-score are ill-defined and being set to 0.0 in labels with no predicted samples.\n",
      "  'precision', 'predicted', average, warn_for)\n"
     ]
    },
    {
     "name": "stdout",
     "output_type": "stream",
     "text": [
      "      Hold  Buy Sell\n",
      "Hold: 27661   88  295\n",
      " Buy: 1952   14    7\n",
      "Sell: 1934    0   27\n",
      "Testing year: 2014\n",
      "      Hold  Buy Sell\n",
      "Hold:  225    0    0\n",
      " Buy:   15    0    0\n",
      "Sell:   12    0    0\n"
     ]
    },
    {
     "name": "stderr",
     "output_type": "stream",
     "text": [
      "/home/ubuntu/anaconda3/envs/tensorflow/lib/python3.6/site-packages/sklearn/metrics/classification.py:1135: UndefinedMetricWarning: Precision and F-score are ill-defined and being set to 0.0 in labels with no predicted samples.\n",
      "  'precision', 'predicted', average, warn_for)\n"
     ]
    },
    {
     "name": "stdout",
     "output_type": "stream",
     "text": [
      "      Hold  Buy Sell\n",
      "Hold: 27886   88  295\n",
      " Buy: 1967   14    7\n",
      "Sell: 1946    0   27\n",
      "Testing year: 2015\n",
      "      Hold  Buy Sell\n",
      "Hold:  215    0    0\n",
      " Buy:   20    0    0\n",
      "Sell:   17    0    0\n"
     ]
    },
    {
     "name": "stderr",
     "output_type": "stream",
     "text": [
      "/home/ubuntu/anaconda3/envs/tensorflow/lib/python3.6/site-packages/sklearn/metrics/classification.py:1135: UndefinedMetricWarning: Precision and F-score are ill-defined and being set to 0.0 in labels with no predicted samples.\n",
      "  'precision', 'predicted', average, warn_for)\n"
     ]
    },
    {
     "name": "stdout",
     "output_type": "stream",
     "text": [
      "      Hold  Buy Sell\n",
      "Hold: 28101   88  295\n",
      " Buy: 1987   14    7\n",
      "Sell: 1963    0   27\n",
      "Testing year: 2016\n",
      "      Hold  Buy Sell\n",
      "Hold:  225    0    0\n",
      " Buy:   14    0    0\n",
      "Sell:   13    0    0\n"
     ]
    },
    {
     "name": "stderr",
     "output_type": "stream",
     "text": [
      "/home/ubuntu/anaconda3/envs/tensorflow/lib/python3.6/site-packages/sklearn/metrics/classification.py:1135: UndefinedMetricWarning: Precision and F-score are ill-defined and being set to 0.0 in labels with no predicted samples.\n",
      "  'precision', 'predicted', average, warn_for)\n"
     ]
    },
    {
     "name": "stdout",
     "output_type": "stream",
     "text": [
      "      Hold  Buy Sell\n",
      "Hold: 28326   88  295\n",
      " Buy: 2001   14    7\n",
      "Sell: 1976    0   27\n",
      "Stock: JNJ Total return: 139.64700969904266 Annualized return: 9.133278318658466\n",
      "STOCK: JPM\n",
      "Testing year: 2007\n",
      "      Hold  Buy Sell\n",
      "Hold:  213    0    0\n",
      " Buy:   20    0    0\n",
      "Sell:   18    0    0\n"
     ]
    },
    {
     "name": "stderr",
     "output_type": "stream",
     "text": [
      "/home/ubuntu/anaconda3/envs/tensorflow/lib/python3.6/site-packages/sklearn/metrics/classification.py:1135: UndefinedMetricWarning: Precision and F-score are ill-defined and being set to 0.0 in labels with no predicted samples.\n",
      "  'precision', 'predicted', average, warn_for)\n"
     ]
    },
    {
     "name": "stdout",
     "output_type": "stream",
     "text": [
      "      Hold  Buy Sell\n",
      "Hold: 28539   88  295\n",
      " Buy: 2021   14    7\n",
      "Sell: 1994    0   27\n",
      "Testing year: 2008\n",
      "      Hold  Buy Sell\n",
      "Hold:  223    0    0\n",
      " Buy:   16    0    0\n",
      "Sell:   14    0    0\n"
     ]
    },
    {
     "name": "stderr",
     "output_type": "stream",
     "text": [
      "/home/ubuntu/anaconda3/envs/tensorflow/lib/python3.6/site-packages/sklearn/metrics/classification.py:1135: UndefinedMetricWarning: Precision and F-score are ill-defined and being set to 0.0 in labels with no predicted samples.\n",
      "  'precision', 'predicted', average, warn_for)\n"
     ]
    },
    {
     "name": "stdout",
     "output_type": "stream",
     "text": [
      "      Hold  Buy Sell\n",
      "Hold: 28762   88  295\n",
      " Buy: 2037   14    7\n",
      "Sell: 2008    0   27\n",
      "Testing year: 2009\n",
      "      Hold  Buy Sell\n",
      "Hold:  199    2   16\n",
      " Buy:   17    2    0\n",
      "Sell:   13    0    3\n",
      "      Hold  Buy Sell\n",
      "Hold: 28961   90  311\n",
      " Buy: 2054   16    7\n",
      "Sell: 2021    0   30\n",
      "Testing year: 2010\n",
      "      Hold  Buy Sell\n",
      "Hold:  225    0    0\n",
      " Buy:   15    0    0\n",
      "Sell:   12    0    0\n"
     ]
    },
    {
     "name": "stderr",
     "output_type": "stream",
     "text": [
      "/home/ubuntu/anaconda3/envs/tensorflow/lib/python3.6/site-packages/sklearn/metrics/classification.py:1135: UndefinedMetricWarning: Precision and F-score are ill-defined and being set to 0.0 in labels with no predicted samples.\n",
      "  'precision', 'predicted', average, warn_for)\n"
     ]
    },
    {
     "name": "stdout",
     "output_type": "stream",
     "text": [
      "      Hold  Buy Sell\n",
      "Hold: 29186   90  311\n",
      " Buy: 2069   16    7\n",
      "Sell: 2033    0   30\n",
      "Testing year: 2011\n",
      "      Hold  Buy Sell\n",
      "Hold:  218    0    0\n",
      " Buy:   17    0    0\n",
      "Sell:   17    0    0\n"
     ]
    },
    {
     "name": "stderr",
     "output_type": "stream",
     "text": [
      "/home/ubuntu/anaconda3/envs/tensorflow/lib/python3.6/site-packages/sklearn/metrics/classification.py:1135: UndefinedMetricWarning: Precision and F-score are ill-defined and being set to 0.0 in labels with no predicted samples.\n",
      "  'precision', 'predicted', average, warn_for)\n"
     ]
    },
    {
     "name": "stdout",
     "output_type": "stream",
     "text": [
      "      Hold  Buy Sell\n",
      "Hold: 29404   90  311\n",
      " Buy: 2086   16    7\n",
      "Sell: 2050    0   30\n",
      "Testing year: 2012\n",
      "      Hold  Buy Sell\n",
      "Hold:  220    0    0\n",
      " Buy:   16    0    0\n",
      "Sell:   14    0    0\n"
     ]
    },
    {
     "name": "stderr",
     "output_type": "stream",
     "text": [
      "/home/ubuntu/anaconda3/envs/tensorflow/lib/python3.6/site-packages/sklearn/metrics/classification.py:1135: UndefinedMetricWarning: Precision and F-score are ill-defined and being set to 0.0 in labels with no predicted samples.\n",
      "  'precision', 'predicted', average, warn_for)\n"
     ]
    },
    {
     "name": "stdout",
     "output_type": "stream",
     "text": [
      "      Hold  Buy Sell\n",
      "Hold: 29624   90  311\n",
      " Buy: 2102   16    7\n",
      "Sell: 2064    0   30\n",
      "Testing year: 2013\n",
      "      Hold  Buy Sell\n",
      "Hold:  226    0    0\n",
      " Buy:   14    0    0\n",
      "Sell:   12    0    0\n"
     ]
    },
    {
     "name": "stderr",
     "output_type": "stream",
     "text": [
      "/home/ubuntu/anaconda3/envs/tensorflow/lib/python3.6/site-packages/sklearn/metrics/classification.py:1135: UndefinedMetricWarning: Precision and F-score are ill-defined and being set to 0.0 in labels with no predicted samples.\n",
      "  'precision', 'predicted', average, warn_for)\n"
     ]
    },
    {
     "name": "stdout",
     "output_type": "stream",
     "text": [
      "      Hold  Buy Sell\n",
      "Hold: 29850   90  311\n",
      " Buy: 2116   16    7\n",
      "Sell: 2076    0   30\n",
      "Testing year: 2014\n",
      "      Hold  Buy Sell\n",
      "Hold:  217    0    0\n",
      " Buy:   17    0    0\n",
      "Sell:   18    0    0\n"
     ]
    },
    {
     "name": "stderr",
     "output_type": "stream",
     "text": [
      "/home/ubuntu/anaconda3/envs/tensorflow/lib/python3.6/site-packages/sklearn/metrics/classification.py:1135: UndefinedMetricWarning: Precision and F-score are ill-defined and being set to 0.0 in labels with no predicted samples.\n",
      "  'precision', 'predicted', average, warn_for)\n"
     ]
    },
    {
     "name": "stdout",
     "output_type": "stream",
     "text": [
      "      Hold  Buy Sell\n",
      "Hold: 30067   90  311\n",
      " Buy: 2133   16    7\n",
      "Sell: 2094    0   30\n",
      "Testing year: 2015\n",
      "      Hold  Buy Sell\n",
      "Hold:  221    0    0\n",
      " Buy:   15    0    0\n",
      "Sell:   16    0    0\n"
     ]
    },
    {
     "name": "stderr",
     "output_type": "stream",
     "text": [
      "/home/ubuntu/anaconda3/envs/tensorflow/lib/python3.6/site-packages/sklearn/metrics/classification.py:1135: UndefinedMetricWarning: Precision and F-score are ill-defined and being set to 0.0 in labels with no predicted samples.\n",
      "  'precision', 'predicted', average, warn_for)\n"
     ]
    },
    {
     "name": "stdout",
     "output_type": "stream",
     "text": [
      "      Hold  Buy Sell\n",
      "Hold: 30288   90  311\n",
      " Buy: 2148   16    7\n",
      "Sell: 2110    0   30\n",
      "Testing year: 2016\n",
      "      Hold  Buy Sell\n",
      "Hold:  223    0    0\n",
      " Buy:   15    0    0\n",
      "Sell:   14    0    0\n"
     ]
    },
    {
     "name": "stderr",
     "output_type": "stream",
     "text": [
      "/home/ubuntu/anaconda3/envs/tensorflow/lib/python3.6/site-packages/sklearn/metrics/classification.py:1135: UndefinedMetricWarning: Precision and F-score are ill-defined and being set to 0.0 in labels with no predicted samples.\n",
      "  'precision', 'predicted', average, warn_for)\n"
     ]
    },
    {
     "name": "stdout",
     "output_type": "stream",
     "text": [
      "      Hold  Buy Sell\n",
      "Hold: 30511   90  311\n",
      " Buy: 2163   16    7\n",
      "Sell: 2124    0   30\n",
      "Stock: JPM Total return: 49.83682070157671 Annualized return: 4.126640075151555\n",
      "STOCK: KO\n",
      "Testing year: 2007\n",
      "      Hold  Buy Sell\n",
      "Hold:  222    0    0\n",
      " Buy:   14    0    0\n",
      "Sell:   15    0    0\n"
     ]
    },
    {
     "name": "stderr",
     "output_type": "stream",
     "text": [
      "/home/ubuntu/anaconda3/envs/tensorflow/lib/python3.6/site-packages/sklearn/metrics/classification.py:1135: UndefinedMetricWarning: Precision and F-score are ill-defined and being set to 0.0 in labels with no predicted samples.\n",
      "  'precision', 'predicted', average, warn_for)\n"
     ]
    },
    {
     "name": "stdout",
     "output_type": "stream",
     "text": [
      "      Hold  Buy Sell\n",
      "Hold: 30733   90  311\n",
      " Buy: 2177   16    7\n",
      "Sell: 2139    0   30\n",
      "Testing year: 2008\n",
      "      Hold  Buy Sell\n",
      "Hold:  220    0    0\n",
      " Buy:   18    0    0\n",
      "Sell:   15    0    0\n"
     ]
    },
    {
     "name": "stderr",
     "output_type": "stream",
     "text": [
      "/home/ubuntu/anaconda3/envs/tensorflow/lib/python3.6/site-packages/sklearn/metrics/classification.py:1135: UndefinedMetricWarning: Precision and F-score are ill-defined and being set to 0.0 in labels with no predicted samples.\n",
      "  'precision', 'predicted', average, warn_for)\n"
     ]
    },
    {
     "name": "stdout",
     "output_type": "stream",
     "text": [
      "      Hold  Buy Sell\n",
      "Hold: 30953   90  311\n",
      " Buy: 2195   16    7\n",
      "Sell: 2154    0   30\n",
      "Testing year: 2009\n",
      "      Hold  Buy Sell\n",
      "Hold:  207    0    9\n",
      " Buy:   19    0    0\n",
      "Sell:   15    0    2\n"
     ]
    },
    {
     "name": "stderr",
     "output_type": "stream",
     "text": [
      "/home/ubuntu/anaconda3/envs/tensorflow/lib/python3.6/site-packages/sklearn/metrics/classification.py:1135: UndefinedMetricWarning: Precision and F-score are ill-defined and being set to 0.0 in labels with no predicted samples.\n",
      "  'precision', 'predicted', average, warn_for)\n"
     ]
    },
    {
     "name": "stdout",
     "output_type": "stream",
     "text": [
      "      Hold  Buy Sell\n",
      "Hold: 31160   90  320\n",
      " Buy: 2214   16    7\n",
      "Sell: 2169    0   32\n",
      "Testing year: 2010\n",
      "      Hold  Buy Sell\n",
      "Hold:  221    0    0\n",
      " Buy:   15    0    0\n",
      "Sell:   16    0    0\n"
     ]
    },
    {
     "name": "stderr",
     "output_type": "stream",
     "text": [
      "/home/ubuntu/anaconda3/envs/tensorflow/lib/python3.6/site-packages/sklearn/metrics/classification.py:1135: UndefinedMetricWarning: Precision and F-score are ill-defined and being set to 0.0 in labels with no predicted samples.\n",
      "  'precision', 'predicted', average, warn_for)\n"
     ]
    },
    {
     "name": "stdout",
     "output_type": "stream",
     "text": [
      "      Hold  Buy Sell\n",
      "Hold: 31381   90  320\n",
      " Buy: 2229   16    7\n",
      "Sell: 2185    0   32\n",
      "Testing year: 2011\n",
      "      Hold  Buy Sell\n",
      "Hold:  219    0    0\n",
      " Buy:   18    0    0\n",
      "Sell:   15    0    0\n"
     ]
    },
    {
     "name": "stderr",
     "output_type": "stream",
     "text": [
      "/home/ubuntu/anaconda3/envs/tensorflow/lib/python3.6/site-packages/sklearn/metrics/classification.py:1135: UndefinedMetricWarning: Precision and F-score are ill-defined and being set to 0.0 in labels with no predicted samples.\n",
      "  'precision', 'predicted', average, warn_for)\n"
     ]
    },
    {
     "name": "stdout",
     "output_type": "stream",
     "text": [
      "      Hold  Buy Sell\n",
      "Hold: 31600   90  320\n",
      " Buy: 2247   16    7\n",
      "Sell: 2200    0   32\n",
      "Testing year: 2012\n",
      "      Hold  Buy Sell\n",
      "Hold:  219    0    0\n",
      " Buy:   17    0    0\n",
      "Sell:   14    0    0\n"
     ]
    },
    {
     "name": "stderr",
     "output_type": "stream",
     "text": [
      "/home/ubuntu/anaconda3/envs/tensorflow/lib/python3.6/site-packages/sklearn/metrics/classification.py:1135: UndefinedMetricWarning: Precision and F-score are ill-defined and being set to 0.0 in labels with no predicted samples.\n",
      "  'precision', 'predicted', average, warn_for)\n"
     ]
    },
    {
     "name": "stdout",
     "output_type": "stream",
     "text": [
      "      Hold  Buy Sell\n",
      "Hold: 31819   90  320\n",
      " Buy: 2264   16    7\n",
      "Sell: 2214    0   32\n",
      "Testing year: 2013\n",
      "      Hold  Buy Sell\n",
      "Hold:  221    0    0\n",
      " Buy:   16    0    0\n",
      "Sell:   15    0    0\n"
     ]
    },
    {
     "name": "stderr",
     "output_type": "stream",
     "text": [
      "/home/ubuntu/anaconda3/envs/tensorflow/lib/python3.6/site-packages/sklearn/metrics/classification.py:1135: UndefinedMetricWarning: Precision and F-score are ill-defined and being set to 0.0 in labels with no predicted samples.\n",
      "  'precision', 'predicted', average, warn_for)\n"
     ]
    },
    {
     "name": "stdout",
     "output_type": "stream",
     "text": [
      "      Hold  Buy Sell\n",
      "Hold: 32040   90  320\n",
      " Buy: 2280   16    7\n",
      "Sell: 2229    0   32\n",
      "Testing year: 2014\n",
      "      Hold  Buy Sell\n",
      "Hold:  227    0    0\n",
      " Buy:   13    0    0\n",
      "Sell:   12    0    0\n"
     ]
    },
    {
     "name": "stderr",
     "output_type": "stream",
     "text": [
      "/home/ubuntu/anaconda3/envs/tensorflow/lib/python3.6/site-packages/sklearn/metrics/classification.py:1135: UndefinedMetricWarning: Precision and F-score are ill-defined and being set to 0.0 in labels with no predicted samples.\n",
      "  'precision', 'predicted', average, warn_for)\n"
     ]
    },
    {
     "name": "stdout",
     "output_type": "stream",
     "text": [
      "      Hold  Buy Sell\n",
      "Hold: 32267   90  320\n",
      " Buy: 2293   16    7\n",
      "Sell: 2241    0   32\n",
      "Testing year: 2015\n",
      "      Hold  Buy Sell\n",
      "Hold:  216    0    0\n",
      " Buy:   19    0    0\n",
      "Sell:   17    0    0\n"
     ]
    },
    {
     "name": "stderr",
     "output_type": "stream",
     "text": [
      "/home/ubuntu/anaconda3/envs/tensorflow/lib/python3.6/site-packages/sklearn/metrics/classification.py:1135: UndefinedMetricWarning: Precision and F-score are ill-defined and being set to 0.0 in labels with no predicted samples.\n",
      "  'precision', 'predicted', average, warn_for)\n"
     ]
    },
    {
     "name": "stdout",
     "output_type": "stream",
     "text": [
      "      Hold  Buy Sell\n",
      "Hold: 32483   90  320\n",
      " Buy: 2312   16    7\n",
      "Sell: 2258    0   32\n",
      "Testing year: 2016\n",
      "      Hold  Buy Sell\n",
      "Hold:  222    0    0\n",
      " Buy:   15    0    0\n",
      "Sell:   15    0    0\n"
     ]
    },
    {
     "name": "stderr",
     "output_type": "stream",
     "text": [
      "/home/ubuntu/anaconda3/envs/tensorflow/lib/python3.6/site-packages/sklearn/metrics/classification.py:1135: UndefinedMetricWarning: Precision and F-score are ill-defined and being set to 0.0 in labels with no predicted samples.\n",
      "  'precision', 'predicted', average, warn_for)\n"
     ]
    },
    {
     "name": "stdout",
     "output_type": "stream",
     "text": [
      "      Hold  Buy Sell\n",
      "Hold: 32705   90  320\n",
      " Buy: 2327   16    7\n",
      "Sell: 2273    0   32\n",
      "Stock: KO Total return: 0.0 Annualized return: 0.0\n",
      "STOCK: MCD\n",
      "Testing year: 2007\n",
      "      Hold  Buy Sell\n",
      "Hold:  216    0    0\n",
      " Buy:   18    0    0\n",
      "Sell:   17    0    0\n"
     ]
    },
    {
     "name": "stderr",
     "output_type": "stream",
     "text": [
      "/home/ubuntu/anaconda3/envs/tensorflow/lib/python3.6/site-packages/sklearn/metrics/classification.py:1135: UndefinedMetricWarning: Precision and F-score are ill-defined and being set to 0.0 in labels with no predicted samples.\n",
      "  'precision', 'predicted', average, warn_for)\n"
     ]
    },
    {
     "name": "stdout",
     "output_type": "stream",
     "text": [
      "      Hold  Buy Sell\n",
      "Hold: 32921   90  320\n",
      " Buy: 2345   16    7\n",
      "Sell: 2290    0   32\n",
      "Testing year: 2008\n",
      "      Hold  Buy Sell\n",
      "Hold:  219    0    0\n",
      " Buy:   17    0    0\n",
      "Sell:   17    0    0\n"
     ]
    },
    {
     "name": "stderr",
     "output_type": "stream",
     "text": [
      "/home/ubuntu/anaconda3/envs/tensorflow/lib/python3.6/site-packages/sklearn/metrics/classification.py:1135: UndefinedMetricWarning: Precision and F-score are ill-defined and being set to 0.0 in labels with no predicted samples.\n",
      "  'precision', 'predicted', average, warn_for)\n"
     ]
    },
    {
     "name": "stdout",
     "output_type": "stream",
     "text": [
      "      Hold  Buy Sell\n",
      "Hold: 33140   90  320\n",
      " Buy: 2362   16    7\n",
      "Sell: 2307    0   32\n",
      "Testing year: 2009\n",
      "      Hold  Buy Sell\n",
      "Hold:  220    0    0\n",
      " Buy:   14    0    0\n",
      "Sell:   18    0    0\n"
     ]
    },
    {
     "name": "stderr",
     "output_type": "stream",
     "text": [
      "/home/ubuntu/anaconda3/envs/tensorflow/lib/python3.6/site-packages/sklearn/metrics/classification.py:1135: UndefinedMetricWarning: Precision and F-score are ill-defined and being set to 0.0 in labels with no predicted samples.\n",
      "  'precision', 'predicted', average, warn_for)\n"
     ]
    },
    {
     "name": "stdout",
     "output_type": "stream",
     "text": [
      "      Hold  Buy Sell\n",
      "Hold: 33360   90  320\n",
      " Buy: 2376   16    7\n",
      "Sell: 2325    0   32\n",
      "Testing year: 2010\n",
      "      Hold  Buy Sell\n",
      "Hold:  220    0    0\n",
      " Buy:   17    0    0\n",
      "Sell:   15    0    0\n"
     ]
    },
    {
     "name": "stderr",
     "output_type": "stream",
     "text": [
      "/home/ubuntu/anaconda3/envs/tensorflow/lib/python3.6/site-packages/sklearn/metrics/classification.py:1135: UndefinedMetricWarning: Precision and F-score are ill-defined and being set to 0.0 in labels with no predicted samples.\n",
      "  'precision', 'predicted', average, warn_for)\n"
     ]
    },
    {
     "name": "stdout",
     "output_type": "stream",
     "text": [
      "      Hold  Buy Sell\n",
      "Hold: 33580   90  320\n",
      " Buy: 2393   16    7\n",
      "Sell: 2340    0   32\n",
      "Testing year: 2011\n",
      "      Hold  Buy Sell\n",
      "Hold:  223    0    0\n",
      " Buy:   16    0    0\n",
      "Sell:   13    0    0\n"
     ]
    },
    {
     "name": "stderr",
     "output_type": "stream",
     "text": [
      "/home/ubuntu/anaconda3/envs/tensorflow/lib/python3.6/site-packages/sklearn/metrics/classification.py:1135: UndefinedMetricWarning: Precision and F-score are ill-defined and being set to 0.0 in labels with no predicted samples.\n",
      "  'precision', 'predicted', average, warn_for)\n"
     ]
    },
    {
     "name": "stdout",
     "output_type": "stream",
     "text": [
      "      Hold  Buy Sell\n",
      "Hold: 33803   90  320\n",
      " Buy: 2409   16    7\n",
      "Sell: 2353    0   32\n",
      "Testing year: 2012\n",
      "      Hold  Buy Sell\n",
      "Hold:  218    0    0\n",
      " Buy:   17    0    0\n",
      "Sell:   15    0    0\n"
     ]
    },
    {
     "name": "stderr",
     "output_type": "stream",
     "text": [
      "/home/ubuntu/anaconda3/envs/tensorflow/lib/python3.6/site-packages/sklearn/metrics/classification.py:1135: UndefinedMetricWarning: Precision and F-score are ill-defined and being set to 0.0 in labels with no predicted samples.\n",
      "  'precision', 'predicted', average, warn_for)\n"
     ]
    },
    {
     "name": "stdout",
     "output_type": "stream",
     "text": [
      "      Hold  Buy Sell\n",
      "Hold: 34021   90  320\n",
      " Buy: 2426   16    7\n",
      "Sell: 2368    0   32\n",
      "Testing year: 2013\n",
      "      Hold  Buy Sell\n",
      "Hold:  221    0    0\n",
      " Buy:   15    0    0\n",
      "Sell:   16    0    0\n"
     ]
    },
    {
     "name": "stderr",
     "output_type": "stream",
     "text": [
      "/home/ubuntu/anaconda3/envs/tensorflow/lib/python3.6/site-packages/sklearn/metrics/classification.py:1135: UndefinedMetricWarning: Precision and F-score are ill-defined and being set to 0.0 in labels with no predicted samples.\n",
      "  'precision', 'predicted', average, warn_for)\n"
     ]
    },
    {
     "name": "stdout",
     "output_type": "stream",
     "text": [
      "      Hold  Buy Sell\n",
      "Hold: 34242   90  320\n",
      " Buy: 2441   16    7\n",
      "Sell: 2384    0   32\n",
      "Testing year: 2014\n",
      "      Hold  Buy Sell\n",
      "Hold:  220    0    0\n",
      " Buy:   16    0    0\n",
      "Sell:   16    0    0\n"
     ]
    },
    {
     "name": "stderr",
     "output_type": "stream",
     "text": [
      "/home/ubuntu/anaconda3/envs/tensorflow/lib/python3.6/site-packages/sklearn/metrics/classification.py:1135: UndefinedMetricWarning: Precision and F-score are ill-defined and being set to 0.0 in labels with no predicted samples.\n",
      "  'precision', 'predicted', average, warn_for)\n"
     ]
    },
    {
     "name": "stdout",
     "output_type": "stream",
     "text": [
      "      Hold  Buy Sell\n",
      "Hold: 34462   90  320\n",
      " Buy: 2457   16    7\n",
      "Sell: 2400    0   32\n",
      "Testing year: 2015\n",
      "      Hold  Buy Sell\n",
      "Hold:  218    0    0\n",
      " Buy:   18    0    0\n",
      "Sell:   16    0    0\n"
     ]
    },
    {
     "name": "stderr",
     "output_type": "stream",
     "text": [
      "/home/ubuntu/anaconda3/envs/tensorflow/lib/python3.6/site-packages/sklearn/metrics/classification.py:1135: UndefinedMetricWarning: Precision and F-score are ill-defined and being set to 0.0 in labels with no predicted samples.\n",
      "  'precision', 'predicted', average, warn_for)\n"
     ]
    },
    {
     "name": "stdout",
     "output_type": "stream",
     "text": [
      "      Hold  Buy Sell\n",
      "Hold: 34680   90  320\n",
      " Buy: 2475   16    7\n",
      "Sell: 2416    0   32\n",
      "Testing year: 2016\n",
      "      Hold  Buy Sell\n",
      "Hold:  221    0    0\n",
      " Buy:   17    0    0\n",
      "Sell:   14    0    0\n"
     ]
    },
    {
     "name": "stderr",
     "output_type": "stream",
     "text": [
      "/home/ubuntu/anaconda3/envs/tensorflow/lib/python3.6/site-packages/sklearn/metrics/classification.py:1135: UndefinedMetricWarning: Precision and F-score are ill-defined and being set to 0.0 in labels with no predicted samples.\n",
      "  'precision', 'predicted', average, warn_for)\n"
     ]
    },
    {
     "name": "stdout",
     "output_type": "stream",
     "text": [
      "      Hold  Buy Sell\n",
      "Hold: 34901   90  320\n",
      " Buy: 2492   16    7\n",
      "Sell: 2430    0   32\n",
      "Stock: MCD Total return: 0.0 Annualized return: 0.0\n",
      "STOCK: MMM\n",
      "Testing year: 2007\n",
      "      Hold  Buy Sell\n",
      "Hold:  220    0    0\n",
      " Buy:   17    0    0\n",
      "Sell:   14    0    0\n"
     ]
    },
    {
     "name": "stderr",
     "output_type": "stream",
     "text": [
      "/home/ubuntu/anaconda3/envs/tensorflow/lib/python3.6/site-packages/sklearn/metrics/classification.py:1135: UndefinedMetricWarning: Precision and F-score are ill-defined and being set to 0.0 in labels with no predicted samples.\n",
      "  'precision', 'predicted', average, warn_for)\n"
     ]
    },
    {
     "name": "stdout",
     "output_type": "stream",
     "text": [
      "      Hold  Buy Sell\n",
      "Hold: 35121   90  320\n",
      " Buy: 2509   16    7\n",
      "Sell: 2444    0   32\n",
      "Testing year: 2008\n",
      "      Hold  Buy Sell\n",
      "Hold:  212    6    0\n",
      " Buy:   17    1    0\n",
      "Sell:   17    0    0\n"
     ]
    },
    {
     "name": "stderr",
     "output_type": "stream",
     "text": [
      "/home/ubuntu/anaconda3/envs/tensorflow/lib/python3.6/site-packages/sklearn/metrics/classification.py:1135: UndefinedMetricWarning: Precision and F-score are ill-defined and being set to 0.0 in labels with no predicted samples.\n",
      "  'precision', 'predicted', average, warn_for)\n"
     ]
    },
    {
     "name": "stdout",
     "output_type": "stream",
     "text": [
      "      Hold  Buy Sell\n",
      "Hold: 35333   96  320\n",
      " Buy: 2526   17    7\n",
      "Sell: 2461    0   32\n",
      "Testing year: 2009\n",
      "      Hold  Buy Sell\n",
      "Hold:  219    0    0\n",
      " Buy:   16    0    0\n",
      "Sell:   17    0    0\n"
     ]
    },
    {
     "name": "stderr",
     "output_type": "stream",
     "text": [
      "/home/ubuntu/anaconda3/envs/tensorflow/lib/python3.6/site-packages/sklearn/metrics/classification.py:1135: UndefinedMetricWarning: Precision and F-score are ill-defined and being set to 0.0 in labels with no predicted samples.\n",
      "  'precision', 'predicted', average, warn_for)\n"
     ]
    },
    {
     "name": "stdout",
     "output_type": "stream",
     "text": [
      "      Hold  Buy Sell\n",
      "Hold: 35552   96  320\n",
      " Buy: 2542   17    7\n",
      "Sell: 2478    0   32\n",
      "Testing year: 2010\n",
      "      Hold  Buy Sell\n",
      "Hold:  218    0    0\n",
      " Buy:   16    0    0\n",
      "Sell:   18    0    0\n"
     ]
    },
    {
     "name": "stderr",
     "output_type": "stream",
     "text": [
      "/home/ubuntu/anaconda3/envs/tensorflow/lib/python3.6/site-packages/sklearn/metrics/classification.py:1135: UndefinedMetricWarning: Precision and F-score are ill-defined and being set to 0.0 in labels with no predicted samples.\n",
      "  'precision', 'predicted', average, warn_for)\n"
     ]
    },
    {
     "name": "stdout",
     "output_type": "stream",
     "text": [
      "      Hold  Buy Sell\n",
      "Hold: 35770   96  320\n",
      " Buy: 2558   17    7\n",
      "Sell: 2496    0   32\n",
      "Testing year: 2011\n",
      "      Hold  Buy Sell\n",
      "Hold:  218    0    0\n",
      " Buy:   17    0    0\n",
      "Sell:   17    0    0\n"
     ]
    },
    {
     "name": "stderr",
     "output_type": "stream",
     "text": [
      "/home/ubuntu/anaconda3/envs/tensorflow/lib/python3.6/site-packages/sklearn/metrics/classification.py:1135: UndefinedMetricWarning: Precision and F-score are ill-defined and being set to 0.0 in labels with no predicted samples.\n",
      "  'precision', 'predicted', average, warn_for)\n"
     ]
    },
    {
     "name": "stdout",
     "output_type": "stream",
     "text": [
      "      Hold  Buy Sell\n",
      "Hold: 35988   96  320\n",
      " Buy: 2575   17    7\n",
      "Sell: 2513    0   32\n",
      "Testing year: 2012\n",
      "      Hold  Buy Sell\n",
      "Hold:  217    0    0\n",
      " Buy:   16    0    0\n",
      "Sell:   17    0    0\n"
     ]
    },
    {
     "name": "stderr",
     "output_type": "stream",
     "text": [
      "/home/ubuntu/anaconda3/envs/tensorflow/lib/python3.6/site-packages/sklearn/metrics/classification.py:1135: UndefinedMetricWarning: Precision and F-score are ill-defined and being set to 0.0 in labels with no predicted samples.\n",
      "  'precision', 'predicted', average, warn_for)\n"
     ]
    },
    {
     "name": "stdout",
     "output_type": "stream",
     "text": [
      "      Hold  Buy Sell\n",
      "Hold: 36205   96  320\n",
      " Buy: 2591   17    7\n",
      "Sell: 2530    0   32\n",
      "Testing year: 2013\n",
      "      Hold  Buy Sell\n",
      "Hold:  230    0    0\n",
      " Buy:   10    0    0\n",
      "Sell:   12    0    0\n"
     ]
    },
    {
     "name": "stderr",
     "output_type": "stream",
     "text": [
      "/home/ubuntu/anaconda3/envs/tensorflow/lib/python3.6/site-packages/sklearn/metrics/classification.py:1135: UndefinedMetricWarning: Precision and F-score are ill-defined and being set to 0.0 in labels with no predicted samples.\n",
      "  'precision', 'predicted', average, warn_for)\n"
     ]
    },
    {
     "name": "stdout",
     "output_type": "stream",
     "text": [
      "      Hold  Buy Sell\n",
      "Hold: 36435   96  320\n",
      " Buy: 2601   17    7\n",
      "Sell: 2542    0   32\n",
      "Testing year: 2014\n",
      "      Hold  Buy Sell\n",
      "Hold:  220    0    0\n",
      " Buy:   15    0    0\n",
      "Sell:   17    0    0\n"
     ]
    },
    {
     "name": "stderr",
     "output_type": "stream",
     "text": [
      "/home/ubuntu/anaconda3/envs/tensorflow/lib/python3.6/site-packages/sklearn/metrics/classification.py:1135: UndefinedMetricWarning: Precision and F-score are ill-defined and being set to 0.0 in labels with no predicted samples.\n",
      "  'precision', 'predicted', average, warn_for)\n"
     ]
    },
    {
     "name": "stdout",
     "output_type": "stream",
     "text": [
      "      Hold  Buy Sell\n",
      "Hold: 36655   96  320\n",
      " Buy: 2616   17    7\n",
      "Sell: 2559    0   32\n",
      "Testing year: 2015\n",
      "      Hold  Buy Sell\n",
      "Hold:  220    0    0\n",
      " Buy:   16    0    0\n",
      "Sell:   16    0    0\n"
     ]
    },
    {
     "name": "stderr",
     "output_type": "stream",
     "text": [
      "/home/ubuntu/anaconda3/envs/tensorflow/lib/python3.6/site-packages/sklearn/metrics/classification.py:1135: UndefinedMetricWarning: Precision and F-score are ill-defined and being set to 0.0 in labels with no predicted samples.\n",
      "  'precision', 'predicted', average, warn_for)\n"
     ]
    },
    {
     "name": "stdout",
     "output_type": "stream",
     "text": [
      "      Hold  Buy Sell\n",
      "Hold: 36875   96  320\n",
      " Buy: 2632   17    7\n",
      "Sell: 2575    0   32\n",
      "Testing year: 2016\n",
      "      Hold  Buy Sell\n",
      "Hold:  222    0    0\n",
      " Buy:   15    0    0\n",
      "Sell:   15    0    0\n"
     ]
    },
    {
     "name": "stderr",
     "output_type": "stream",
     "text": [
      "/home/ubuntu/anaconda3/envs/tensorflow/lib/python3.6/site-packages/sklearn/metrics/classification.py:1135: UndefinedMetricWarning: Precision and F-score are ill-defined and being set to 0.0 in labels with no predicted samples.\n",
      "  'precision', 'predicted', average, warn_for)\n"
     ]
    },
    {
     "name": "stdout",
     "output_type": "stream",
     "text": [
      "      Hold  Buy Sell\n",
      "Hold: 37097   96  320\n",
      " Buy: 2647   17    7\n",
      "Sell: 2590    0   32\n",
      "Stock: MMM Total return: 314.8337614640487 Annualized return: 15.288877157396952\n",
      "STOCK: MRK\n",
      "Testing year: 2007\n",
      "      Hold  Buy Sell\n",
      "Hold:  212    0    0\n",
      " Buy:   20    0    0\n",
      "Sell:   19    0    0\n"
     ]
    },
    {
     "name": "stderr",
     "output_type": "stream",
     "text": [
      "/home/ubuntu/anaconda3/envs/tensorflow/lib/python3.6/site-packages/sklearn/metrics/classification.py:1135: UndefinedMetricWarning: Precision and F-score are ill-defined and being set to 0.0 in labels with no predicted samples.\n",
      "  'precision', 'predicted', average, warn_for)\n"
     ]
    },
    {
     "name": "stdout",
     "output_type": "stream",
     "text": [
      "      Hold  Buy Sell\n",
      "Hold: 37309   96  320\n",
      " Buy: 2667   17    7\n",
      "Sell: 2609    0   32\n",
      "Testing year: 2008\n",
      "      Hold  Buy Sell\n",
      "Hold:  225    0    0\n",
      " Buy:   13    0    0\n",
      "Sell:   15    0    0\n"
     ]
    },
    {
     "name": "stderr",
     "output_type": "stream",
     "text": [
      "/home/ubuntu/anaconda3/envs/tensorflow/lib/python3.6/site-packages/sklearn/metrics/classification.py:1135: UndefinedMetricWarning: Precision and F-score are ill-defined and being set to 0.0 in labels with no predicted samples.\n",
      "  'precision', 'predicted', average, warn_for)\n"
     ]
    },
    {
     "name": "stdout",
     "output_type": "stream",
     "text": [
      "      Hold  Buy Sell\n",
      "Hold: 37534   96  320\n",
      " Buy: 2680   17    7\n",
      "Sell: 2624    0   32\n",
      "Testing year: 2009\n",
      "      Hold  Buy Sell\n",
      "Hold:  226    0    0\n",
      " Buy:   13    0    0\n",
      "Sell:   13    0    0\n"
     ]
    },
    {
     "name": "stderr",
     "output_type": "stream",
     "text": [
      "/home/ubuntu/anaconda3/envs/tensorflow/lib/python3.6/site-packages/sklearn/metrics/classification.py:1135: UndefinedMetricWarning: Precision and F-score are ill-defined and being set to 0.0 in labels with no predicted samples.\n",
      "  'precision', 'predicted', average, warn_for)\n"
     ]
    },
    {
     "name": "stdout",
     "output_type": "stream",
     "text": [
      "      Hold  Buy Sell\n",
      "Hold: 37760   96  320\n",
      " Buy: 2693   17    7\n",
      "Sell: 2637    0   32\n",
      "Testing year: 2010\n",
      "      Hold  Buy Sell\n",
      "Hold:  222    0    0\n",
      " Buy:   16    0    0\n",
      "Sell:   14    0    0\n"
     ]
    },
    {
     "name": "stderr",
     "output_type": "stream",
     "text": [
      "/home/ubuntu/anaconda3/envs/tensorflow/lib/python3.6/site-packages/sklearn/metrics/classification.py:1135: UndefinedMetricWarning: Precision and F-score are ill-defined and being set to 0.0 in labels with no predicted samples.\n",
      "  'precision', 'predicted', average, warn_for)\n"
     ]
    },
    {
     "name": "stdout",
     "output_type": "stream",
     "text": [
      "      Hold  Buy Sell\n",
      "Hold: 37982   96  320\n",
      " Buy: 2709   17    7\n",
      "Sell: 2651    0   32\n",
      "Testing year: 2011\n",
      "      Hold  Buy Sell\n",
      "Hold:  224    0    0\n",
      " Buy:   14    0    0\n",
      "Sell:   14    0    0\n"
     ]
    },
    {
     "name": "stderr",
     "output_type": "stream",
     "text": [
      "/home/ubuntu/anaconda3/envs/tensorflow/lib/python3.6/site-packages/sklearn/metrics/classification.py:1135: UndefinedMetricWarning: Precision and F-score are ill-defined and being set to 0.0 in labels with no predicted samples.\n",
      "  'precision', 'predicted', average, warn_for)\n"
     ]
    },
    {
     "name": "stdout",
     "output_type": "stream",
     "text": [
      "      Hold  Buy Sell\n",
      "Hold: 38206   96  320\n",
      " Buy: 2723   17    7\n",
      "Sell: 2665    0   32\n",
      "Testing year: 2012\n",
      "      Hold  Buy Sell\n",
      "Hold:  219    0    0\n",
      " Buy:   15    0    0\n",
      "Sell:   16    0    0\n"
     ]
    },
    {
     "name": "stderr",
     "output_type": "stream",
     "text": [
      "/home/ubuntu/anaconda3/envs/tensorflow/lib/python3.6/site-packages/sklearn/metrics/classification.py:1135: UndefinedMetricWarning: Precision and F-score are ill-defined and being set to 0.0 in labels with no predicted samples.\n",
      "  'precision', 'predicted', average, warn_for)\n"
     ]
    },
    {
     "name": "stdout",
     "output_type": "stream",
     "text": [
      "      Hold  Buy Sell\n",
      "Hold: 38425   96  320\n",
      " Buy: 2738   17    7\n",
      "Sell: 2681    0   32\n",
      "Testing year: 2013\n",
      "      Hold  Buy Sell\n",
      "Hold:  226    0    0\n",
      " Buy:   12    0    0\n",
      "Sell:   14    0    0\n"
     ]
    },
    {
     "name": "stderr",
     "output_type": "stream",
     "text": [
      "/home/ubuntu/anaconda3/envs/tensorflow/lib/python3.6/site-packages/sklearn/metrics/classification.py:1135: UndefinedMetricWarning: Precision and F-score are ill-defined and being set to 0.0 in labels with no predicted samples.\n",
      "  'precision', 'predicted', average, warn_for)\n"
     ]
    },
    {
     "name": "stdout",
     "output_type": "stream",
     "text": [
      "      Hold  Buy Sell\n",
      "Hold: 38651   96  320\n",
      " Buy: 2750   17    7\n",
      "Sell: 2695    0   32\n",
      "Testing year: 2014\n",
      "      Hold  Buy Sell\n",
      "Hold:  220    0    0\n",
      " Buy:   16    0    0\n",
      "Sell:   16    0    0\n"
     ]
    },
    {
     "name": "stderr",
     "output_type": "stream",
     "text": [
      "/home/ubuntu/anaconda3/envs/tensorflow/lib/python3.6/site-packages/sklearn/metrics/classification.py:1135: UndefinedMetricWarning: Precision and F-score are ill-defined and being set to 0.0 in labels with no predicted samples.\n",
      "  'precision', 'predicted', average, warn_for)\n"
     ]
    },
    {
     "name": "stdout",
     "output_type": "stream",
     "text": [
      "      Hold  Buy Sell\n",
      "Hold: 38871   96  320\n",
      " Buy: 2766   17    7\n",
      "Sell: 2711    0   32\n",
      "Testing year: 2015\n",
      "      Hold  Buy Sell\n",
      "Hold:  213    0    0\n",
      " Buy:   20    0    0\n",
      "Sell:   19    0    0\n"
     ]
    },
    {
     "name": "stderr",
     "output_type": "stream",
     "text": [
      "/home/ubuntu/anaconda3/envs/tensorflow/lib/python3.6/site-packages/sklearn/metrics/classification.py:1135: UndefinedMetricWarning: Precision and F-score are ill-defined and being set to 0.0 in labels with no predicted samples.\n",
      "  'precision', 'predicted', average, warn_for)\n"
     ]
    },
    {
     "name": "stdout",
     "output_type": "stream",
     "text": [
      "      Hold  Buy Sell\n",
      "Hold: 39084   96  320\n",
      " Buy: 2786   17    7\n",
      "Sell: 2730    0   32\n",
      "Testing year: 2016\n",
      "      Hold  Buy Sell\n",
      "Hold:  228    0    0\n",
      " Buy:   12    0    0\n",
      "Sell:   12    0    0\n"
     ]
    },
    {
     "name": "stderr",
     "output_type": "stream",
     "text": [
      "/home/ubuntu/anaconda3/envs/tensorflow/lib/python3.6/site-packages/sklearn/metrics/classification.py:1135: UndefinedMetricWarning: Precision and F-score are ill-defined and being set to 0.0 in labels with no predicted samples.\n",
      "  'precision', 'predicted', average, warn_for)\n"
     ]
    },
    {
     "name": "stdout",
     "output_type": "stream",
     "text": [
      "      Hold  Buy Sell\n",
      "Hold: 39312   96  320\n",
      " Buy: 2798   17    7\n",
      "Sell: 2742    0   32\n",
      "Stock: MRK Total return: 0.0 Annualized return: 0.0\n",
      "STOCK: MSFT\n",
      "Testing year: 2007\n",
      "      Hold  Buy Sell\n",
      "Hold:  217    0    3\n",
      " Buy:   16    0    0\n",
      "Sell:   14    0    1\n"
     ]
    },
    {
     "name": "stderr",
     "output_type": "stream",
     "text": [
      "/home/ubuntu/anaconda3/envs/tensorflow/lib/python3.6/site-packages/sklearn/metrics/classification.py:1135: UndefinedMetricWarning: Precision and F-score are ill-defined and being set to 0.0 in labels with no predicted samples.\n",
      "  'precision', 'predicted', average, warn_for)\n"
     ]
    },
    {
     "name": "stdout",
     "output_type": "stream",
     "text": [
      "      Hold  Buy Sell\n",
      "Hold: 39529   96  323\n",
      " Buy: 2814   17    7\n",
      "Sell: 2756    0   33\n",
      "Testing year: 2008\n",
      "      Hold  Buy Sell\n",
      "Hold:  215    0    0\n",
      " Buy:   21    0    0\n",
      "Sell:   17    0    0\n"
     ]
    },
    {
     "name": "stderr",
     "output_type": "stream",
     "text": [
      "/home/ubuntu/anaconda3/envs/tensorflow/lib/python3.6/site-packages/sklearn/metrics/classification.py:1135: UndefinedMetricWarning: Precision and F-score are ill-defined and being set to 0.0 in labels with no predicted samples.\n",
      "  'precision', 'predicted', average, warn_for)\n"
     ]
    },
    {
     "name": "stdout",
     "output_type": "stream",
     "text": [
      "      Hold  Buy Sell\n",
      "Hold: 39744   96  323\n",
      " Buy: 2835   17    7\n",
      "Sell: 2773    0   33\n",
      "Testing year: 2009\n",
      "      Hold  Buy Sell\n",
      "Hold:  193    0   24\n",
      " Buy:   16    0    1\n",
      "Sell:   14    0    4\n"
     ]
    },
    {
     "name": "stderr",
     "output_type": "stream",
     "text": [
      "/home/ubuntu/anaconda3/envs/tensorflow/lib/python3.6/site-packages/sklearn/metrics/classification.py:1135: UndefinedMetricWarning: Precision and F-score are ill-defined and being set to 0.0 in labels with no predicted samples.\n",
      "  'precision', 'predicted', average, warn_for)\n"
     ]
    },
    {
     "name": "stdout",
     "output_type": "stream",
     "text": [
      "      Hold  Buy Sell\n",
      "Hold: 39937   96  347\n",
      " Buy: 2851   17    8\n",
      "Sell: 2787    0   37\n",
      "Testing year: 2010\n",
      "      Hold  Buy Sell\n",
      "Hold:  225    0    0\n",
      " Buy:   14    0    0\n",
      "Sell:   13    0    0\n"
     ]
    },
    {
     "name": "stderr",
     "output_type": "stream",
     "text": [
      "/home/ubuntu/anaconda3/envs/tensorflow/lib/python3.6/site-packages/sklearn/metrics/classification.py:1135: UndefinedMetricWarning: Precision and F-score are ill-defined and being set to 0.0 in labels with no predicted samples.\n",
      "  'precision', 'predicted', average, warn_for)\n"
     ]
    },
    {
     "name": "stdout",
     "output_type": "stream",
     "text": [
      "      Hold  Buy Sell\n",
      "Hold: 40162   96  347\n",
      " Buy: 2865   17    8\n",
      "Sell: 2800    0   37\n",
      "Testing year: 2011\n",
      "      Hold  Buy Sell\n",
      "Hold:  223    0    0\n",
      " Buy:   13    0    0\n",
      "Sell:   16    0    0\n"
     ]
    },
    {
     "name": "stderr",
     "output_type": "stream",
     "text": [
      "/home/ubuntu/anaconda3/envs/tensorflow/lib/python3.6/site-packages/sklearn/metrics/classification.py:1135: UndefinedMetricWarning: Precision and F-score are ill-defined and being set to 0.0 in labels with no predicted samples.\n",
      "  'precision', 'predicted', average, warn_for)\n"
     ]
    },
    {
     "name": "stdout",
     "output_type": "stream",
     "text": [
      "      Hold  Buy Sell\n",
      "Hold: 40385   96  347\n",
      " Buy: 2878   17    8\n",
      "Sell: 2816    0   37\n",
      "Testing year: 2012\n",
      "      Hold  Buy Sell\n",
      "Hold:  219    0    0\n",
      " Buy:   15    0    0\n",
      "Sell:   16    0    0\n"
     ]
    },
    {
     "name": "stderr",
     "output_type": "stream",
     "text": [
      "/home/ubuntu/anaconda3/envs/tensorflow/lib/python3.6/site-packages/sklearn/metrics/classification.py:1135: UndefinedMetricWarning: Precision and F-score are ill-defined and being set to 0.0 in labels with no predicted samples.\n",
      "  'precision', 'predicted', average, warn_for)\n"
     ]
    },
    {
     "name": "stdout",
     "output_type": "stream",
     "text": [
      "      Hold  Buy Sell\n",
      "Hold: 40604   96  347\n",
      " Buy: 2893   17    8\n",
      "Sell: 2832    0   37\n",
      "Testing year: 2013\n",
      "      Hold  Buy Sell\n",
      "Hold:  218    0    0\n",
      " Buy:   16    0    0\n",
      "Sell:   18    0    0\n"
     ]
    },
    {
     "name": "stderr",
     "output_type": "stream",
     "text": [
      "/home/ubuntu/anaconda3/envs/tensorflow/lib/python3.6/site-packages/sklearn/metrics/classification.py:1135: UndefinedMetricWarning: Precision and F-score are ill-defined and being set to 0.0 in labels with no predicted samples.\n",
      "  'precision', 'predicted', average, warn_for)\n"
     ]
    },
    {
     "name": "stdout",
     "output_type": "stream",
     "text": [
      "      Hold  Buy Sell\n",
      "Hold: 40822   96  347\n",
      " Buy: 2909   17    8\n",
      "Sell: 2850    0   37\n",
      "Testing year: 2014\n",
      "      Hold  Buy Sell\n",
      "Hold:  218    0    0\n",
      " Buy:   17    0    0\n",
      "Sell:   17    0    0\n"
     ]
    },
    {
     "name": "stderr",
     "output_type": "stream",
     "text": [
      "/home/ubuntu/anaconda3/envs/tensorflow/lib/python3.6/site-packages/sklearn/metrics/classification.py:1135: UndefinedMetricWarning: Precision and F-score are ill-defined and being set to 0.0 in labels with no predicted samples.\n",
      "  'precision', 'predicted', average, warn_for)\n"
     ]
    },
    {
     "name": "stdout",
     "output_type": "stream",
     "text": [
      "      Hold  Buy Sell\n",
      "Hold: 41040   96  347\n",
      " Buy: 2926   17    8\n",
      "Sell: 2867    0   37\n",
      "Testing year: 2015\n",
      "      Hold  Buy Sell\n",
      "Hold:  214    0    0\n",
      " Buy:   19    0    0\n",
      "Sell:   19    0    0\n"
     ]
    },
    {
     "name": "stderr",
     "output_type": "stream",
     "text": [
      "/home/ubuntu/anaconda3/envs/tensorflow/lib/python3.6/site-packages/sklearn/metrics/classification.py:1135: UndefinedMetricWarning: Precision and F-score are ill-defined and being set to 0.0 in labels with no predicted samples.\n",
      "  'precision', 'predicted', average, warn_for)\n"
     ]
    },
    {
     "name": "stdout",
     "output_type": "stream",
     "text": [
      "      Hold  Buy Sell\n",
      "Hold: 41254   96  347\n",
      " Buy: 2945   17    8\n",
      "Sell: 2886    0   37\n",
      "Testing year: 2016\n",
      "      Hold  Buy Sell\n",
      "Hold:  218    0    0\n",
      " Buy:   15    0    0\n",
      "Sell:   19    0    0\n"
     ]
    },
    {
     "name": "stderr",
     "output_type": "stream",
     "text": [
      "/home/ubuntu/anaconda3/envs/tensorflow/lib/python3.6/site-packages/sklearn/metrics/classification.py:1135: UndefinedMetricWarning: Precision and F-score are ill-defined and being set to 0.0 in labels with no predicted samples.\n",
      "  'precision', 'predicted', average, warn_for)\n"
     ]
    },
    {
     "name": "stdout",
     "output_type": "stream",
     "text": [
      "      Hold  Buy Sell\n",
      "Hold: 41472   96  347\n",
      " Buy: 2960   17    8\n",
      "Sell: 2905    0   37\n",
      "Stock: MSFT Total return: 0.0 Annualized return: 0.0\n",
      "STOCK: NKE\n",
      "Testing year: 2007\n",
      "      Hold  Buy Sell\n",
      "Hold:  219    0    0\n",
      " Buy:   16    0    0\n",
      "Sell:   16    0    0\n"
     ]
    },
    {
     "name": "stderr",
     "output_type": "stream",
     "text": [
      "/home/ubuntu/anaconda3/envs/tensorflow/lib/python3.6/site-packages/sklearn/metrics/classification.py:1135: UndefinedMetricWarning: Precision and F-score are ill-defined and being set to 0.0 in labels with no predicted samples.\n",
      "  'precision', 'predicted', average, warn_for)\n"
     ]
    },
    {
     "name": "stdout",
     "output_type": "stream",
     "text": [
      "      Hold  Buy Sell\n",
      "Hold: 41691   96  347\n",
      " Buy: 2976   17    8\n",
      "Sell: 2921    0   37\n",
      "Testing year: 2008\n",
      "      Hold  Buy Sell\n",
      "Hold:  218    0    0\n",
      " Buy:   18    0    0\n",
      "Sell:   17    0    0\n"
     ]
    },
    {
     "name": "stderr",
     "output_type": "stream",
     "text": [
      "/home/ubuntu/anaconda3/envs/tensorflow/lib/python3.6/site-packages/sklearn/metrics/classification.py:1135: UndefinedMetricWarning: Precision and F-score are ill-defined and being set to 0.0 in labels with no predicted samples.\n",
      "  'precision', 'predicted', average, warn_for)\n"
     ]
    },
    {
     "name": "stdout",
     "output_type": "stream",
     "text": [
      "      Hold  Buy Sell\n",
      "Hold: 41909   96  347\n",
      " Buy: 2994   17    8\n",
      "Sell: 2938    0   37\n",
      "Testing year: 2009\n",
      "      Hold  Buy Sell\n",
      "Hold:  225    0    0\n",
      " Buy:   13    0    0\n",
      "Sell:   14    0    0\n"
     ]
    },
    {
     "name": "stderr",
     "output_type": "stream",
     "text": [
      "/home/ubuntu/anaconda3/envs/tensorflow/lib/python3.6/site-packages/sklearn/metrics/classification.py:1135: UndefinedMetricWarning: Precision and F-score are ill-defined and being set to 0.0 in labels with no predicted samples.\n",
      "  'precision', 'predicted', average, warn_for)\n"
     ]
    },
    {
     "name": "stdout",
     "output_type": "stream",
     "text": [
      "      Hold  Buy Sell\n",
      "Hold: 42134   96  347\n",
      " Buy: 3007   17    8\n",
      "Sell: 2952    0   37\n",
      "Testing year: 2010\n",
      "      Hold  Buy Sell\n",
      "Hold:  224    0    0\n",
      " Buy:   15    0    0\n",
      "Sell:   13    0    0\n"
     ]
    },
    {
     "name": "stderr",
     "output_type": "stream",
     "text": [
      "/home/ubuntu/anaconda3/envs/tensorflow/lib/python3.6/site-packages/sklearn/metrics/classification.py:1135: UndefinedMetricWarning: Precision and F-score are ill-defined and being set to 0.0 in labels with no predicted samples.\n",
      "  'precision', 'predicted', average, warn_for)\n"
     ]
    },
    {
     "name": "stdout",
     "output_type": "stream",
     "text": [
      "      Hold  Buy Sell\n",
      "Hold: 42358   96  347\n",
      " Buy: 3022   17    8\n",
      "Sell: 2965    0   37\n",
      "Testing year: 2011\n",
      "      Hold  Buy Sell\n",
      "Hold:  227    0    0\n",
      " Buy:   13    0    0\n",
      "Sell:   12    0    0\n"
     ]
    },
    {
     "name": "stderr",
     "output_type": "stream",
     "text": [
      "/home/ubuntu/anaconda3/envs/tensorflow/lib/python3.6/site-packages/sklearn/metrics/classification.py:1135: UndefinedMetricWarning: Precision and F-score are ill-defined and being set to 0.0 in labels with no predicted samples.\n",
      "  'precision', 'predicted', average, warn_for)\n"
     ]
    },
    {
     "name": "stdout",
     "output_type": "stream",
     "text": [
      "      Hold  Buy Sell\n",
      "Hold: 42585   96  347\n",
      " Buy: 3035   17    8\n",
      "Sell: 2977    0   37\n",
      "Testing year: 2012\n",
      "      Hold  Buy Sell\n",
      "Hold:  223    0    0\n",
      " Buy:   13    0    0\n",
      "Sell:   14    0    0\n"
     ]
    },
    {
     "name": "stderr",
     "output_type": "stream",
     "text": [
      "/home/ubuntu/anaconda3/envs/tensorflow/lib/python3.6/site-packages/sklearn/metrics/classification.py:1135: UndefinedMetricWarning: Precision and F-score are ill-defined and being set to 0.0 in labels with no predicted samples.\n",
      "  'precision', 'predicted', average, warn_for)\n"
     ]
    },
    {
     "name": "stdout",
     "output_type": "stream",
     "text": [
      "      Hold  Buy Sell\n",
      "Hold: 42808   96  347\n",
      " Buy: 3048   17    8\n",
      "Sell: 2991    0   37\n",
      "Testing year: 2013\n",
      "      Hold  Buy Sell\n",
      "Hold:  217    0    0\n",
      " Buy:   17    0    0\n",
      "Sell:   18    0    0\n"
     ]
    },
    {
     "name": "stderr",
     "output_type": "stream",
     "text": [
      "/home/ubuntu/anaconda3/envs/tensorflow/lib/python3.6/site-packages/sklearn/metrics/classification.py:1135: UndefinedMetricWarning: Precision and F-score are ill-defined and being set to 0.0 in labels with no predicted samples.\n",
      "  'precision', 'predicted', average, warn_for)\n"
     ]
    },
    {
     "name": "stdout",
     "output_type": "stream",
     "text": [
      "      Hold  Buy Sell\n",
      "Hold: 43025   96  347\n",
      " Buy: 3065   17    8\n",
      "Sell: 3009    0   37\n",
      "Testing year: 2014\n",
      "      Hold  Buy Sell\n",
      "Hold:  222    0    0\n",
      " Buy:   15    0    0\n",
      "Sell:   15    0    0\n"
     ]
    },
    {
     "name": "stderr",
     "output_type": "stream",
     "text": [
      "/home/ubuntu/anaconda3/envs/tensorflow/lib/python3.6/site-packages/sklearn/metrics/classification.py:1135: UndefinedMetricWarning: Precision and F-score are ill-defined and being set to 0.0 in labels with no predicted samples.\n",
      "  'precision', 'predicted', average, warn_for)\n"
     ]
    },
    {
     "name": "stdout",
     "output_type": "stream",
     "text": [
      "      Hold  Buy Sell\n",
      "Hold: 43247   96  347\n",
      " Buy: 3080   17    8\n",
      "Sell: 3024    0   37\n",
      "Testing year: 2015\n",
      "      Hold  Buy Sell\n",
      "Hold:  221    0    0\n",
      " Buy:   17    0    0\n",
      "Sell:   14    0    0\n"
     ]
    },
    {
     "name": "stderr",
     "output_type": "stream",
     "text": [
      "/home/ubuntu/anaconda3/envs/tensorflow/lib/python3.6/site-packages/sklearn/metrics/classification.py:1135: UndefinedMetricWarning: Precision and F-score are ill-defined and being set to 0.0 in labels with no predicted samples.\n",
      "  'precision', 'predicted', average, warn_for)\n"
     ]
    },
    {
     "name": "stdout",
     "output_type": "stream",
     "text": [
      "      Hold  Buy Sell\n",
      "Hold: 43468   96  347\n",
      " Buy: 3097   17    8\n",
      "Sell: 3038    0   37\n",
      "Testing year: 2016\n",
      "      Hold  Buy Sell\n",
      "Hold:  223    0    0\n",
      " Buy:   14    0    0\n",
      "Sell:   15    0    0\n"
     ]
    },
    {
     "name": "stderr",
     "output_type": "stream",
     "text": [
      "/home/ubuntu/anaconda3/envs/tensorflow/lib/python3.6/site-packages/sklearn/metrics/classification.py:1135: UndefinedMetricWarning: Precision and F-score are ill-defined and being set to 0.0 in labels with no predicted samples.\n",
      "  'precision', 'predicted', average, warn_for)\n"
     ]
    },
    {
     "name": "stdout",
     "output_type": "stream",
     "text": [
      "      Hold  Buy Sell\n",
      "Hold: 43691   96  347\n",
      " Buy: 3111   17    8\n",
      "Sell: 3053    0   37\n",
      "Stock: NKE Total return: 0.0 Annualized return: 0.0\n",
      "STOCK: PFE\n",
      "Testing year: 2007\n",
      "      Hold  Buy Sell\n",
      "Hold:  218    0    0\n",
      " Buy:   18    0    0\n",
      "Sell:   15    0    0\n"
     ]
    },
    {
     "name": "stderr",
     "output_type": "stream",
     "text": [
      "/home/ubuntu/anaconda3/envs/tensorflow/lib/python3.6/site-packages/sklearn/metrics/classification.py:1135: UndefinedMetricWarning: Precision and F-score are ill-defined and being set to 0.0 in labels with no predicted samples.\n",
      "  'precision', 'predicted', average, warn_for)\n"
     ]
    },
    {
     "name": "stdout",
     "output_type": "stream",
     "text": [
      "      Hold  Buy Sell\n",
      "Hold: 43909   96  347\n",
      " Buy: 3129   17    8\n",
      "Sell: 3068    0   37\n",
      "Testing year: 2008\n",
      "      Hold  Buy Sell\n",
      "Hold:  220    0    0\n",
      " Buy:   16    0    0\n",
      "Sell:   17    0    0\n"
     ]
    },
    {
     "name": "stderr",
     "output_type": "stream",
     "text": [
      "/home/ubuntu/anaconda3/envs/tensorflow/lib/python3.6/site-packages/sklearn/metrics/classification.py:1135: UndefinedMetricWarning: Precision and F-score are ill-defined and being set to 0.0 in labels with no predicted samples.\n",
      "  'precision', 'predicted', average, warn_for)\n"
     ]
    },
    {
     "name": "stdout",
     "output_type": "stream",
     "text": [
      "      Hold  Buy Sell\n",
      "Hold: 44129   96  347\n",
      " Buy: 3145   17    8\n",
      "Sell: 3085    0   37\n",
      "Testing year: 2009\n",
      "      Hold  Buy Sell\n",
      "Hold:  208   14    0\n",
      " Buy:   14    3    0\n",
      "Sell:   13    0    0\n"
     ]
    },
    {
     "name": "stderr",
     "output_type": "stream",
     "text": [
      "/home/ubuntu/anaconda3/envs/tensorflow/lib/python3.6/site-packages/sklearn/metrics/classification.py:1135: UndefinedMetricWarning: Precision and F-score are ill-defined and being set to 0.0 in labels with no predicted samples.\n",
      "  'precision', 'predicted', average, warn_for)\n"
     ]
    },
    {
     "name": "stdout",
     "output_type": "stream",
     "text": [
      "      Hold  Buy Sell\n",
      "Hold: 44337  110  347\n",
      " Buy: 3159   20    8\n",
      "Sell: 3098    0   37\n",
      "Testing year: 2010\n",
      "      Hold  Buy Sell\n",
      "Hold:  223    0    0\n",
      " Buy:   15    0    0\n",
      "Sell:   14    0    0\n"
     ]
    },
    {
     "name": "stderr",
     "output_type": "stream",
     "text": [
      "/home/ubuntu/anaconda3/envs/tensorflow/lib/python3.6/site-packages/sklearn/metrics/classification.py:1135: UndefinedMetricWarning: Precision and F-score are ill-defined and being set to 0.0 in labels with no predicted samples.\n",
      "  'precision', 'predicted', average, warn_for)\n"
     ]
    },
    {
     "name": "stdout",
     "output_type": "stream",
     "text": [
      "      Hold  Buy Sell\n",
      "Hold: 44560  110  347\n",
      " Buy: 3174   20    8\n",
      "Sell: 3112    0   37\n",
      "Testing year: 2011\n",
      "      Hold  Buy Sell\n",
      "Hold:  223    0    0\n",
      " Buy:   17    0    0\n",
      "Sell:   12    0    0\n"
     ]
    },
    {
     "name": "stderr",
     "output_type": "stream",
     "text": [
      "/home/ubuntu/anaconda3/envs/tensorflow/lib/python3.6/site-packages/sklearn/metrics/classification.py:1135: UndefinedMetricWarning: Precision and F-score are ill-defined and being set to 0.0 in labels with no predicted samples.\n",
      "  'precision', 'predicted', average, warn_for)\n"
     ]
    },
    {
     "name": "stdout",
     "output_type": "stream",
     "text": [
      "      Hold  Buy Sell\n",
      "Hold: 44783  110  347\n",
      " Buy: 3191   20    8\n",
      "Sell: 3124    0   37\n",
      "Testing year: 2012\n",
      "      Hold  Buy Sell\n",
      "Hold:  217    0    0\n",
      " Buy:   17    0    0\n",
      "Sell:   16    0    0\n"
     ]
    },
    {
     "name": "stderr",
     "output_type": "stream",
     "text": [
      "/home/ubuntu/anaconda3/envs/tensorflow/lib/python3.6/site-packages/sklearn/metrics/classification.py:1135: UndefinedMetricWarning: Precision and F-score are ill-defined and being set to 0.0 in labels with no predicted samples.\n",
      "  'precision', 'predicted', average, warn_for)\n"
     ]
    },
    {
     "name": "stdout",
     "output_type": "stream",
     "text": [
      "      Hold  Buy Sell\n",
      "Hold: 45000  110  347\n",
      " Buy: 3208   20    8\n",
      "Sell: 3140    0   37\n",
      "Testing year: 2013\n",
      "      Hold  Buy Sell\n",
      "Hold:  225    0    0\n",
      " Buy:   14    0    0\n",
      "Sell:   13    0    0\n"
     ]
    },
    {
     "name": "stderr",
     "output_type": "stream",
     "text": [
      "/home/ubuntu/anaconda3/envs/tensorflow/lib/python3.6/site-packages/sklearn/metrics/classification.py:1135: UndefinedMetricWarning: Precision and F-score are ill-defined and being set to 0.0 in labels with no predicted samples.\n",
      "  'precision', 'predicted', average, warn_for)\n"
     ]
    },
    {
     "name": "stdout",
     "output_type": "stream",
     "text": [
      "      Hold  Buy Sell\n",
      "Hold: 45225  110  347\n",
      " Buy: 3222   20    8\n",
      "Sell: 3153    0   37\n",
      "Testing year: 2014\n",
      "      Hold  Buy Sell\n",
      "Hold:  221    0    0\n",
      " Buy:   15    0    0\n",
      "Sell:   16    0    0\n"
     ]
    },
    {
     "name": "stderr",
     "output_type": "stream",
     "text": [
      "/home/ubuntu/anaconda3/envs/tensorflow/lib/python3.6/site-packages/sklearn/metrics/classification.py:1135: UndefinedMetricWarning: Precision and F-score are ill-defined and being set to 0.0 in labels with no predicted samples.\n",
      "  'precision', 'predicted', average, warn_for)\n"
     ]
    },
    {
     "name": "stdout",
     "output_type": "stream",
     "text": [
      "      Hold  Buy Sell\n",
      "Hold: 45446  110  347\n",
      " Buy: 3237   20    8\n",
      "Sell: 3169    0   37\n",
      "Testing year: 2015\n",
      "      Hold  Buy Sell\n",
      "Hold:  218    0    0\n",
      " Buy:   15    0    0\n",
      "Sell:   19    0    0\n"
     ]
    },
    {
     "name": "stderr",
     "output_type": "stream",
     "text": [
      "/home/ubuntu/anaconda3/envs/tensorflow/lib/python3.6/site-packages/sklearn/metrics/classification.py:1135: UndefinedMetricWarning: Precision and F-score are ill-defined and being set to 0.0 in labels with no predicted samples.\n",
      "  'precision', 'predicted', average, warn_for)\n"
     ]
    },
    {
     "name": "stdout",
     "output_type": "stream",
     "text": [
      "      Hold  Buy Sell\n",
      "Hold: 45664  110  347\n",
      " Buy: 3252   20    8\n",
      "Sell: 3188    0   37\n",
      "Testing year: 2016\n",
      "      Hold  Buy Sell\n",
      "Hold:  221    0    0\n",
      " Buy:   16    0    0\n",
      "Sell:   15    0    0\n"
     ]
    },
    {
     "name": "stderr",
     "output_type": "stream",
     "text": [
      "/home/ubuntu/anaconda3/envs/tensorflow/lib/python3.6/site-packages/sklearn/metrics/classification.py:1135: UndefinedMetricWarning: Precision and F-score are ill-defined and being set to 0.0 in labels with no predicted samples.\n",
      "  'precision', 'predicted', average, warn_for)\n"
     ]
    },
    {
     "name": "stdout",
     "output_type": "stream",
     "text": [
      "      Hold  Buy Sell\n",
      "Hold: 45885  110  347\n",
      " Buy: 3268   20    8\n",
      "Sell: 3203    0   37\n",
      "Stock: PFE Total return: 203.76191625967195 Annualized return: 11.751492580133704\n",
      "STOCK: PG\n",
      "Testing year: 2007\n",
      "      Hold  Buy Sell\n",
      "Hold:  216    0    0\n",
      " Buy:   17    0    0\n",
      "Sell:   18    0    0\n"
     ]
    },
    {
     "name": "stderr",
     "output_type": "stream",
     "text": [
      "/home/ubuntu/anaconda3/envs/tensorflow/lib/python3.6/site-packages/sklearn/metrics/classification.py:1135: UndefinedMetricWarning: Precision and F-score are ill-defined and being set to 0.0 in labels with no predicted samples.\n",
      "  'precision', 'predicted', average, warn_for)\n"
     ]
    },
    {
     "name": "stdout",
     "output_type": "stream",
     "text": [
      "      Hold  Buy Sell\n",
      "Hold: 46101  110  347\n",
      " Buy: 3285   20    8\n",
      "Sell: 3221    0   37\n",
      "Testing year: 2008\n",
      "      Hold  Buy Sell\n",
      "Hold:  212   11    0\n",
      " Buy:   15    2    0\n",
      "Sell:   13    0    0\n"
     ]
    },
    {
     "name": "stderr",
     "output_type": "stream",
     "text": [
      "/home/ubuntu/anaconda3/envs/tensorflow/lib/python3.6/site-packages/sklearn/metrics/classification.py:1135: UndefinedMetricWarning: Precision and F-score are ill-defined and being set to 0.0 in labels with no predicted samples.\n",
      "  'precision', 'predicted', average, warn_for)\n"
     ]
    },
    {
     "name": "stdout",
     "output_type": "stream",
     "text": [
      "      Hold  Buy Sell\n",
      "Hold: 46313  121  347\n",
      " Buy: 3300   22    8\n",
      "Sell: 3234    0   37\n",
      "Testing year: 2009\n",
      "      Hold  Buy Sell\n",
      "Hold:  204   20    0\n",
      " Buy:   11    1    0\n",
      "Sell:   16    0    0\n"
     ]
    },
    {
     "name": "stderr",
     "output_type": "stream",
     "text": [
      "/home/ubuntu/anaconda3/envs/tensorflow/lib/python3.6/site-packages/sklearn/metrics/classification.py:1135: UndefinedMetricWarning: Precision and F-score are ill-defined and being set to 0.0 in labels with no predicted samples.\n",
      "  'precision', 'predicted', average, warn_for)\n"
     ]
    },
    {
     "name": "stdout",
     "output_type": "stream",
     "text": [
      "      Hold  Buy Sell\n",
      "Hold: 46517  141  347\n",
      " Buy: 3311   23    8\n",
      "Sell: 3250    0   37\n",
      "Testing year: 2010\n",
      "      Hold  Buy Sell\n",
      "Hold:  221    0    0\n",
      " Buy:   16    0    0\n",
      "Sell:   15    0    0\n"
     ]
    },
    {
     "name": "stderr",
     "output_type": "stream",
     "text": [
      "/home/ubuntu/anaconda3/envs/tensorflow/lib/python3.6/site-packages/sklearn/metrics/classification.py:1135: UndefinedMetricWarning: Precision and F-score are ill-defined and being set to 0.0 in labels with no predicted samples.\n",
      "  'precision', 'predicted', average, warn_for)\n"
     ]
    },
    {
     "name": "stdout",
     "output_type": "stream",
     "text": [
      "      Hold  Buy Sell\n",
      "Hold: 46738  141  347\n",
      " Buy: 3327   23    8\n",
      "Sell: 3265    0   37\n",
      "Testing year: 2011\n",
      "      Hold  Buy Sell\n",
      "Hold:  218    0    0\n",
      " Buy:   16    0    0\n",
      "Sell:   18    0    0\n"
     ]
    },
    {
     "name": "stderr",
     "output_type": "stream",
     "text": [
      "/home/ubuntu/anaconda3/envs/tensorflow/lib/python3.6/site-packages/sklearn/metrics/classification.py:1135: UndefinedMetricWarning: Precision and F-score are ill-defined and being set to 0.0 in labels with no predicted samples.\n",
      "  'precision', 'predicted', average, warn_for)\n"
     ]
    },
    {
     "name": "stdout",
     "output_type": "stream",
     "text": [
      "      Hold  Buy Sell\n",
      "Hold: 46956  141  347\n",
      " Buy: 3343   23    8\n",
      "Sell: 3283    0   37\n",
      "Testing year: 2012\n",
      "      Hold  Buy Sell\n",
      "Hold:  221    0    0\n",
      " Buy:   15    0    0\n",
      "Sell:   14    0    0\n"
     ]
    },
    {
     "name": "stderr",
     "output_type": "stream",
     "text": [
      "/home/ubuntu/anaconda3/envs/tensorflow/lib/python3.6/site-packages/sklearn/metrics/classification.py:1135: UndefinedMetricWarning: Precision and F-score are ill-defined and being set to 0.0 in labels with no predicted samples.\n",
      "  'precision', 'predicted', average, warn_for)\n"
     ]
    },
    {
     "name": "stdout",
     "output_type": "stream",
     "text": [
      "      Hold  Buy Sell\n",
      "Hold: 47177  141  347\n",
      " Buy: 3358   23    8\n",
      "Sell: 3297    0   37\n",
      "Testing year: 2013\n",
      "      Hold  Buy Sell\n",
      "Hold:  227    0    0\n",
      " Buy:    9    0    0\n",
      "Sell:   16    0    0\n"
     ]
    },
    {
     "name": "stderr",
     "output_type": "stream",
     "text": [
      "/home/ubuntu/anaconda3/envs/tensorflow/lib/python3.6/site-packages/sklearn/metrics/classification.py:1135: UndefinedMetricWarning: Precision and F-score are ill-defined and being set to 0.0 in labels with no predicted samples.\n",
      "  'precision', 'predicted', average, warn_for)\n"
     ]
    },
    {
     "name": "stdout",
     "output_type": "stream",
     "text": [
      "      Hold  Buy Sell\n",
      "Hold: 47404  141  347\n",
      " Buy: 3367   23    8\n",
      "Sell: 3313    0   37\n",
      "Testing year: 2014\n",
      "      Hold  Buy Sell\n",
      "Hold:  222    0    0\n",
      " Buy:   13    0    0\n",
      "Sell:   17    0    0\n"
     ]
    },
    {
     "name": "stderr",
     "output_type": "stream",
     "text": [
      "/home/ubuntu/anaconda3/envs/tensorflow/lib/python3.6/site-packages/sklearn/metrics/classification.py:1135: UndefinedMetricWarning: Precision and F-score are ill-defined and being set to 0.0 in labels with no predicted samples.\n",
      "  'precision', 'predicted', average, warn_for)\n"
     ]
    },
    {
     "name": "stdout",
     "output_type": "stream",
     "text": [
      "      Hold  Buy Sell\n",
      "Hold: 47626  141  347\n",
      " Buy: 3380   23    8\n",
      "Sell: 3330    0   37\n",
      "Testing year: 2015\n",
      "      Hold  Buy Sell\n",
      "Hold:  216    3    0\n",
      " Buy:   15    1    0\n",
      "Sell:   17    0    0\n"
     ]
    },
    {
     "name": "stderr",
     "output_type": "stream",
     "text": [
      "/home/ubuntu/anaconda3/envs/tensorflow/lib/python3.6/site-packages/sklearn/metrics/classification.py:1135: UndefinedMetricWarning: Precision and F-score are ill-defined and being set to 0.0 in labels with no predicted samples.\n",
      "  'precision', 'predicted', average, warn_for)\n"
     ]
    },
    {
     "name": "stdout",
     "output_type": "stream",
     "text": [
      "      Hold  Buy Sell\n",
      "Hold: 47842  144  347\n",
      " Buy: 3395   24    8\n",
      "Sell: 3347    0   37\n",
      "Testing year: 2016\n",
      "      Hold  Buy Sell\n",
      "Hold:  220    0    0\n",
      " Buy:   17    0    0\n",
      "Sell:   15    0    0\n"
     ]
    },
    {
     "name": "stderr",
     "output_type": "stream",
     "text": [
      "/home/ubuntu/anaconda3/envs/tensorflow/lib/python3.6/site-packages/sklearn/metrics/classification.py:1135: UndefinedMetricWarning: Precision and F-score are ill-defined and being set to 0.0 in labels with no predicted samples.\n",
      "  'precision', 'predicted', average, warn_for)\n"
     ]
    },
    {
     "name": "stdout",
     "output_type": "stream",
     "text": [
      "      Hold  Buy Sell\n",
      "Hold: 48062  144  347\n",
      " Buy: 3412   24    8\n",
      "Sell: 3362    0   37\n",
      "Stock: PG Total return: 69.36646379467106 Annualized return: 5.41022540187539\n",
      "STOCK: TRV\n",
      "Testing year: 2007\n",
      "      Hold  Buy Sell\n",
      "Hold:  219    0    0\n",
      " Buy:   15    0    0\n",
      "Sell:   17    0    0\n"
     ]
    },
    {
     "name": "stderr",
     "output_type": "stream",
     "text": [
      "/home/ubuntu/anaconda3/envs/tensorflow/lib/python3.6/site-packages/sklearn/metrics/classification.py:1135: UndefinedMetricWarning: Precision and F-score are ill-defined and being set to 0.0 in labels with no predicted samples.\n",
      "  'precision', 'predicted', average, warn_for)\n"
     ]
    },
    {
     "name": "stdout",
     "output_type": "stream",
     "text": [
      "      Hold  Buy Sell\n",
      "Hold: 48281  144  347\n",
      " Buy: 3427   24    8\n",
      "Sell: 3379    0   37\n",
      "Testing year: 2008\n",
      "      Hold  Buy Sell\n",
      "Hold:  206    4    1\n",
      " Buy:   22    0    0\n",
      "Sell:   19    0    1\n",
      "      Hold  Buy Sell\n",
      "Hold: 48487  148  348\n",
      " Buy: 3449   24    8\n",
      "Sell: 3398    0   38\n",
      "Testing year: 2009\n",
      "      Hold  Buy Sell\n",
      "Hold:  213    0    8\n",
      " Buy:   17    0    0\n",
      "Sell:   13    0    1\n"
     ]
    },
    {
     "name": "stderr",
     "output_type": "stream",
     "text": [
      "/home/ubuntu/anaconda3/envs/tensorflow/lib/python3.6/site-packages/sklearn/metrics/classification.py:1135: UndefinedMetricWarning: Precision and F-score are ill-defined and being set to 0.0 in labels with no predicted samples.\n",
      "  'precision', 'predicted', average, warn_for)\n"
     ]
    },
    {
     "name": "stdout",
     "output_type": "stream",
     "text": [
      "      Hold  Buy Sell\n",
      "Hold: 48700  148  356\n",
      " Buy: 3466   24    8\n",
      "Sell: 3411    0   39\n",
      "Testing year: 2010\n",
      "      Hold  Buy Sell\n",
      "Hold:  225    0    0\n",
      " Buy:   14    0    0\n",
      "Sell:   13    0    0\n"
     ]
    },
    {
     "name": "stderr",
     "output_type": "stream",
     "text": [
      "/home/ubuntu/anaconda3/envs/tensorflow/lib/python3.6/site-packages/sklearn/metrics/classification.py:1135: UndefinedMetricWarning: Precision and F-score are ill-defined and being set to 0.0 in labels with no predicted samples.\n",
      "  'precision', 'predicted', average, warn_for)\n"
     ]
    },
    {
     "name": "stdout",
     "output_type": "stream",
     "text": [
      "      Hold  Buy Sell\n",
      "Hold: 48925  148  356\n",
      " Buy: 3480   24    8\n",
      "Sell: 3424    0   39\n",
      "Testing year: 2011\n",
      "      Hold  Buy Sell\n",
      "Hold:  221    0    0\n",
      " Buy:   16    0    0\n",
      "Sell:   15    0    0\n"
     ]
    },
    {
     "name": "stderr",
     "output_type": "stream",
     "text": [
      "/home/ubuntu/anaconda3/envs/tensorflow/lib/python3.6/site-packages/sklearn/metrics/classification.py:1135: UndefinedMetricWarning: Precision and F-score are ill-defined and being set to 0.0 in labels with no predicted samples.\n",
      "  'precision', 'predicted', average, warn_for)\n"
     ]
    },
    {
     "name": "stdout",
     "output_type": "stream",
     "text": [
      "      Hold  Buy Sell\n",
      "Hold: 49146  148  356\n",
      " Buy: 3496   24    8\n",
      "Sell: 3439    0   39\n",
      "Testing year: 2012\n",
      "      Hold  Buy Sell\n",
      "Hold:  215    0    0\n",
      " Buy:   17    0    0\n",
      "Sell:   18    0    0\n"
     ]
    },
    {
     "name": "stderr",
     "output_type": "stream",
     "text": [
      "/home/ubuntu/anaconda3/envs/tensorflow/lib/python3.6/site-packages/sklearn/metrics/classification.py:1135: UndefinedMetricWarning: Precision and F-score are ill-defined and being set to 0.0 in labels with no predicted samples.\n",
      "  'precision', 'predicted', average, warn_for)\n"
     ]
    },
    {
     "name": "stdout",
     "output_type": "stream",
     "text": [
      "      Hold  Buy Sell\n",
      "Hold: 49361  148  356\n",
      " Buy: 3513   24    8\n",
      "Sell: 3457    0   39\n",
      "Testing year: 2013\n",
      "      Hold  Buy Sell\n",
      "Hold:  225    0    0\n",
      " Buy:   13    0    0\n",
      "Sell:   14    0    0\n"
     ]
    },
    {
     "name": "stderr",
     "output_type": "stream",
     "text": [
      "/home/ubuntu/anaconda3/envs/tensorflow/lib/python3.6/site-packages/sklearn/metrics/classification.py:1135: UndefinedMetricWarning: Precision and F-score are ill-defined and being set to 0.0 in labels with no predicted samples.\n",
      "  'precision', 'predicted', average, warn_for)\n"
     ]
    },
    {
     "name": "stdout",
     "output_type": "stream",
     "text": [
      "      Hold  Buy Sell\n",
      "Hold: 49586  148  356\n",
      " Buy: 3526   24    8\n",
      "Sell: 3471    0   39\n",
      "Testing year: 2014\n",
      "      Hold  Buy Sell\n",
      "Hold:  228    0    0\n",
      " Buy:   12    0    0\n",
      "Sell:   12    0    0\n"
     ]
    },
    {
     "name": "stderr",
     "output_type": "stream",
     "text": [
      "/home/ubuntu/anaconda3/envs/tensorflow/lib/python3.6/site-packages/sklearn/metrics/classification.py:1135: UndefinedMetricWarning: Precision and F-score are ill-defined and being set to 0.0 in labels with no predicted samples.\n",
      "  'precision', 'predicted', average, warn_for)\n"
     ]
    },
    {
     "name": "stdout",
     "output_type": "stream",
     "text": [
      "      Hold  Buy Sell\n",
      "Hold: 49814  148  356\n",
      " Buy: 3538   24    8\n",
      "Sell: 3483    0   39\n",
      "Testing year: 2015\n",
      "      Hold  Buy Sell\n",
      "Hold:  218    0    0\n",
      " Buy:   16    0    0\n",
      "Sell:   18    0    0\n"
     ]
    },
    {
     "name": "stderr",
     "output_type": "stream",
     "text": [
      "/home/ubuntu/anaconda3/envs/tensorflow/lib/python3.6/site-packages/sklearn/metrics/classification.py:1135: UndefinedMetricWarning: Precision and F-score are ill-defined and being set to 0.0 in labels with no predicted samples.\n",
      "  'precision', 'predicted', average, warn_for)\n"
     ]
    },
    {
     "name": "stdout",
     "output_type": "stream",
     "text": [
      "      Hold  Buy Sell\n",
      "Hold: 50032  148  356\n",
      " Buy: 3554   24    8\n",
      "Sell: 3501    0   39\n",
      "Testing year: 2016\n",
      "      Hold  Buy Sell\n",
      "Hold:  221    0    0\n",
      " Buy:   14    0    0\n",
      "Sell:   17    0    0\n"
     ]
    },
    {
     "name": "stderr",
     "output_type": "stream",
     "text": [
      "/home/ubuntu/anaconda3/envs/tensorflow/lib/python3.6/site-packages/sklearn/metrics/classification.py:1135: UndefinedMetricWarning: Precision and F-score are ill-defined and being set to 0.0 in labels with no predicted samples.\n",
      "  'precision', 'predicted', average, warn_for)\n"
     ]
    },
    {
     "name": "stdout",
     "output_type": "stream",
     "text": [
      "      Hold  Buy Sell\n",
      "Hold: 50253  148  356\n",
      " Buy: 3568   24    8\n",
      "Sell: 3518    0   39\n",
      "Stock: TRV Total return: 10.313215024197353 Annualized return: 0.9863682873667123\n",
      "STOCK: UNH\n",
      "Testing year: 2007\n",
      "      Hold  Buy Sell\n",
      "Hold:  217    0    0\n",
      " Buy:   17    0    0\n",
      "Sell:   17    0    0\n"
     ]
    },
    {
     "name": "stderr",
     "output_type": "stream",
     "text": [
      "/home/ubuntu/anaconda3/envs/tensorflow/lib/python3.6/site-packages/sklearn/metrics/classification.py:1135: UndefinedMetricWarning: Precision and F-score are ill-defined and being set to 0.0 in labels with no predicted samples.\n",
      "  'precision', 'predicted', average, warn_for)\n"
     ]
    },
    {
     "name": "stdout",
     "output_type": "stream",
     "text": [
      "      Hold  Buy Sell\n",
      "Hold: 50470  148  356\n",
      " Buy: 3585   24    8\n",
      "Sell: 3535    0   39\n",
      "Testing year: 2008\n",
      "      Hold  Buy Sell\n",
      "Hold:  168   46   15\n",
      " Buy:    8    6    0\n",
      "Sell:    8    0    2\n",
      "      Hold  Buy Sell\n",
      "Hold: 50638  194  371\n",
      " Buy: 3593   30    8\n",
      "Sell: 3543    0   41\n",
      "Testing year: 2009\n",
      "      Hold  Buy Sell\n",
      "Hold:  220    0    0\n",
      " Buy:   16    0    0\n",
      "Sell:   16    0    0\n"
     ]
    },
    {
     "name": "stderr",
     "output_type": "stream",
     "text": [
      "/home/ubuntu/anaconda3/envs/tensorflow/lib/python3.6/site-packages/sklearn/metrics/classification.py:1135: UndefinedMetricWarning: Precision and F-score are ill-defined and being set to 0.0 in labels with no predicted samples.\n",
      "  'precision', 'predicted', average, warn_for)\n"
     ]
    },
    {
     "name": "stdout",
     "output_type": "stream",
     "text": [
      "      Hold  Buy Sell\n",
      "Hold: 50858  194  371\n",
      " Buy: 3609   30    8\n",
      "Sell: 3559    0   41\n",
      "Testing year: 2010\n",
      "      Hold  Buy Sell\n",
      "Hold:  221    0    0\n",
      " Buy:   15    0    0\n",
      "Sell:   16    0    0\n"
     ]
    },
    {
     "name": "stderr",
     "output_type": "stream",
     "text": [
      "/home/ubuntu/anaconda3/envs/tensorflow/lib/python3.6/site-packages/sklearn/metrics/classification.py:1135: UndefinedMetricWarning: Precision and F-score are ill-defined and being set to 0.0 in labels with no predicted samples.\n",
      "  'precision', 'predicted', average, warn_for)\n"
     ]
    },
    {
     "name": "stdout",
     "output_type": "stream",
     "text": [
      "      Hold  Buy Sell\n",
      "Hold: 51079  194  371\n",
      " Buy: 3624   30    8\n",
      "Sell: 3575    0   41\n",
      "Testing year: 2011\n",
      "      Hold  Buy Sell\n",
      "Hold:  219    0    0\n",
      " Buy:   16    0    0\n",
      "Sell:   17    0    0\n"
     ]
    },
    {
     "name": "stderr",
     "output_type": "stream",
     "text": [
      "/home/ubuntu/anaconda3/envs/tensorflow/lib/python3.6/site-packages/sklearn/metrics/classification.py:1135: UndefinedMetricWarning: Precision and F-score are ill-defined and being set to 0.0 in labels with no predicted samples.\n",
      "  'precision', 'predicted', average, warn_for)\n"
     ]
    },
    {
     "name": "stdout",
     "output_type": "stream",
     "text": [
      "      Hold  Buy Sell\n",
      "Hold: 51298  194  371\n",
      " Buy: 3640   30    8\n",
      "Sell: 3592    0   41\n",
      "Testing year: 2012\n",
      "      Hold  Buy Sell\n",
      "Hold:  219    0    0\n",
      " Buy:   15    0    0\n",
      "Sell:   16    0    0\n"
     ]
    },
    {
     "name": "stderr",
     "output_type": "stream",
     "text": [
      "/home/ubuntu/anaconda3/envs/tensorflow/lib/python3.6/site-packages/sklearn/metrics/classification.py:1135: UndefinedMetricWarning: Precision and F-score are ill-defined and being set to 0.0 in labels with no predicted samples.\n",
      "  'precision', 'predicted', average, warn_for)\n"
     ]
    },
    {
     "name": "stdout",
     "output_type": "stream",
     "text": [
      "      Hold  Buy Sell\n",
      "Hold: 51517  194  371\n",
      " Buy: 3655   30    8\n",
      "Sell: 3608    0   41\n",
      "Testing year: 2013\n",
      "      Hold  Buy Sell\n",
      "Hold:  222    0    0\n",
      " Buy:   18    0    0\n",
      "Sell:   12    0    0\n"
     ]
    },
    {
     "name": "stderr",
     "output_type": "stream",
     "text": [
      "/home/ubuntu/anaconda3/envs/tensorflow/lib/python3.6/site-packages/sklearn/metrics/classification.py:1135: UndefinedMetricWarning: Precision and F-score are ill-defined and being set to 0.0 in labels with no predicted samples.\n",
      "  'precision', 'predicted', average, warn_for)\n"
     ]
    },
    {
     "name": "stdout",
     "output_type": "stream",
     "text": [
      "      Hold  Buy Sell\n",
      "Hold: 51739  194  371\n",
      " Buy: 3673   30    8\n",
      "Sell: 3620    0   41\n",
      "Testing year: 2014\n",
      "      Hold  Buy Sell\n",
      "Hold:  226    0    0\n",
      " Buy:   12    0    0\n",
      "Sell:   14    0    0\n"
     ]
    },
    {
     "name": "stderr",
     "output_type": "stream",
     "text": [
      "/home/ubuntu/anaconda3/envs/tensorflow/lib/python3.6/site-packages/sklearn/metrics/classification.py:1135: UndefinedMetricWarning: Precision and F-score are ill-defined and being set to 0.0 in labels with no predicted samples.\n",
      "  'precision', 'predicted', average, warn_for)\n"
     ]
    },
    {
     "name": "stdout",
     "output_type": "stream",
     "text": [
      "      Hold  Buy Sell\n",
      "Hold: 51965  194  371\n",
      " Buy: 3685   30    8\n",
      "Sell: 3634    0   41\n",
      "Testing year: 2015\n",
      "      Hold  Buy Sell\n",
      "Hold:  215    0    0\n",
      " Buy:   18    0    0\n",
      "Sell:   19    0    0\n"
     ]
    },
    {
     "name": "stderr",
     "output_type": "stream",
     "text": [
      "/home/ubuntu/anaconda3/envs/tensorflow/lib/python3.6/site-packages/sklearn/metrics/classification.py:1135: UndefinedMetricWarning: Precision and F-score are ill-defined and being set to 0.0 in labels with no predicted samples.\n",
      "  'precision', 'predicted', average, warn_for)\n"
     ]
    },
    {
     "name": "stdout",
     "output_type": "stream",
     "text": [
      "      Hold  Buy Sell\n",
      "Hold: 52180  194  371\n",
      " Buy: 3703   30    8\n",
      "Sell: 3653    0   41\n",
      "Testing year: 2016\n",
      "      Hold  Buy Sell\n",
      "Hold:  223    0    0\n",
      " Buy:   15    0    0\n",
      "Sell:   14    0    0\n"
     ]
    },
    {
     "name": "stderr",
     "output_type": "stream",
     "text": [
      "/home/ubuntu/anaconda3/envs/tensorflow/lib/python3.6/site-packages/sklearn/metrics/classification.py:1135: UndefinedMetricWarning: Precision and F-score are ill-defined and being set to 0.0 in labels with no predicted samples.\n",
      "  'precision', 'predicted', average, warn_for)\n"
     ]
    },
    {
     "name": "stdout",
     "output_type": "stream",
     "text": [
      "      Hold  Buy Sell\n",
      "Hold: 52403  194  371\n",
      " Buy: 3718   30    8\n",
      "Sell: 3667    0   41\n",
      "Stock: UNH Total return: -13.683387222429976 Annualized return: -1.4607076859440515\n",
      "STOCK: UTX\n",
      "Testing year: 2007\n",
      "      Hold  Buy Sell\n",
      "Hold:  218    0    0\n",
      " Buy:   17    0    0\n",
      "Sell:   16    0    0\n"
     ]
    },
    {
     "name": "stderr",
     "output_type": "stream",
     "text": [
      "/home/ubuntu/anaconda3/envs/tensorflow/lib/python3.6/site-packages/sklearn/metrics/classification.py:1135: UndefinedMetricWarning: Precision and F-score are ill-defined and being set to 0.0 in labels with no predicted samples.\n",
      "  'precision', 'predicted', average, warn_for)\n"
     ]
    },
    {
     "name": "stdout",
     "output_type": "stream",
     "text": [
      "      Hold  Buy Sell\n",
      "Hold: 52621  194  371\n",
      " Buy: 3735   30    8\n",
      "Sell: 3683    0   41\n",
      "Testing year: 2008\n",
      "      Hold  Buy Sell\n",
      "Hold:  219    3    0\n",
      " Buy:   15    2    0\n",
      "Sell:   14    0    0\n"
     ]
    },
    {
     "name": "stderr",
     "output_type": "stream",
     "text": [
      "/home/ubuntu/anaconda3/envs/tensorflow/lib/python3.6/site-packages/sklearn/metrics/classification.py:1135: UndefinedMetricWarning: Precision and F-score are ill-defined and being set to 0.0 in labels with no predicted samples.\n",
      "  'precision', 'predicted', average, warn_for)\n"
     ]
    },
    {
     "name": "stdout",
     "output_type": "stream",
     "text": [
      "      Hold  Buy Sell\n",
      "Hold: 52840  197  371\n",
      " Buy: 3750   32    8\n",
      "Sell: 3697    0   41\n",
      "Testing year: 2009\n",
      "      Hold  Buy Sell\n",
      "Hold:  223    1    0\n",
      " Buy:   15    0    0\n",
      "Sell:   13    0    0\n"
     ]
    },
    {
     "name": "stderr",
     "output_type": "stream",
     "text": [
      "/home/ubuntu/anaconda3/envs/tensorflow/lib/python3.6/site-packages/sklearn/metrics/classification.py:1135: UndefinedMetricWarning: Precision and F-score are ill-defined and being set to 0.0 in labels with no predicted samples.\n",
      "  'precision', 'predicted', average, warn_for)\n"
     ]
    },
    {
     "name": "stdout",
     "output_type": "stream",
     "text": [
      "      Hold  Buy Sell\n",
      "Hold: 53063  198  371\n",
      " Buy: 3765   32    8\n",
      "Sell: 3710    0   41\n",
      "Testing year: 2010\n",
      "      Hold  Buy Sell\n",
      "Hold:  229    0    0\n",
      " Buy:   12    0    0\n",
      "Sell:   11    0    0\n"
     ]
    },
    {
     "name": "stderr",
     "output_type": "stream",
     "text": [
      "/home/ubuntu/anaconda3/envs/tensorflow/lib/python3.6/site-packages/sklearn/metrics/classification.py:1135: UndefinedMetricWarning: Precision and F-score are ill-defined and being set to 0.0 in labels with no predicted samples.\n",
      "  'precision', 'predicted', average, warn_for)\n"
     ]
    },
    {
     "name": "stdout",
     "output_type": "stream",
     "text": [
      "      Hold  Buy Sell\n",
      "Hold: 53292  198  371\n",
      " Buy: 3777   32    8\n",
      "Sell: 3721    0   41\n",
      "Testing year: 2011\n",
      "      Hold  Buy Sell\n",
      "Hold:  218    0    0\n",
      " Buy:   19    0    0\n",
      "Sell:   15    0    0\n"
     ]
    },
    {
     "name": "stderr",
     "output_type": "stream",
     "text": [
      "/home/ubuntu/anaconda3/envs/tensorflow/lib/python3.6/site-packages/sklearn/metrics/classification.py:1135: UndefinedMetricWarning: Precision and F-score are ill-defined and being set to 0.0 in labels with no predicted samples.\n",
      "  'precision', 'predicted', average, warn_for)\n"
     ]
    },
    {
     "name": "stdout",
     "output_type": "stream",
     "text": [
      "      Hold  Buy Sell\n",
      "Hold: 53510  198  371\n",
      " Buy: 3796   32    8\n",
      "Sell: 3736    0   41\n",
      "Testing year: 2012\n",
      "      Hold  Buy Sell\n",
      "Hold:  215    0    0\n",
      " Buy:   17    0    0\n",
      "Sell:   18    0    0\n"
     ]
    },
    {
     "name": "stderr",
     "output_type": "stream",
     "text": [
      "/home/ubuntu/anaconda3/envs/tensorflow/lib/python3.6/site-packages/sklearn/metrics/classification.py:1135: UndefinedMetricWarning: Precision and F-score are ill-defined and being set to 0.0 in labels with no predicted samples.\n",
      "  'precision', 'predicted', average, warn_for)\n"
     ]
    },
    {
     "name": "stdout",
     "output_type": "stream",
     "text": [
      "      Hold  Buy Sell\n",
      "Hold: 53725  198  371\n",
      " Buy: 3813   32    8\n",
      "Sell: 3754    0   41\n",
      "Testing year: 2013\n",
      "      Hold  Buy Sell\n",
      "Hold:  225    0    0\n",
      " Buy:   13    0    0\n",
      "Sell:   14    0    0\n"
     ]
    },
    {
     "name": "stderr",
     "output_type": "stream",
     "text": [
      "/home/ubuntu/anaconda3/envs/tensorflow/lib/python3.6/site-packages/sklearn/metrics/classification.py:1135: UndefinedMetricWarning: Precision and F-score are ill-defined and being set to 0.0 in labels with no predicted samples.\n",
      "  'precision', 'predicted', average, warn_for)\n"
     ]
    },
    {
     "name": "stdout",
     "output_type": "stream",
     "text": [
      "      Hold  Buy Sell\n",
      "Hold: 53950  198  371\n",
      " Buy: 3826   32    8\n",
      "Sell: 3768    0   41\n",
      "Testing year: 2014\n",
      "      Hold  Buy Sell\n",
      "Hold:  225    0    0\n",
      " Buy:   14    0    0\n",
      "Sell:   13    0    0\n"
     ]
    },
    {
     "name": "stderr",
     "output_type": "stream",
     "text": [
      "/home/ubuntu/anaconda3/envs/tensorflow/lib/python3.6/site-packages/sklearn/metrics/classification.py:1135: UndefinedMetricWarning: Precision and F-score are ill-defined and being set to 0.0 in labels with no predicted samples.\n",
      "  'precision', 'predicted', average, warn_for)\n"
     ]
    },
    {
     "name": "stdout",
     "output_type": "stream",
     "text": [
      "      Hold  Buy Sell\n",
      "Hold: 54175  198  371\n",
      " Buy: 3840   32    8\n",
      "Sell: 3781    0   41\n",
      "Testing year: 2015\n",
      "      Hold  Buy Sell\n",
      "Hold:  221    0    0\n",
      " Buy:   17    0    0\n",
      "Sell:   14    0    0\n"
     ]
    },
    {
     "name": "stderr",
     "output_type": "stream",
     "text": [
      "/home/ubuntu/anaconda3/envs/tensorflow/lib/python3.6/site-packages/sklearn/metrics/classification.py:1135: UndefinedMetricWarning: Precision and F-score are ill-defined and being set to 0.0 in labels with no predicted samples.\n",
      "  'precision', 'predicted', average, warn_for)\n"
     ]
    },
    {
     "name": "stdout",
     "output_type": "stream",
     "text": [
      "      Hold  Buy Sell\n",
      "Hold: 54396  198  371\n",
      " Buy: 3857   32    8\n",
      "Sell: 3795    0   41\n",
      "Testing year: 2016\n",
      "      Hold  Buy Sell\n",
      "Hold:  222    0    0\n",
      " Buy:   18    0    0\n",
      "Sell:   12    0    0\n"
     ]
    },
    {
     "name": "stderr",
     "output_type": "stream",
     "text": [
      "/home/ubuntu/anaconda3/envs/tensorflow/lib/python3.6/site-packages/sklearn/metrics/classification.py:1135: UndefinedMetricWarning: Precision and F-score are ill-defined and being set to 0.0 in labels with no predicted samples.\n",
      "  'precision', 'predicted', average, warn_for)\n"
     ]
    },
    {
     "name": "stdout",
     "output_type": "stream",
     "text": [
      "      Hold  Buy Sell\n",
      "Hold: 54618  198  371\n",
      " Buy: 3875   32    8\n",
      "Sell: 3807    0   41\n",
      "Stock: UTX Total return: 189.5774697200998 Annualized return: 11.218357469078777\n",
      "STOCK: VZ\n",
      "Testing year: 2007\n",
      "      Hold  Buy Sell\n",
      "Hold:  218    0    0\n",
      " Buy:   17    0    0\n",
      "Sell:   16    0    0\n"
     ]
    },
    {
     "name": "stderr",
     "output_type": "stream",
     "text": [
      "/home/ubuntu/anaconda3/envs/tensorflow/lib/python3.6/site-packages/sklearn/metrics/classification.py:1135: UndefinedMetricWarning: Precision and F-score are ill-defined and being set to 0.0 in labels with no predicted samples.\n",
      "  'precision', 'predicted', average, warn_for)\n"
     ]
    },
    {
     "name": "stdout",
     "output_type": "stream",
     "text": [
      "      Hold  Buy Sell\n",
      "Hold: 54836  198  371\n",
      " Buy: 3892   32    8\n",
      "Sell: 3823    0   41\n",
      "Testing year: 2008\n",
      "      Hold  Buy Sell\n",
      "Hold:  210    0    5\n",
      " Buy:   20    0    0\n",
      "Sell:   14    0    4\n"
     ]
    },
    {
     "name": "stderr",
     "output_type": "stream",
     "text": [
      "/home/ubuntu/anaconda3/envs/tensorflow/lib/python3.6/site-packages/sklearn/metrics/classification.py:1135: UndefinedMetricWarning: Precision and F-score are ill-defined and being set to 0.0 in labels with no predicted samples.\n",
      "  'precision', 'predicted', average, warn_for)\n"
     ]
    },
    {
     "name": "stdout",
     "output_type": "stream",
     "text": [
      "      Hold  Buy Sell\n",
      "Hold: 55046  198  376\n",
      " Buy: 3912   32    8\n",
      "Sell: 3837    0   45\n",
      "Testing year: 2009\n",
      "      Hold  Buy Sell\n",
      "Hold:  220    0    5\n",
      " Buy:   12    0    0\n",
      "Sell:   14    0    1\n"
     ]
    },
    {
     "name": "stderr",
     "output_type": "stream",
     "text": [
      "/home/ubuntu/anaconda3/envs/tensorflow/lib/python3.6/site-packages/sklearn/metrics/classification.py:1135: UndefinedMetricWarning: Precision and F-score are ill-defined and being set to 0.0 in labels with no predicted samples.\n",
      "  'precision', 'predicted', average, warn_for)\n"
     ]
    },
    {
     "name": "stdout",
     "output_type": "stream",
     "text": [
      "      Hold  Buy Sell\n",
      "Hold: 55266  198  381\n",
      " Buy: 3924   32    8\n",
      "Sell: 3851    0   46\n",
      "Testing year: 2010\n",
      "      Hold  Buy Sell\n",
      "Hold:  230    0    0\n",
      " Buy:   12    0    0\n",
      "Sell:   10    0    0\n"
     ]
    },
    {
     "name": "stderr",
     "output_type": "stream",
     "text": [
      "/home/ubuntu/anaconda3/envs/tensorflow/lib/python3.6/site-packages/sklearn/metrics/classification.py:1135: UndefinedMetricWarning: Precision and F-score are ill-defined and being set to 0.0 in labels with no predicted samples.\n",
      "  'precision', 'predicted', average, warn_for)\n"
     ]
    },
    {
     "name": "stdout",
     "output_type": "stream",
     "text": [
      "      Hold  Buy Sell\n",
      "Hold: 55496  198  381\n",
      " Buy: 3936   32    8\n",
      "Sell: 3861    0   46\n",
      "Testing year: 2011\n",
      "      Hold  Buy Sell\n",
      "Hold:  223    0    0\n",
      " Buy:   13    0    0\n",
      "Sell:   16    0    0\n"
     ]
    },
    {
     "name": "stderr",
     "output_type": "stream",
     "text": [
      "/home/ubuntu/anaconda3/envs/tensorflow/lib/python3.6/site-packages/sklearn/metrics/classification.py:1135: UndefinedMetricWarning: Precision and F-score are ill-defined and being set to 0.0 in labels with no predicted samples.\n",
      "  'precision', 'predicted', average, warn_for)\n"
     ]
    },
    {
     "name": "stdout",
     "output_type": "stream",
     "text": [
      "      Hold  Buy Sell\n",
      "Hold: 55719  198  381\n",
      " Buy: 3949   32    8\n",
      "Sell: 3877    0   46\n",
      "Testing year: 2012\n",
      "      Hold  Buy Sell\n",
      "Hold:  220    0    0\n",
      " Buy:   16    0    0\n",
      "Sell:   14    0    0\n"
     ]
    },
    {
     "name": "stderr",
     "output_type": "stream",
     "text": [
      "/home/ubuntu/anaconda3/envs/tensorflow/lib/python3.6/site-packages/sklearn/metrics/classification.py:1135: UndefinedMetricWarning: Precision and F-score are ill-defined and being set to 0.0 in labels with no predicted samples.\n",
      "  'precision', 'predicted', average, warn_for)\n"
     ]
    },
    {
     "name": "stdout",
     "output_type": "stream",
     "text": [
      "      Hold  Buy Sell\n",
      "Hold: 55939  198  381\n",
      " Buy: 3965   32    8\n",
      "Sell: 3891    0   46\n",
      "Testing year: 2013\n",
      "      Hold  Buy Sell\n",
      "Hold:  227    0    0\n",
      " Buy:   13    0    0\n",
      "Sell:   12    0    0\n"
     ]
    },
    {
     "name": "stderr",
     "output_type": "stream",
     "text": [
      "/home/ubuntu/anaconda3/envs/tensorflow/lib/python3.6/site-packages/sklearn/metrics/classification.py:1135: UndefinedMetricWarning: Precision and F-score are ill-defined and being set to 0.0 in labels with no predicted samples.\n",
      "  'precision', 'predicted', average, warn_for)\n"
     ]
    },
    {
     "name": "stdout",
     "output_type": "stream",
     "text": [
      "      Hold  Buy Sell\n",
      "Hold: 56166  198  381\n",
      " Buy: 3978   32    8\n",
      "Sell: 3903    0   46\n",
      "Testing year: 2014\n",
      "      Hold  Buy Sell\n",
      "Hold:  219    0    0\n",
      " Buy:   15    0    0\n",
      "Sell:   18    0    0\n"
     ]
    },
    {
     "name": "stderr",
     "output_type": "stream",
     "text": [
      "/home/ubuntu/anaconda3/envs/tensorflow/lib/python3.6/site-packages/sklearn/metrics/classification.py:1135: UndefinedMetricWarning: Precision and F-score are ill-defined and being set to 0.0 in labels with no predicted samples.\n",
      "  'precision', 'predicted', average, warn_for)\n"
     ]
    },
    {
     "name": "stdout",
     "output_type": "stream",
     "text": [
      "      Hold  Buy Sell\n",
      "Hold: 56385  198  381\n",
      " Buy: 3993   32    8\n",
      "Sell: 3921    0   46\n",
      "Testing year: 2015\n",
      "      Hold  Buy Sell\n",
      "Hold:  220    0    0\n",
      " Buy:   18    0    0\n",
      "Sell:   14    0    0\n"
     ]
    },
    {
     "name": "stderr",
     "output_type": "stream",
     "text": [
      "/home/ubuntu/anaconda3/envs/tensorflow/lib/python3.6/site-packages/sklearn/metrics/classification.py:1135: UndefinedMetricWarning: Precision and F-score are ill-defined and being set to 0.0 in labels with no predicted samples.\n",
      "  'precision', 'predicted', average, warn_for)\n"
     ]
    },
    {
     "name": "stdout",
     "output_type": "stream",
     "text": [
      "      Hold  Buy Sell\n",
      "Hold: 56605  198  381\n",
      " Buy: 4011   32    8\n",
      "Sell: 3935    0   46\n",
      "Testing year: 2016\n",
      "      Hold  Buy Sell\n",
      "Hold:  229    0    0\n",
      " Buy:   12    0    0\n",
      "Sell:   11    0    0\n"
     ]
    },
    {
     "name": "stderr",
     "output_type": "stream",
     "text": [
      "/home/ubuntu/anaconda3/envs/tensorflow/lib/python3.6/site-packages/sklearn/metrics/classification.py:1135: UndefinedMetricWarning: Precision and F-score are ill-defined and being set to 0.0 in labels with no predicted samples.\n",
      "  'precision', 'predicted', average, warn_for)\n"
     ]
    },
    {
     "name": "stdout",
     "output_type": "stream",
     "text": [
      "      Hold  Buy Sell\n",
      "Hold: 56834  198  381\n",
      " Buy: 4023   32    8\n",
      "Sell: 3946    0   46\n",
      "Stock: VZ Total return: 0.0 Annualized return: 0.0\n",
      "STOCK: WMT\n",
      "Testing year: 2007\n",
      "      Hold  Buy Sell\n",
      "Hold:  215    0    0\n",
      " Buy:   18    0    0\n",
      "Sell:   18    0    0\n"
     ]
    },
    {
     "name": "stderr",
     "output_type": "stream",
     "text": [
      "/home/ubuntu/anaconda3/envs/tensorflow/lib/python3.6/site-packages/sklearn/metrics/classification.py:1135: UndefinedMetricWarning: Precision and F-score are ill-defined and being set to 0.0 in labels with no predicted samples.\n",
      "  'precision', 'predicted', average, warn_for)\n"
     ]
    },
    {
     "name": "stdout",
     "output_type": "stream",
     "text": [
      "      Hold  Buy Sell\n",
      "Hold: 57049  198  381\n",
      " Buy: 4041   32    8\n",
      "Sell: 3964    0   46\n",
      "Testing year: 2008\n",
      "      Hold  Buy Sell\n",
      "Hold:  213    0    0\n",
      " Buy:   18    0    0\n",
      "Sell:   22    0    0\n"
     ]
    },
    {
     "name": "stderr",
     "output_type": "stream",
     "text": [
      "/home/ubuntu/anaconda3/envs/tensorflow/lib/python3.6/site-packages/sklearn/metrics/classification.py:1135: UndefinedMetricWarning: Precision and F-score are ill-defined and being set to 0.0 in labels with no predicted samples.\n",
      "  'precision', 'predicted', average, warn_for)\n"
     ]
    },
    {
     "name": "stdout",
     "output_type": "stream",
     "text": [
      "      Hold  Buy Sell\n",
      "Hold: 57262  198  381\n",
      " Buy: 4059   32    8\n",
      "Sell: 3986    0   46\n",
      "Testing year: 2009\n",
      "      Hold  Buy Sell\n",
      "Hold:  219    0    0\n",
      " Buy:   15    0    0\n",
      "Sell:   18    0    0\n"
     ]
    },
    {
     "name": "stderr",
     "output_type": "stream",
     "text": [
      "/home/ubuntu/anaconda3/envs/tensorflow/lib/python3.6/site-packages/sklearn/metrics/classification.py:1135: UndefinedMetricWarning: Precision and F-score are ill-defined and being set to 0.0 in labels with no predicted samples.\n",
      "  'precision', 'predicted', average, warn_for)\n"
     ]
    },
    {
     "name": "stdout",
     "output_type": "stream",
     "text": [
      "      Hold  Buy Sell\n",
      "Hold: 57481  198  381\n",
      " Buy: 4074   32    8\n",
      "Sell: 4004    0   46\n",
      "Testing year: 2010\n",
      "      Hold  Buy Sell\n",
      "Hold:  215    0    0\n",
      " Buy:   17    0    0\n",
      "Sell:   20    0    0\n"
     ]
    },
    {
     "name": "stderr",
     "output_type": "stream",
     "text": [
      "/home/ubuntu/anaconda3/envs/tensorflow/lib/python3.6/site-packages/sklearn/metrics/classification.py:1135: UndefinedMetricWarning: Precision and F-score are ill-defined and being set to 0.0 in labels with no predicted samples.\n",
      "  'precision', 'predicted', average, warn_for)\n"
     ]
    },
    {
     "name": "stdout",
     "output_type": "stream",
     "text": [
      "      Hold  Buy Sell\n",
      "Hold: 57696  198  381\n",
      " Buy: 4091   32    8\n",
      "Sell: 4024    0   46\n",
      "Testing year: 2011\n",
      "      Hold  Buy Sell\n",
      "Hold:  223    0    0\n",
      " Buy:   15    0    0\n",
      "Sell:   14    0    0\n"
     ]
    },
    {
     "name": "stderr",
     "output_type": "stream",
     "text": [
      "/home/ubuntu/anaconda3/envs/tensorflow/lib/python3.6/site-packages/sklearn/metrics/classification.py:1135: UndefinedMetricWarning: Precision and F-score are ill-defined and being set to 0.0 in labels with no predicted samples.\n",
      "  'precision', 'predicted', average, warn_for)\n"
     ]
    },
    {
     "name": "stdout",
     "output_type": "stream",
     "text": [
      "      Hold  Buy Sell\n",
      "Hold: 57919  198  381\n",
      " Buy: 4106   32    8\n",
      "Sell: 4038    0   46\n",
      "Testing year: 2012\n",
      "      Hold  Buy Sell\n",
      "Hold:  222    0    0\n",
      " Buy:   15    0    0\n",
      "Sell:   13    0    0\n"
     ]
    },
    {
     "name": "stderr",
     "output_type": "stream",
     "text": [
      "/home/ubuntu/anaconda3/envs/tensorflow/lib/python3.6/site-packages/sklearn/metrics/classification.py:1135: UndefinedMetricWarning: Precision and F-score are ill-defined and being set to 0.0 in labels with no predicted samples.\n",
      "  'precision', 'predicted', average, warn_for)\n"
     ]
    },
    {
     "name": "stdout",
     "output_type": "stream",
     "text": [
      "      Hold  Buy Sell\n",
      "Hold: 58141  198  381\n",
      " Buy: 4121   32    8\n",
      "Sell: 4051    0   46\n",
      "Testing year: 2013\n",
      "      Hold  Buy Sell\n",
      "Hold:  228    0    0\n",
      " Buy:   11    0    0\n",
      "Sell:   13    0    0\n"
     ]
    },
    {
     "name": "stderr",
     "output_type": "stream",
     "text": [
      "/home/ubuntu/anaconda3/envs/tensorflow/lib/python3.6/site-packages/sklearn/metrics/classification.py:1135: UndefinedMetricWarning: Precision and F-score are ill-defined and being set to 0.0 in labels with no predicted samples.\n",
      "  'precision', 'predicted', average, warn_for)\n"
     ]
    },
    {
     "name": "stdout",
     "output_type": "stream",
     "text": [
      "      Hold  Buy Sell\n",
      "Hold: 58369  198  381\n",
      " Buy: 4132   32    8\n",
      "Sell: 4064    0   46\n",
      "Testing year: 2014\n",
      "      Hold  Buy Sell\n",
      "Hold:  217    0    0\n",
      " Buy:   17    0    0\n",
      "Sell:   18    0    0\n"
     ]
    },
    {
     "name": "stderr",
     "output_type": "stream",
     "text": [
      "/home/ubuntu/anaconda3/envs/tensorflow/lib/python3.6/site-packages/sklearn/metrics/classification.py:1135: UndefinedMetricWarning: Precision and F-score are ill-defined and being set to 0.0 in labels with no predicted samples.\n",
      "  'precision', 'predicted', average, warn_for)\n"
     ]
    },
    {
     "name": "stdout",
     "output_type": "stream",
     "text": [
      "      Hold  Buy Sell\n",
      "Hold: 58586  198  381\n",
      " Buy: 4149   32    8\n",
      "Sell: 4082    0   46\n",
      "Testing year: 2015\n",
      "      Hold  Buy Sell\n",
      "Hold:  214    7    0\n",
      " Buy:   17    0    0\n",
      "Sell:   13    1    0\n"
     ]
    },
    {
     "name": "stderr",
     "output_type": "stream",
     "text": [
      "/home/ubuntu/anaconda3/envs/tensorflow/lib/python3.6/site-packages/sklearn/metrics/classification.py:1135: UndefinedMetricWarning: Precision and F-score are ill-defined and being set to 0.0 in labels with no predicted samples.\n",
      "  'precision', 'predicted', average, warn_for)\n"
     ]
    },
    {
     "name": "stdout",
     "output_type": "stream",
     "text": [
      "      Hold  Buy Sell\n",
      "Hold: 58800  205  381\n",
      " Buy: 4166   32    8\n",
      "Sell: 4095    1   46\n",
      "Testing year: 2016\n",
      "      Hold  Buy Sell\n",
      "Hold:  218    0    0\n",
      " Buy:   16    0    0\n",
      "Sell:   18    0    0\n"
     ]
    },
    {
     "name": "stderr",
     "output_type": "stream",
     "text": [
      "/home/ubuntu/anaconda3/envs/tensorflow/lib/python3.6/site-packages/sklearn/metrics/classification.py:1135: UndefinedMetricWarning: Precision and F-score are ill-defined and being set to 0.0 in labels with no predicted samples.\n",
      "  'precision', 'predicted', average, warn_for)\n"
     ]
    },
    {
     "name": "stdout",
     "output_type": "stream",
     "text": [
      "      Hold  Buy Sell\n",
      "Hold: 59018  205  381\n",
      " Buy: 4182   32    8\n",
      "Sell: 4113    1   46\n",
      "Stock: WMT Total return: 10.560017667516508 Annualized return: 1.008939151091215\n",
      "STOCK: XOM\n",
      "Testing year: 2007\n",
      "      Hold  Buy Sell\n",
      "Hold:  221    0    0\n",
      " Buy:   16    0    0\n",
      "Sell:   14    0    0\n"
     ]
    },
    {
     "name": "stderr",
     "output_type": "stream",
     "text": [
      "/home/ubuntu/anaconda3/envs/tensorflow/lib/python3.6/site-packages/sklearn/metrics/classification.py:1135: UndefinedMetricWarning: Precision and F-score are ill-defined and being set to 0.0 in labels with no predicted samples.\n",
      "  'precision', 'predicted', average, warn_for)\n"
     ]
    },
    {
     "name": "stdout",
     "output_type": "stream",
     "text": [
      "      Hold  Buy Sell\n",
      "Hold: 59239  205  381\n",
      " Buy: 4198   32    8\n",
      "Sell: 4127    1   46\n",
      "Testing year: 2008\n",
      "      Hold  Buy Sell\n",
      "Hold:  220    0    0\n",
      " Buy:   19    0    0\n",
      "Sell:   14    0    0\n"
     ]
    },
    {
     "name": "stderr",
     "output_type": "stream",
     "text": [
      "/home/ubuntu/anaconda3/envs/tensorflow/lib/python3.6/site-packages/sklearn/metrics/classification.py:1135: UndefinedMetricWarning: Precision and F-score are ill-defined and being set to 0.0 in labels with no predicted samples.\n",
      "  'precision', 'predicted', average, warn_for)\n"
     ]
    },
    {
     "name": "stdout",
     "output_type": "stream",
     "text": [
      "      Hold  Buy Sell\n",
      "Hold: 59459  205  381\n",
      " Buy: 4217   32    8\n",
      "Sell: 4141    1   46\n",
      "Testing year: 2009\n",
      "      Hold  Buy Sell\n",
      "Hold:  219    3    0\n",
      " Buy:   16    1    0\n",
      "Sell:   13    0    0\n"
     ]
    },
    {
     "name": "stderr",
     "output_type": "stream",
     "text": [
      "/home/ubuntu/anaconda3/envs/tensorflow/lib/python3.6/site-packages/sklearn/metrics/classification.py:1135: UndefinedMetricWarning: Precision and F-score are ill-defined and being set to 0.0 in labels with no predicted samples.\n",
      "  'precision', 'predicted', average, warn_for)\n"
     ]
    },
    {
     "name": "stdout",
     "output_type": "stream",
     "text": [
      "      Hold  Buy Sell\n",
      "Hold: 59678  208  381\n",
      " Buy: 4233   33    8\n",
      "Sell: 4154    1   46\n",
      "Testing year: 2010\n",
      "      Hold  Buy Sell\n",
      "Hold:  226    0    0\n",
      " Buy:   14    0    0\n",
      "Sell:   12    0    0\n"
     ]
    },
    {
     "name": "stderr",
     "output_type": "stream",
     "text": [
      "/home/ubuntu/anaconda3/envs/tensorflow/lib/python3.6/site-packages/sklearn/metrics/classification.py:1135: UndefinedMetricWarning: Precision and F-score are ill-defined and being set to 0.0 in labels with no predicted samples.\n",
      "  'precision', 'predicted', average, warn_for)\n"
     ]
    },
    {
     "name": "stdout",
     "output_type": "stream",
     "text": [
      "      Hold  Buy Sell\n",
      "Hold: 59904  208  381\n",
      " Buy: 4247   33    8\n",
      "Sell: 4166    1   46\n",
      "Testing year: 2011\n",
      "      Hold  Buy Sell\n",
      "Hold:  226    0    0\n",
      " Buy:   14    0    0\n",
      "Sell:   12    0    0\n"
     ]
    },
    {
     "name": "stderr",
     "output_type": "stream",
     "text": [
      "/home/ubuntu/anaconda3/envs/tensorflow/lib/python3.6/site-packages/sklearn/metrics/classification.py:1135: UndefinedMetricWarning: Precision and F-score are ill-defined and being set to 0.0 in labels with no predicted samples.\n",
      "  'precision', 'predicted', average, warn_for)\n"
     ]
    },
    {
     "name": "stdout",
     "output_type": "stream",
     "text": [
      "      Hold  Buy Sell\n",
      "Hold: 60130  208  381\n",
      " Buy: 4261   33    8\n",
      "Sell: 4178    1   46\n",
      "Testing year: 2012\n",
      "      Hold  Buy Sell\n",
      "Hold:  213    0    0\n",
      " Buy:   18    0    0\n",
      "Sell:   19    0    0\n"
     ]
    },
    {
     "name": "stderr",
     "output_type": "stream",
     "text": [
      "/home/ubuntu/anaconda3/envs/tensorflow/lib/python3.6/site-packages/sklearn/metrics/classification.py:1135: UndefinedMetricWarning: Precision and F-score are ill-defined and being set to 0.0 in labels with no predicted samples.\n",
      "  'precision', 'predicted', average, warn_for)\n"
     ]
    },
    {
     "name": "stdout",
     "output_type": "stream",
     "text": [
      "      Hold  Buy Sell\n",
      "Hold: 60343  208  381\n",
      " Buy: 4279   33    8\n",
      "Sell: 4197    1   46\n",
      "Testing year: 2013\n",
      "      Hold  Buy Sell\n",
      "Hold:  227    0    0\n",
      " Buy:   11    0    0\n",
      "Sell:   14    0    0\n"
     ]
    },
    {
     "name": "stderr",
     "output_type": "stream",
     "text": [
      "/home/ubuntu/anaconda3/envs/tensorflow/lib/python3.6/site-packages/sklearn/metrics/classification.py:1135: UndefinedMetricWarning: Precision and F-score are ill-defined and being set to 0.0 in labels with no predicted samples.\n",
      "  'precision', 'predicted', average, warn_for)\n"
     ]
    },
    {
     "name": "stdout",
     "output_type": "stream",
     "text": [
      "      Hold  Buy Sell\n",
      "Hold: 60570  208  381\n",
      " Buy: 4290   33    8\n",
      "Sell: 4211    1   46\n",
      "Testing year: 2014\n",
      "      Hold  Buy Sell\n",
      "Hold:  223    0    0\n",
      " Buy:   16    0    0\n",
      "Sell:   13    0    0\n"
     ]
    },
    {
     "name": "stderr",
     "output_type": "stream",
     "text": [
      "/home/ubuntu/anaconda3/envs/tensorflow/lib/python3.6/site-packages/sklearn/metrics/classification.py:1135: UndefinedMetricWarning: Precision and F-score are ill-defined and being set to 0.0 in labels with no predicted samples.\n",
      "  'precision', 'predicted', average, warn_for)\n"
     ]
    },
    {
     "name": "stdout",
     "output_type": "stream",
     "text": [
      "      Hold  Buy Sell\n",
      "Hold: 60793  208  381\n",
      " Buy: 4306   33    8\n",
      "Sell: 4224    1   46\n",
      "Testing year: 2015\n",
      "      Hold  Buy Sell\n",
      "Hold:  219    0    0\n",
      " Buy:   16    0    0\n",
      "Sell:   17    0    0\n"
     ]
    },
    {
     "name": "stderr",
     "output_type": "stream",
     "text": [
      "/home/ubuntu/anaconda3/envs/tensorflow/lib/python3.6/site-packages/sklearn/metrics/classification.py:1135: UndefinedMetricWarning: Precision and F-score are ill-defined and being set to 0.0 in labels with no predicted samples.\n",
      "  'precision', 'predicted', average, warn_for)\n"
     ]
    },
    {
     "name": "stdout",
     "output_type": "stream",
     "text": [
      "      Hold  Buy Sell\n",
      "Hold: 61012  208  381\n",
      " Buy: 4322   33    8\n",
      "Sell: 4241    1   46\n",
      "Testing year: 2016\n",
      "      Hold  Buy Sell\n",
      "Hold:  218    0    0\n",
      " Buy:   18    0    0\n",
      "Sell:   16    0    0\n"
     ]
    },
    {
     "name": "stderr",
     "output_type": "stream",
     "text": [
      "/home/ubuntu/anaconda3/envs/tensorflow/lib/python3.6/site-packages/sklearn/metrics/classification.py:1135: UndefinedMetricWarning: Precision and F-score are ill-defined and being set to 0.0 in labels with no predicted samples.\n",
      "  'precision', 'predicted', average, warn_for)\n"
     ]
    },
    {
     "name": "stdout",
     "output_type": "stream",
     "text": [
      "      Hold  Buy Sell\n",
      "Hold: 61230  208  381\n",
      " Buy: 4340   33    8\n",
      "Sell: 4257    1   46\n",
      "Stock: XOM Total return: 80.07298264438447 Annualized return: 6.058347435297273\n",
      "Average annualized return: 2.533336564476834\n"
     ]
    }
   ],
   "source": [
    "with open('./logreg_results/results.txt', 'w') as f:\n",
    "        f.write('')\n",
    "\n",
    "results_dict = multiprocessing.Manager().dict()\n",
    "results_dict['test_results'] = []\n",
    "results_dict['Y_test_sum'] = np.array([])\n",
    "results_dict['y_pred_sum'] = np.array([])\n",
    "results_dict['conf_matrix'] = np.zeros((3, 3))\n",
    "results_dict['prediction'] = {}\n",
    "images_paths, labels_paths, stock_names = get_paths('./data')\n",
    "\n",
    "ann_return = []\n",
    "for s_ind, (i_path, l_path, s_name) in enumerate(zip(images_paths, labels_paths, stock_names)):\n",
    "    print(\"STOCK: %s\" % s_name)\n",
    "    with open(RESULTS_DIR + 'results.txt', 'a') as f:\n",
    "            f.write('\\nSTOCK: {}\\n'.format(s_name))\n",
    "\n",
    "    data = read_data(i_path, l_path, s_name)\n",
    "\n",
    "    results_dict['prediction'] = {}\n",
    "\n",
    "    start_year = 2007\n",
    "    years_num = 10\n",
    "    for i in range(years_num):\n",
    "        print('Testing year: ' + str(start_year + i))\n",
    "\n",
    "        (X_train, Y_train, input_shape), _, _ = data_extraction(data, (start_year - 5) + i, start_year + i, False)\n",
    "        (X_test, Y_test, input_shape), dates, prices = data_extraction(data, start_year + i, (start_year + 1) + i, False)\n",
    "\n",
    "        p = multiprocessing.Process(target=train_process, args=(X_train, Y_train, X_test, Y_test, dates, prices, start_year + i, results_dict))\n",
    "        p.start()\n",
    "        p.join()\n",
    "\n",
    "\n",
    "    total_return, annualized_return = Financial_Evaluation.simulate(results_dict['prediction'], s_name, years_num)\n",
    "    ann_return.append(annualized_return)\n",
    "\n",
    "\n",
    "print('Average annualized return:', sum(ann_return) / len(ann_return))\n",
    "# printing results\n",
    "num_samples = sum([x[1] for x in results_dict['test_results']])\n",
    "total_loss = sum([x[0] * x[1] for x in results_dict['test_results']]) / num_samples\n",
    "total_acc = sum([x[1] * x[1] for x in results_dict['test_results']]) / num_samples\n",
    "with open(RESULTS_DIR + 'results.txt', 'a') as f:\n",
    "    f.write('\\nNumber of samples: {}. Total Loss: {}. Total accuracy: {}.\\n'.format(num_samples, total_loss, total_acc))"
   ]
  },
  {
   "cell_type": "code",
   "execution_count": null,
   "metadata": {},
   "outputs": [],
   "source": []
  },
  {
   "cell_type": "code",
   "execution_count": null,
   "metadata": {},
   "outputs": [],
   "source": []
  },
  {
   "cell_type": "code",
   "execution_count": null,
   "metadata": {},
   "outputs": [],
   "source": []
  },
  {
   "cell_type": "code",
   "execution_count": null,
   "metadata": {},
   "outputs": [],
   "source": []
  },
  {
   "cell_type": "code",
   "execution_count": null,
   "metadata": {},
   "outputs": [],
   "source": []
  },
  {
   "cell_type": "code",
   "execution_count": null,
   "metadata": {},
   "outputs": [],
   "source": []
  },
  {
   "cell_type": "code",
   "execution_count": null,
   "metadata": {},
   "outputs": [],
   "source": []
  },
  {
   "cell_type": "code",
   "execution_count": null,
   "metadata": {},
   "outputs": [],
   "source": []
  },
  {
   "cell_type": "code",
   "execution_count": null,
   "metadata": {},
   "outputs": [],
   "source": []
  },
  {
   "cell_type": "code",
   "execution_count": null,
   "metadata": {},
   "outputs": [],
   "source": []
  },
  {
   "cell_type": "code",
   "execution_count": null,
   "metadata": {},
   "outputs": [],
   "source": []
  },
  {
   "cell_type": "code",
   "execution_count": null,
   "metadata": {},
   "outputs": [],
   "source": []
  },
  {
   "cell_type": "code",
   "execution_count": null,
   "metadata": {},
   "outputs": [],
   "source": []
  },
  {
   "cell_type": "code",
   "execution_count": null,
   "metadata": {},
   "outputs": [],
   "source": []
  },
  {
   "cell_type": "code",
   "execution_count": null,
   "metadata": {},
   "outputs": [],
   "source": []
  },
  {
   "cell_type": "code",
   "execution_count": null,
   "metadata": {},
   "outputs": [],
   "source": [
    "\n"
   ]
  }
 ],
 "metadata": {
  "kernelspec": {
   "display_name": "Python [conda env:tensorflow]",
   "language": "python",
   "name": "conda-env-tensorflow-py"
  },
  "language_info": {
   "codemirror_mode": {
    "name": "ipython",
    "version": 3
   },
   "file_extension": ".py",
   "mimetype": "text/x-python",
   "name": "python",
   "nbconvert_exporter": "python",
   "pygments_lexer": "ipython3",
   "version": "3.6.6"
  }
 },
 "nbformat": 4,
 "nbformat_minor": 2
}
