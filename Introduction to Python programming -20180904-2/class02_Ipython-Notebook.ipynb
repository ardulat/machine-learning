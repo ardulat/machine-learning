{
 "cells": [
  {
   "cell_type": "markdown",
   "metadata": {},
   "source": [
    "---\n",
    "### Exercises - IPython Notebook\n",
    "---"
   ]
  },
  {
   "cell_type": "markdown",
   "metadata": {},
   "source": [
    "Run a code cell using Shift-Enter or pressing the \"Play\" button in the toolbar above:"
   ]
  },
  {
   "cell_type": "code",
   "execution_count": 1,
   "metadata": {},
   "outputs": [
    {
     "name": "stdout",
     "output_type": "stream",
     "text": [
      "6\n"
     ]
    }
   ],
   "source": [
    "print(1+2+3)"
   ]
  },
  {
   "cell_type": "code",
   "execution_count": null,
   "metadata": {
    "collapsed": true,
    "scrolled": true
   },
   "outputs": [],
   "source": [
    "for number in [1,3,5,7,9,11,13,15,17]:\n",
    "    print(2*number)\n",
    "\n",
    "print(\"foo\")"
   ]
  },
  {
   "cell_type": "markdown",
   "metadata": {},
   "source": [
    "This is a markdown cell"
   ]
  },
  {
   "cell_type": "code",
   "execution_count": null,
   "metadata": {
    "collapsed": true,
    "scrolled": true
   },
   "outputs": [],
   "source": [
    "import time,sys\n",
    "\n",
    "for i in range(10):\n",
    "    print(i,)\n",
    "    time.sleep(0.5)"
   ]
  },
  {
   "cell_type": "markdown",
   "metadata": {},
   "source": [
    "**this is a test of markdown**\n",
    "*this is still a test of markdown*\n",
    "this is still a test of markdown"
   ]
  },
  {
   "cell_type": "markdown",
   "metadata": {},
   "source": [
    "Code is run in a separate process called the IPython Kernel. The Kernel can be interrupted or restarted. Try running the following cell and then hit the \"Stop\" button in the toolbar above."
   ]
  },
  {
   "cell_type": "code",
   "execution_count": null,
   "metadata": {
    "collapsed": true
   },
   "outputs": [],
   "source": [
    "import time\n",
    "time.sleep(100)"
   ]
  },
  {
   "cell_type": "markdown",
   "metadata": {},
   "source": [
    "Here are two system aliases:"
   ]
  },
  {
   "cell_type": "markdown",
   "metadata": {},
   "source": [
    "Tab completion:"
   ]
  },
  {
   "cell_type": "code",
   "execution_count": null,
   "metadata": {
    "collapsed": true
   },
   "outputs": [],
   "source": [
    "import numpy"
   ]
  },
  {
   "cell_type": "code",
   "execution_count": null,
   "metadata": {
    "collapsed": true
   },
   "outputs": [],
   "source": [
    "numpy.random."
   ]
  },
  {
   "cell_type": "markdown",
   "metadata": {},
   "source": [
    "Tab completion after ( brings up a tooltip with the docstring:"
   ]
  },
  {
   "cell_type": "code",
   "execution_count": null,
   "metadata": {
    "collapsed": true
   },
   "outputs": [],
   "source": [
    "numpy.random.rand("
   ]
  },
  {
   "cell_type": "markdown",
   "metadata": {},
   "source": [
    "Adding ? opens the docstring in the pager below:"
   ]
  },
  {
   "cell_type": "code",
   "execution_count": 2,
   "metadata": {
    "collapsed": true
   },
   "outputs": [],
   "source": [
    "magic?"
   ]
  },
  {
   "cell_type": "markdown",
   "metadata": {},
   "source": [
    "Exceptions are formatted nicely:"
   ]
  },
  {
   "cell_type": "code",
   "execution_count": null,
   "metadata": {
    "collapsed": true
   },
   "outputs": [],
   "source": [
    "x = 1\n",
    "y = 4\n",
    "z = y/(1-x)"
   ]
  },
  {
   "cell_type": "markdown",
   "metadata": {},
   "source": [
    "The %load magic lets you load code from URLs or local files:"
   ]
  },
  {
   "cell_type": "code",
   "execution_count": 3,
   "metadata": {
    "collapsed": true
   },
   "outputs": [],
   "source": [
    "%load?"
   ]
  },
  {
   "cell_type": "code",
   "execution_count": 4,
   "metadata": {},
   "outputs": [
    {
     "name": "stdout",
     "output_type": "stream",
     "text": [
      "Populating the interactive namespace from numpy and matplotlib\n"
     ]
    }
   ],
   "source": [
    "%pylab inline"
   ]
  },
  {
   "cell_type": "code",
   "execution_count": null,
   "metadata": {
    "collapsed": true
   },
   "outputs": [],
   "source": [
    "# %load http://matplotlib.org/mpl_examples/showcase/integral_demo.py\n",
    "\"\"\"\n",
    "Plot demonstrating the integral as the area under a curve.\n",
    "\n",
    "Although this is a simple example, it demonstrates some important tweaks:\n",
    "\n",
    "    * A simple line plot with custom color and line width.\n",
    "    * A shaded region created using a Polygon patch.\n",
    "    * A text label with mathtext rendering.\n",
    "    * figtext calls to label the x- and y-axes.\n",
    "    * Use of axis spines to hide the top and right spines.\n",
    "    * Custom tick placement and labels.\n",
    "\"\"\"\n",
    "import numpy as np\n",
    "import matplotlib.pyplot as plt\n",
    "from matplotlib.patches import Polygon\n",
    "\n",
    "\n",
    "def func(x):\n",
    "    return (x - 3) * (x - 5) * (x - 7) + 85\n",
    "\n",
    "\n",
    "a, b = 2, 9  # integral limits\n",
    "x = np.linspace(0, 10)\n",
    "y = func(x)\n",
    "\n",
    "fig, ax = plt.subplots()\n",
    "plt.plot(x, y, 'r', linewidth=2)\n",
    "plt.ylim(ymin=0)\n",
    "\n",
    "# Make the shaded region\n",
    "ix = np.linspace(a, b)\n",
    "iy = func(ix)\n",
    "verts = [(a, 0)] + list(zip(ix, iy)) + [(b, 0)]\n",
    "poly = Polygon(verts, facecolor='0.9', edgecolor='0.5')\n",
    "ax.add_patch(poly)\n",
    "\n",
    "plt.text(0.5 * (a + b), 30, r\"$\\int_a^b f(x)\\mathrm{d}x$\",\n",
    "         horizontalalignment='center', fontsize=20)\n",
    "\n",
    "plt.figtext(0.9, 0.05, '$x$')\n",
    "plt.figtext(0.1, 0.9, '$y$')\n",
    "\n",
    "ax.spines['right'].set_visible(False)\n",
    "ax.spines['top'].set_visible(False)\n",
    "ax.xaxis.set_ticks_position('bottom')\n",
    "\n",
    "ax.set_xticks((a, b))\n",
    "ax.set_xticklabels(('$a$', '$b$'))\n",
    "ax.set_yticks([])\n",
    "\n",
    "plt.show()\n"
   ]
  },
  {
   "cell_type": "markdown",
   "metadata": {},
   "source": [
    "To better handle large outputs, the output area can be collapsed. Run the following cell and then single- or double- click on the active area to the left of the output:"
   ]
  },
  {
   "cell_type": "code",
   "execution_count": null,
   "metadata": {
    "collapsed": true
   },
   "outputs": [],
   "source": [
    "for i in range(50):\n",
    "    print(i)"
   ]
  },
  {
   "cell_type": "markdown",
   "metadata": {},
   "source": [
    "Beyond a certain point, output will scroll automatically:"
   ]
  },
  {
   "cell_type": "code",
   "execution_count": null,
   "metadata": {
    "collapsed": true
   },
   "outputs": [],
   "source": [
    "for i in range(500):\n",
    "    print(2**i - 1)"
   ]
  },
  {
   "cell_type": "markdown",
   "metadata": {},
   "source": [
    "## Markdown"
   ]
  },
  {
   "cell_type": "markdown",
   "metadata": {},
   "source": [
    "Text can be added to IPython Notebooks using Markdown cells. Markdown is a popular markup language that is a superset of HTML. Its specification can be found here:\n",
    "http://daringfireball.net/projects/markdown/"
   ]
  },
  {
   "cell_type": "markdown",
   "metadata": {},
   "source": [
    "You can make text *italic* or **bold**.\n",
    "You can build nested itemized or enumerated lists:\n",
    "\n",
    "* One\n",
    "    - Sublist\n",
    "        - This\n",
    "  - Sublist\n",
    "        - That\n",
    "        - The other thing\n",
    "* Two\n",
    "  - Sublist\n",
    "* Three\n",
    "  - Sublist\n",
    "\n",
    "Now another list:\n",
    "\n",
    "1. Here we go\n",
    "    1. Sublist\n",
    "    2. Sublist\n",
    "2. There we go\n",
    "3. Now this\n",
    "\n",
    "You can add horizontal rules:\n",
    "\n",
    "---\n",
    "\n",
    "Here is a blockquote:\n",
    "\n",
    "> Beautiful is better than ugly.\n",
    "> Explicit is better than implicit.\n",
    "> Simple is better than complex.\n",
    "> Complex is better than complicated.\n",
    "> Flat is better than nested.\n",
    "> Sparse is better than dense.\n",
    "> Readability counts.\n",
    "> Special cases aren't special enough to break the rules.\n",
    "> Although practicality beats purity.\n",
    "> Errors should never pass silently.\n",
    "> Unless explicitly silenced.\n",
    "> In the face of ambiguity, refuse the temptation to guess.\n",
    "> There should be one-- and preferably only one --obvious way to do it.\n",
    "> Although that way may not be obvious at first unless you're Dutch.\n",
    "> Now is better than never.\n",
    "> Although never is often better than *right* now.\n",
    "> If the implementation is hard to explain, it's a bad idea.\n",
    "> If the implementation is easy to explain, it may be a good idea.\n",
    "> Namespaces are one honking great idea -- let's do more of those!\n",
    "\n",
    "And shorthand for links:\n",
    "\n",
    "[IPython's website](http://ipython.org)\n",
    "\n",
    "If you want, you can add headings using Markdown's syntax:\n",
    "\n",
    "# Heading 1\n",
    "# Heading 2\n",
    "## Heading 2.1\n",
    "## Heading 2.2"
   ]
  },
  {
   "cell_type": "markdown",
   "metadata": {},
   "source": [
    "You can embed code meant for illustration instead of execution in Python:\n",
    "\n",
    "    def f(x):\n",
    "        \"\"\"a docstring\"\"\"\n",
    "        return x**2\n",
    "\n",
    "or other languages:\n",
    "\n",
    "    if (i=0; i<n; i++) {\n",
    "      printf(\"hello %d\\n\", i);\n",
    "      x += 4;\n",
    "    }"
   ]
  },
  {
   "cell_type": "markdown",
   "metadata": {},
   "source": [
    "Because Markdown is a superset of HTML you can even add things like HTML tables:\n",
    "\n",
    "<table>\n",
    "<tr>\n",
    "<th>Header 1</th>\n",
    "<th>Header 2</th>\n",
    "</tr>\n",
    "<tr>\n",
    "<td>row 1, cell 1</td>\n",
    "<td>row 1, cell 2</td>\n",
    "</tr>\n",
    "<tr>\n",
    "<td>row 2, cell 1</td>\n",
    "<td>row 2, cell 2</td>\n",
    "</tr>\n",
    "</table>"
   ]
  },
  {
   "cell_type": "markdown",
   "metadata": {},
   "source": [
    "## Rich Display System"
   ]
  },
  {
   "cell_type": "markdown",
   "metadata": {},
   "source": [
    "To work with images (JPEG, PNG) use the Image class."
   ]
  },
  {
   "cell_type": "code",
   "execution_count": 5,
   "metadata": {},
   "outputs": [
    {
     "data": {
      "text/html": [
       "<img src=\"http://python.org/images/python-logo.gif\"/>"
      ],
      "text/plain": [
       "<IPython.core.display.Image object>"
      ]
     },
     "execution_count": 5,
     "metadata": {},
     "output_type": "execute_result"
    }
   ],
   "source": [
    "from IPython.display import Image\n",
    "Image(url='http://python.org/images/python-logo.gif')"
   ]
  },
  {
   "cell_type": "markdown",
   "metadata": {},
   "source": [
    "More exotic objects can also be displayed, as long as their representation supports the IPython display protocol. For example, videos hosted externally on YouTube are easy to load (and writing a similar wrapper for other hosted content is trivial):"
   ]
  },
  {
   "cell_type": "code",
   "execution_count": null,
   "metadata": {
    "collapsed": true
   },
   "outputs": [],
   "source": [
    "from IPython.display import YouTubeVideo\n",
    "YouTubeVideo('26wgEsg9Mcc')"
   ]
  },
  {
   "cell_type": "markdown",
   "metadata": {},
   "source": [
    "Python objects can declare HTML representations that will be displayed in the Notebook. If you have some HTML you want to display, simply use the HTML class."
   ]
  },
  {
   "cell_type": "code",
   "execution_count": 1,
   "metadata": {},
   "outputs": [
    {
     "data": {
      "text/html": [
       "<table>\n",
       "<tr>\n",
       "<th>Header 1</th>\n",
       "<th>Header 2</th>\n",
       "</tr>\n",
       "<tr>\n",
       "<td>row 1, cell 1</td>\n",
       "<td>row 1, cell 2</td>\n",
       "</tr>\n",
       "<tr>\n",
       "<td>row 2, cell 1</td>\n",
       "<td>row 2, cell 2</td>\n",
       "</tr>\n",
       "</table>"
      ],
      "text/plain": [
       "<IPython.core.display.HTML object>"
      ]
     },
     "execution_count": 1,
     "metadata": {},
     "output_type": "execute_result"
    }
   ],
   "source": [
    "from IPython.display import HTML\n",
    "s = \"\"\"<table>\n",
    "<tr>\n",
    "<th>Header 1</th>\n",
    "<th>Header 2</th>\n",
    "</tr>\n",
    "<tr>\n",
    "<td>row 1, cell 1</td>\n",
    "<td>row 1, cell 2</td>\n",
    "</tr>\n",
    "<tr>\n",
    "<td>row 2, cell 1</td>\n",
    "<td>row 2, cell 2</td>\n",
    "</tr>\n",
    "</table>\"\"\"\n",
    "h = HTML(s); h"
   ]
  },
  {
   "cell_type": "markdown",
   "metadata": {},
   "source": [
    "Pandas makes use of this capability to allow DataFrames to be represented as HTML tables."
   ]
  },
  {
   "cell_type": "code",
   "execution_count": null,
   "metadata": {
    "collapsed": true
   },
   "outputs": [],
   "source": [
    "import pandas"
   ]
  },
  {
   "cell_type": "code",
   "execution_count": null,
   "metadata": {
    "collapsed": true
   },
   "outputs": [],
   "source": [
    "%%file data.csv\n",
    "Date,Open,High,Low,Close,Volume,Adj Close\n",
    "2012-06-01,569.16,590.00,548.50,584.00,14077000,581.50\n",
    "2012-05-01,584.90,596.76,522.18,577.73,18827900,575.26\n",
    "2012-04-02,601.83,644.00,555.00,583.98,28759100,581.48\n",
    "2012-03-01,548.17,621.45,516.22,599.55,26486000,596.99\n",
    "2012-02-01,458.41,547.61,453.98,542.44,22001000,540.12\n",
    "2012-01-03,409.40,458.24,409.00,456.48,12949100,454.53"
   ]
  },
  {
   "cell_type": "code",
   "execution_count": null,
   "metadata": {
    "collapsed": true
   },
   "outputs": [],
   "source": [
    "df = pandas.read_csv('data.csv')\n",
    "df"
   ]
  },
  {
   "cell_type": "markdown",
   "metadata": {},
   "source": [
    "You can even embed an entire page from another site in an iframe; for example this is today's Wikipedia page for mobile users:"
   ]
  },
  {
   "cell_type": "code",
   "execution_count": null,
   "metadata": {
    "collapsed": true
   },
   "outputs": [],
   "source": [
    "from IPython.display import HTML\n",
    "HTML('<iframe src=https://en.m.wikipedia.org/wiki/Main_Page width=700 height=350></iframe>')"
   ]
  },
  {
   "cell_type": "markdown",
   "metadata": {},
   "source": [
    "### LaTeX"
   ]
  },
  {
   "cell_type": "markdown",
   "metadata": {},
   "source": [
    "IPython Notebook supports the display of mathematical expressions typeset in LaTeX"
   ]
  },
  {
   "cell_type": "markdown",
   "metadata": {},
   "source": [
    "$$F(k) = \\int_{-\\infty}^{\\infty} f(x) e^{2\\pi i k} dx$$"
   ]
  },
  {
   "cell_type": "code",
   "execution_count": 1,
   "metadata": {},
   "outputs": [
    {
     "data": {
      "text/latex": [
       "$$F(k) = \\int_{-\\infty}^{\\infty} f(x) e^{2\\pi i k} dx$$"
      ],
      "text/plain": [
       "<IPython.core.display.Math object>"
      ]
     },
     "execution_count": 1,
     "metadata": {},
     "output_type": "execute_result"
    }
   ],
   "source": [
    "from IPython.display import Math\n",
    "Math(r'F(k) = \\int_{-\\infty}^{\\infty} f(x) e^{2\\pi i k} dx')"
   ]
  },
  {
   "cell_type": "code",
   "execution_count": 2,
   "metadata": {},
   "outputs": [
    {
     "data": {
      "text/latex": [
       "\\begin{eqnarray}\n",
       "\\nabla \\times \\vec{\\mathbf{B}} -\\, \\frac1c\\, \\frac{\\partial\\vec{\\mathbf{E}}}{\\partial t} & = \\frac{4\\pi}{c}\\vec{\\mathbf{j}} \\\\\n",
       "\\nabla \\cdot \\vec{\\mathbf{E}} & = 4 \\pi \\rho \\\\\n",
       "\\nabla \\times \\vec{\\mathbf{E}}\\, +\\, \\frac1c\\, \\frac{\\partial\\vec{\\mathbf{B}}}{\\partial t} & = \\vec{\\mathbf{0}} \\\\\n",
       "\\nabla \\cdot \\vec{\\mathbf{B}} & = 0 \n",
       "\\end{eqnarray}"
      ],
      "text/plain": [
       "<IPython.core.display.Latex object>"
      ]
     },
     "execution_count": 2,
     "metadata": {},
     "output_type": "execute_result"
    }
   ],
   "source": [
    "from IPython.display import Latex\n",
    "Latex(r\"\"\"\\begin{eqnarray}\n",
    "\\nabla \\times \\vec{\\mathbf{B}} -\\, \\frac1c\\, \\frac{\\partial\\vec{\\mathbf{E}}}{\\partial t} & = \\frac{4\\pi}{c}\\vec{\\mathbf{j}} \\\\\n",
    "\\nabla \\cdot \\vec{\\mathbf{E}} & = 4 \\pi \\rho \\\\\n",
    "\\nabla \\times \\vec{\\mathbf{E}}\\, +\\, \\frac1c\\, \\frac{\\partial\\vec{\\mathbf{B}}}{\\partial t} & = \\vec{\\mathbf{0}} \\\\\n",
    "\\nabla \\cdot \\vec{\\mathbf{B}} & = 0 \n",
    "\\end{eqnarray}\"\"\")"
   ]
  },
  {
   "cell_type": "markdown",
   "metadata": {},
   "source": [
    "# EXERCISES: find the error and correct the following statements"
   ]
  },
  {
   "cell_type": "code",
   "execution_count": null,
   "metadata": {
    "collapsed": true
   },
   "outputs": [],
   "source": [
    "for i in range(10):\n",
    "    print i,"
   ]
  },
  {
   "cell_type": "code",
   "execution_count": 6,
   "metadata": {},
   "outputs": [
    {
     "ename": "SyntaxError",
     "evalue": "Missing parentheses in call to 'print'. Did you mean print(\"\"\"This is a \ntext with two lines\"\"\")? (<ipython-input-6-96bc2f69db1e>, line 2)",
     "output_type": "error",
     "traceback": [
      "\u001b[0;36m  File \u001b[0;32m\"<ipython-input-6-96bc2f69db1e>\"\u001b[0;36m, line \u001b[0;32m2\u001b[0m\n\u001b[0;31m    text with two lines\"\"\"\u001b[0m\n\u001b[0m                          \n^\u001b[0m\n\u001b[0;31mSyntaxError\u001b[0m\u001b[0;31m:\u001b[0m Missing parentheses in call to 'print'. Did you mean print(\"\"\"This is a \ntext with two lines\"\"\")?\n"
     ]
    }
   ],
   "source": [
    "print \"\"\"This is a \n",
    "text with two lines\"\"\""
   ]
  },
  {
   "cell_type": "code",
   "execution_count": 7,
   "metadata": {},
   "outputs": [
    {
     "ename": "SyntaxError",
     "evalue": "invalid syntax (<ipython-input-7-3aa6fd0ea170>, line 1)",
     "output_type": "error",
     "traceback": [
      "\u001b[0;36m  File \u001b[0;32m\"<ipython-input-7-3aa6fd0ea170>\"\u001b[0;36m, line \u001b[0;32m1\u001b[0m\n\u001b[0;31m    a = 10;    print a\u001b[0m\n\u001b[0m                     ^\u001b[0m\n\u001b[0;31mSyntaxError\u001b[0m\u001b[0;31m:\u001b[0m invalid syntax\n"
     ]
    }
   ],
   "source": [
    "a = 10;    print a"
   ]
  },
  {
   "cell_type": "code",
   "execution_count": null,
   "metadata": {
    "collapsed": true
   },
   "outputs": [],
   "source": [
    "a = 10\n",
    "if a == 10:\n",
    "    print a"
   ]
  },
  {
   "cell_type": "code",
   "execution_count": null,
   "metadata": {
    "collapsed": true
   },
   "outputs": [],
   "source": [
    "b = 20\n",
    "print b"
   ]
  },
  {
   "cell_type": "code",
   "execution_count": null,
   "metadata": {
    "collapsed": true
   },
   "outputs": [],
   "source": [
    "import string\n",
    "print string.lowercase"
   ]
  },
  {
   "cell_type": "code",
   "execution_count": null,
   "metadata": {
    "collapsed": true
   },
   "outputs": [],
   "source": [
    "l = range(10)\n",
    "# print first and last element\n",
    "print l[0], l[9]"
   ]
  },
  {
   "cell_type": "code",
   "execution_count": null,
   "metadata": {
    "collapsed": true
   },
   "outputs": [],
   "source": [
    "def qsort(l):\n",
    "    \"\"\"\n",
    "    Quicksort using list comprehensions\n",
    "    \"\"\"\n",
    "    if l == []: \n",
    "        return []\n",
    "    else:\n",
    "        pivot = l[0]\n",
    "        lesser = qsort([x for x in l[1:] if x < pivot])\n",
    "        greater = qsort([x for x in l[1:] if x >= pivot])\n",
    "        return lesser + [pivot] + greater\n",
    "\n",
    "l = qsort([3, 1, 4, 1, 5, 9, 2, 6, 5, 3, 5, 8, 9, 7, 9, 3])\n",
    "for i in range(1,len(l)):\n",
    "    if l[i] < l[i-1]:\n",
    "        print \"FAILED:\", l\n",
    "        break\n",
    "else:\n",
    "    print \"SUCCESS:\", l"
   ]
  },
  {
   "cell_type": "markdown",
   "metadata": {},
   "source": [
    "# EXERCISE: Perceptron"
   ]
  },
  {
   "cell_type": "markdown",
   "metadata": {},
   "source": [
    "Create a comma-separated values (csv) file with the features (x1, x2) and the target (y)"
   ]
  },
  {
   "cell_type": "code",
   "execution_count": null,
   "metadata": {
    "collapsed": true
   },
   "outputs": [],
   "source": [
    "%%file data.csv\n",
    "x1,x2,y\n",
    "0.4946,5.7661,0\n",
    "4.7206,5.7661,1\n",
    "1.2888,5.3433,0\n",
    "4.2898,5.3433,1\n",
    "1.4293,4.5592,0\n",
    "4.2286,4.5592,1\n",
    "1.1921,5.8563,0\n",
    "3.1454,5.8563,1\n",
    "1.063,5.7357,0\n",
    "5.1043,5.7357,1\n",
    "1.5079,5.8622,0\n",
    "3.9799,5.8622,1\n",
    "0.2678,6.9931,0\n",
    "4.5288,6.9931,1\n",
    "0.9726,3.6268,0\n",
    "4.106,3.6268,0\n",
    "2.5389,3.3884,0\n",
    "4.7555,3.3884,1\n",
    "2.473,5.6404,0\n",
    "4.7977,5.6404,1"
   ]
  },
  {
   "cell_type": "markdown",
   "metadata": {},
   "source": [
    "Open the csv file, parse it and add the data to a list."
   ]
  },
  {
   "cell_type": "code",
   "execution_count": null,
   "metadata": {
    "collapsed": true
   },
   "outputs": [],
   "source": [
    "f = open('data.csv')\n",
    "data = []\n",
    "\n",
    "# consume the header line\n",
    "f.readline()\n",
    "\n",
    "# read and parse the lines\n",
    "for line in f:\n",
    "    (x1,x2,y) = line.split(',')\n",
    "    x1 = float(x1)\n",
    "    x2 = float(x2)\n",
    "    y = int(y)\n",
    "    data.append((x1,x2,y))\n",
    "    \n",
    "plot([x1 for (x1,x2,y) in data if y==0], [x2 for (x1,x2,y) in data if y==0], 'o', mec='r', mfc='none')\n",
    "plot([x1 for (x1,x2,y) in data if y==1], [x2 for (x1,x2,y) in data if y==1], 'o', mec='g', mfc='none')"
   ]
  },
  {
   "cell_type": "markdown",
   "metadata": {},
   "source": [
    "Perceptron implementation. `w` is the list of weights, where `w[0]` is the $threshold$ value.\n",
    "\n",
    "The predict function should return 0 if $\\sum_{i=1}^n{w_ix_i} < threshold$ and 1 otherwise.\n",
    "\n",
    "The fit function should update the weights with values able to separate linearly the two classes.\n",
    "You can use this algorithm to implement it:\n",
    "\n",
    "For each example `j` in our training set, perform this:  \n",
    "If the target value (y) is different from the predicted value (i.e., an error occurred), update the weights with $W \\leftarrow W + yX$.  \n",
    "Do it until you have no more errors."
   ]
  },
  {
   "cell_type": "code",
   "execution_count": 11,
   "metadata": {},
   "outputs": [
    {
     "name": "stdout",
     "output_type": "stream",
     "text": [
      "SUCCESS!\n"
     ]
    }
   ],
   "source": [
    "w = [0, 0, 0]\n",
    "\n",
    "def predict(x1,x2):\n",
    "    y = w[0] + w[1] * x1 + w[2] * x2\n",
    "    if y < 0:\n",
    "        return 0\n",
    "    else:\n",
    "        return 1\n",
    "\n",
    "def fit(data):\n",
    "    while True: \n",
    "        error_count = 0\n",
    "        \n",
    "        for x1, x2, y in data:\n",
    "            \n",
    "            ypred = predict(x1, x2)\n",
    "            if ypred == 0 :\n",
    "                ypred = -1\n",
    "            if y == 0:\n",
    "                y = -1\n",
    "            \n",
    "            if y != ypred:\n",
    "                \n",
    "                error_count += 1\n",
    "                w[1] = w[1] + y * x1\n",
    "                w[2] = w[2] + y * x2\n",
    "                w[0] = w[0] + y\n",
    "        \n",
    "        \n",
    "        if error_count == 0:\n",
    "            break\n",
    "\n",
    "fit(data)\n",
    "\n",
    "# Check if the model is correct\n",
    "for (x1, x2, y) in data:\n",
    "    if predict(x1,x2) != y:\n",
    "        print ('FAIL')\n",
    "        break\n",
    "else:\n",
    "    print ('SUCCESS!')"
   ]
  },
  {
   "cell_type": "code",
   "execution_count": 12,
   "metadata": {},
   "outputs": [
    {
     "data": {
      "text/plain": [
       "[<matplotlib.lines.Line2D at 0x8193ac8>]"
      ]
     },
     "execution_count": 12,
     "metadata": {},
     "output_type": "execute_result"
    },
    {
     "data": {
      "image/png": "[encoded data removed]",
      "text/plain": [
       "<Figure size 432x288 with 1 Axes>"
      ]
     },
     "metadata": {},
     "output_type": "display_data"
    }
   ],
   "source": [
    "def f(x):\n",
    "    return -(w[0] + w[1]*x)/w[2]\n",
    "\n",
    "d = np.arange(2, 6)\n",
    "plt.plot(d, [f(x) for x in d])\n",
    "\n",
    "plt.plot([x1 for (x1,x2,y) in data if y==0],\n",
    "        [x2 for (x1,x2,y) in data if y==0], 'o', mec='r', mfc='none')\n",
    "plt.plot([x1 for (x1,x2,y) in data if y==1],\n",
    "         [x2 for (x1,x2,y) in data if y==1], 'o', mec='g', mfc='none')"
   ]
  },
  {
   "cell_type": "code",
   "execution_count": null,
   "metadata": {
    "collapsed": true
   },
   "outputs": [],
   "source": []
  }
 ],
 "metadata": {
  "kernelspec": {
   "display_name": "Python 3",
   "language": "python",
   "name": "python3"
  },
  "language_info": {
   "codemirror_mode": {
    "name": "ipython",
    "version": 3
   },
   "file_extension": ".py",
   "mimetype": "text/x-python",
   "name": "python",
   "nbconvert_exporter": "python",
   "pygments_lexer": "ipython3",
   "version": "3.6.3"
  }
 },
 "nbformat": 4,
 "nbformat_minor": 2
}
